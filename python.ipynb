{
  "nbformat": 4,
  "nbformat_minor": 0,
  "metadata": {
    "colab": {
      "provenance": []
    },
    "kernelspec": {
      "name": "python3",
      "display_name": "Python 3"
    },
    "language_info": {
      "name": "python"
    }
  },
  "cells": [
    {
      "cell_type": "code",
      "execution_count": 61,
      "metadata": {
        "id": "tSBS7EP1j2Qe"
      },
      "outputs": [],
      "source": []
    },
    {
      "cell_type": "code",
      "source": [],
      "metadata": {
        "id": "6OwPZXFWRHAl"
      },
      "execution_count": 61,
      "outputs": []
    },
    {
      "cell_type": "code",
      "source": [],
      "metadata": {
        "id": "v5rSt_bCkPHu"
      },
      "execution_count": 61,
      "outputs": []
    },
    {
      "cell_type": "code",
      "source": [
        "def test_func(x, items=[]):\n",
        "    items.append(x)\n",
        "    return items\n",
        "\n",
        "print(test_func(1))\n",
        "print(test_func(2))"
      ],
      "metadata": {
        "id": "R6f5ZceoqF2m",
        "outputId": "efb15b12-e441-4097-e947-054cc520d59a",
        "colab": {
          "base_uri": "https://localhost:8080/"
        }
      },
      "execution_count": 62,
      "outputs": [
        {
          "output_type": "stream",
          "name": "stdout",
          "text": [
            "[1]\n",
            "[1, 2]\n"
          ]
        }
      ]
    },
    {
      "cell_type": "code",
      "source": [
        "a=input(\"word    :\")\n",
        "vovels = 'aeiouAEIOU'\n",
        "x= 0\n",
        "for i in a:\n",
        "  if i in vovels:\n",
        "    x = x+1\n",
        "\n",
        "x"
      ],
      "metadata": {
        "id": "Z1N2ETN26UCC",
        "colab": {
          "base_uri": "https://localhost:8080/"
        },
        "outputId": "68683703-20c4-4057-e413-592d518101a3"
      },
      "execution_count": 63,
      "outputs": [
        {
          "name": "stdout",
          "output_type": "stream",
          "text": [
            "word    :mubashir\n"
          ]
        },
        {
          "output_type": "execute_result",
          "data": {
            "text/plain": [
              "3"
            ]
          },
          "metadata": {},
          "execution_count": 63
        }
      ]
    },
    {
      "cell_type": "code",
      "source": [
        "import copy\n",
        "x = [1, [2, 3]]\n",
        "\n",
        "# Create a shallow copy\n",
        "y = copy.copy(x)\n",
        "\n",
        "# Modify inner object in the copy\n",
        "y[1][0] = 99\n",
        "\n",
        "print(\"Original:\", x)  # Output: [1, [99, 3]]\n",
        "print(\"Shallow Copy:\", y)"
      ],
      "metadata": {
        "colab": {
          "base_uri": "https://localhost:8080/"
        },
        "id": "xKavulhYMva7",
        "outputId": "eeceed3f-1306-48be-99bc-b6ea51d86ebd"
      },
      "execution_count": 64,
      "outputs": [
        {
          "output_type": "stream",
          "name": "stdout",
          "text": [
            "Original: [1, [99, 3]]\n",
            "Shallow Copy: [1, [99, 3]]\n"
          ]
        }
      ]
    },
    {
      "cell_type": "code",
      "execution_count": 65,
      "metadata": {
        "colab": {
          "base_uri": "https://localhost:8080/"
        },
        "id": "lC_KKdV-iZmp",
        "outputId": "b58a6d25-fdb4-4d5d-e50c-ee3742b23886"
      },
      "outputs": [
        {
          "output_type": "stream",
          "name": "stdout",
          "text": [
            "5\n",
            "6\n",
            "11\n"
          ]
        }
      ],
      "source": [
        "a=int(input())\n",
        "b=int(input())\n",
        "print(a+b)"
      ]
    },
    {
      "cell_type": "markdown",
      "metadata": {
        "id": "GZ7iyIvsL5bb"
      },
      "source": [
        "# New Section"
      ]
    },
    {
      "cell_type": "code",
      "execution_count": 66,
      "metadata": {
        "colab": {
          "base_uri": "https://localhost:8080/"
        },
        "id": "rWYA9s6elroE",
        "outputId": "11836f34-7b80-4994-80af-3948c6dd282d"
      },
      "outputs": [
        {
          "output_type": "stream",
          "name": "stdout",
          "text": [
            "enter a number45\n",
            "enter another number25\n",
            "70\n"
          ]
        }
      ],
      "source": [
        "a=int(input(\"enter a number\"))\n",
        "b=int(input(\"enter another number\"))\n",
        "print(a+b)"
      ]
    },
    {
      "cell_type": "code",
      "execution_count": 67,
      "metadata": {
        "colab": {
          "base_uri": "https://localhost:8080/"
        },
        "id": "Lga1k63mAq-0",
        "outputId": "39d30866-da5b-404e-a767-67144f409462"
      },
      "outputs": [
        {
          "output_type": "stream",
          "name": "stdout",
          "text": [
            "enter your marks65\n",
            "d\n"
          ]
        }
      ],
      "source": [
        "mark = float(input(\"enter your marks\"))\n",
        "def get_grade(x):\n",
        "  if x>=90:\n",
        "    print(\"A\")\n",
        "  elif x>=80:\n",
        "    print(\"B\")\n",
        "  elif x>=70:\n",
        "    print(\"c\")\n",
        "  elif x>=60:\n",
        "    print(\"d\")\n",
        "  elif x>=50:\n",
        "    print(\"e\")\n",
        "get_grade(mark)"
      ]
    },
    {
      "cell_type": "code",
      "execution_count": 68,
      "metadata": {
        "colab": {
          "base_uri": "https://localhost:8080/"
        },
        "id": "vs8EEXhKWA8v",
        "outputId": "30917559-6ff3-4fcd-e32c-d2f600c0604d"
      },
      "outputs": [
        {
          "output_type": "stream",
          "name": "stdout",
          "text": [
            "2\n"
          ]
        }
      ],
      "source": [
        "import random\n",
        "a=random.randrange(1,10)\n",
        "print(a)\n",
        "#it will only take numbr's bw 1-9"
      ]
    },
    {
      "cell_type": "code",
      "execution_count": 69,
      "metadata": {
        "colab": {
          "base_uri": "https://localhost:8080/"
        },
        "id": "BF7VLWGLWuqX",
        "outputId": "51af4b73-fda7-4b9f-b657-7615f40c041c"
      },
      "outputs": [
        {
          "output_type": "stream",
          "name": "stdout",
          "text": [
            "7\n"
          ]
        }
      ],
      "source": [
        "import random\n",
        "a=random.randint(1,10)\n",
        "print(a)\n",
        "#it will take number's bw 1-10"
      ]
    },
    {
      "cell_type": "code",
      "execution_count": 70,
      "metadata": {
        "colab": {
          "base_uri": "https://localhost:8080/"
        },
        "id": "YyyTeXW2feGy",
        "outputId": "cb83f482-01d3-48b3-a126-bac40e6a93a6"
      },
      "outputs": [
        {
          "output_type": "stream",
          "name": "stdout",
          "text": [
            "0.0\n",
            "3.141592653589793\n"
          ]
        }
      ],
      "source": [
        "import math\n",
        "x=math.sin(0)\n",
        "y=math.pi\n",
        "print(x)\n",
        "print(y)\n"
      ]
    },
    {
      "cell_type": "code",
      "execution_count": 71,
      "metadata": {
        "colab": {
          "base_uri": "https://localhost:8080/"
        },
        "id": "6DqkWahthjyF",
        "outputId": "2f7d5164-8ebe-4cd6-8395-59ba44d28ca0"
      },
      "outputs": [
        {
          "output_type": "stream",
          "name": "stdout",
          "text": [
            "3.141592653589793\n",
            "0.0\n"
          ]
        }
      ],
      "source": [
        "from math import sin,pi\n",
        "print(pi)\n",
        "print(sin(0))\n",
        "# math il ninn sin,pi imprt akan firsr linile pole (from (import yevdna aknda name like  \"math\")import (yenthano import aknde ath like \"sin,pi\"))"
      ]
    },
    {
      "cell_type": "code",
      "execution_count": 72,
      "metadata": {
        "colab": {
          "base_uri": "https://localhost:8080/"
        },
        "id": "l0DUngr3i5oh",
        "outputId": "33d9f9c0-3d07-4e76-f599-d2fa924ad3e1"
      },
      "outputs": [
        {
          "output_type": "stream",
          "name": "stdout",
          "text": [
            "0.0\n"
          ]
        }
      ],
      "source": [
        "import math\n",
        "x=math.tan(0)\n",
        "print(x)\n",
        "# oru pkgl ninn oru data imprt cheyyan = import (pakage name) next line== x=(pkg name).(specific data name and value in bracket()) next line= print(x)\n"
      ]
    },
    {
      "cell_type": "code",
      "execution_count": 73,
      "metadata": {
        "colab": {
          "base_uri": "https://localhost:8080/"
        },
        "id": "N1-LKKn5715p",
        "outputId": "ef00f49a-dd4d-431d-d451-c40a142882ad"
      },
      "outputs": [
        {
          "output_type": "stream",
          "name": "stdout",
          "text": [
            "2\n",
            "2\n",
            "4\n"
          ]
        }
      ],
      "source": [
        "import random\n",
        "x=random.randrange(1,3)\n",
        "y=random.randint(2,5)\n",
        "print(x)\n",
        "print(y)\n",
        "print(x**y)\n",
        "# qustion?= write program that genarate a random number b/w 1-50 , a random number y b/w 2-5,and compute x**y (x squer y)\n",
        "# print(x),print(Y) pakaram print(x,y) cheythal mathi."
      ]
    },
    {
      "cell_type": "code",
      "execution_count": 74,
      "metadata": {
        "colab": {
          "base_uri": "https://localhost:8080/"
        },
        "id": "q-jCZ_W5VTNK",
        "outputId": "ad123c59-36f3-4013-cafe-04a0a9b40cf9"
      },
      "outputs": [
        {
          "output_type": "stream",
          "name": "stdout",
          "text": [
            "john\n",
            "\n",
            " i'am \n",
            "john\n",
            "i'am \"john\"\n"
          ]
        }
      ],
      "source": [
        "a='john'\n",
        "b=\"\\n i'am \\njohn\"\n",
        "c='''i'am \"john\"'''\n",
        "print(a)\n",
        "print(b)\n",
        "print(c)\n",
        "# (\\n) kodthal new lane il ahn varuk .. eqution nte athym kodthal"
      ]
    },
    {
      "cell_type": "code",
      "execution_count": 75,
      "metadata": {
        "colab": {
          "base_uri": "https://localhost:8080/"
        },
        "id": "JFSkvv0zcvgQ",
        "outputId": "70f53bac-c080-461c-ed37-55870e52f019"
      },
      "outputs": [
        {
          "output_type": "stream",
          "name": "stdout",
          "text": [
            "hel\n"
          ]
        }
      ],
      "source": [
        "c=\"hello\"\n",
        "print(c[0:3])\n",
        "# hello yenna wordle athyathe 3 letters print akaan= print(c[0:3]) kodkam"
      ]
    },
    {
      "cell_type": "code",
      "execution_count": 76,
      "metadata": {
        "colab": {
          "base_uri": "https://localhost:8080/"
        },
        "id": "QWVnUP1tfoHy",
        "outputId": "f3bd791e-4587-4522-e287-ccd39753739e"
      },
      "outputs": [
        {
          "output_type": "stream",
          "name": "stdout",
          "text": [
            "sie\n"
          ]
        }
      ],
      "source": [
        "c=\"smile\"\n",
        "print(c[0::2])\n",
        "# print(c[0::2]) 0= start .  blank=stop .  2=step   ( c[start:stop:step])\n"
      ]
    },
    {
      "cell_type": "code",
      "execution_count": 77,
      "metadata": {
        "colab": {
          "base_uri": "https://localhost:8080/"
        },
        "id": "9wNaufNVkAoW",
        "outputId": "d0e3e70b-1304-44fd-faa3-c98df58f0dee"
      },
      "outputs": [
        {
          "output_type": "stream",
          "name": "stdout",
          "text": [
            "doog\n"
          ]
        }
      ],
      "source": [
        "a=\"good\"\n",
        "print(a[::-1])\n",
        "# good yenn ullath thirich idan .   start and stop blank aki  step=-1 kodthal mathi - print(c[::-1])\n"
      ]
    },
    {
      "cell_type": "code",
      "execution_count": 78,
      "metadata": {
        "colab": {
          "base_uri": "https://localhost:8080/"
        },
        "id": "7bfDBS0OmYSh",
        "outputId": "480decb3-03dd-49b0-feb0-b545c39cd1dc"
      },
      "outputs": [
        {
          "output_type": "stream",
          "name": "stdout",
          "text": [
            "neymar\n",
            "<class 'list'>\n"
          ]
        }
      ],
      "source": [
        "list1=[\"neymar\",8,98,\"john\"]\n",
        "print(list1[0])\n",
        "print(type(list1))\n",
        "# list yeth type list anenn manasil akaan  - print(type(list)) yenn adichal mathis"
      ]
    },
    {
      "cell_type": "code",
      "execution_count": 79,
      "metadata": {
        "colab": {
          "base_uri": "https://localhost:8080/"
        },
        "id": "k47GYWyXprYK",
        "outputId": "474ed7ce-a304-4e03-8019-e5a2d4b4cfcf"
      },
      "outputs": [
        {
          "output_type": "stream",
          "name": "stdout",
          "text": [
            "mike\n"
          ]
        }
      ],
      "source": [
        "list1=[\"neymar\",9,88,\"john\"]\n",
        "list1[0]=\"mike\"\n",
        "print(list1[0])"
      ]
    },
    {
      "cell_type": "code",
      "execution_count": 80,
      "metadata": {
        "colab": {
          "base_uri": "https://localhost:8080/"
        },
        "id": "6j82xfgi1fsd",
        "outputId": "49674768-c279-4b0d-f6a5-0e8b4728057d"
      },
      "outputs": [
        {
          "output_type": "stream",
          "name": "stdout",
          "text": [
            "john\n",
            "i'am john\n",
            "\n",
            " i'am \"john\"\n"
          ]
        }
      ],
      "source": [
        "a=\"john\"\n",
        "b=\"i'am john\"\n",
        "c='''\\n i'am \"john\"'''\n",
        "print(a)\n",
        "print(b)\n",
        "print(c)"
      ]
    },
    {
      "cell_type": "code",
      "execution_count": 81,
      "metadata": {
        "colab": {
          "base_uri": "https://localhost:8080/"
        },
        "id": "p5rD3PX7vutD",
        "outputId": "29c4257e-df68-4096-8bb9-619f5b56f308"
      },
      "outputs": [
        {
          "output_type": "stream",
          "name": "stdout",
          "text": [
            "org\n"
          ]
        }
      ],
      "source": [
        "a=\"goodmorning\"\n",
        "print(a[2::4])"
      ]
    },
    {
      "cell_type": "code",
      "execution_count": 82,
      "metadata": {
        "colab": {
          "base_uri": "https://localhost:8080/"
        },
        "id": "JKCIwghHMrQv",
        "outputId": "51bb9daa-0846-41db-ca7a-92a30a9b1ecd"
      },
      "outputs": [
        {
          "output_type": "stream",
          "name": "stdout",
          "text": [
            "abc\n"
          ]
        }
      ],
      "source": [
        "a=\"ABC\"\n",
        "print(a.lower())"
      ]
    },
    {
      "cell_type": "code",
      "execution_count": 83,
      "metadata": {
        "colab": {
          "base_uri": "https://localhost:8080/"
        },
        "id": "QQ99GQbzL5_8",
        "outputId": "4e8141b1-09dc-4bed-b81e-66e4be83cd50"
      },
      "outputs": [
        {
          "output_type": "stream",
          "name": "stdout",
          "text": [
            "ANSHIF\n"
          ]
        }
      ],
      "source": [
        "s=\"anshif\"\n",
        "print(s.upper())"
      ]
    },
    {
      "cell_type": "code",
      "execution_count": 84,
      "metadata": {
        "colab": {
          "base_uri": "https://localhost:8080/"
        },
        "id": "1GXeffnqYrM0",
        "outputId": "4dc0dbd7-f959-4f98-f9ed-15e82f85e7b9"
      },
      "outputs": [
        {
          "output_type": "stream",
          "name": "stdout",
          "text": [
            "ANSHIF\n",
            "anshif\n"
          ]
        }
      ],
      "source": [
        "s=\"anshif\"\n",
        "print(s.upper())\n",
        "b=\"ANSHIF\"\n",
        "print(b.lower())"
      ]
    },
    {
      "cell_type": "code",
      "execution_count": 85,
      "metadata": {
        "colab": {
          "base_uri": "https://localhost:8080/"
        },
        "id": "9_xoBaKjYtNy",
        "outputId": "4bce606b-a043-4cb3-d080-ce64336dcc46"
      },
      "outputs": [
        {
          "output_type": "stream",
          "name": "stdout",
          "text": [
            "h\n"
          ]
        }
      ],
      "source": [
        "a=\" hi hello\" # to remove   space from brgening\n",
        "b=a.strip()\n",
        "print(b[0])\n"
      ]
    },
    {
      "cell_type": "code",
      "execution_count": 86,
      "metadata": {
        "colab": {
          "base_uri": "https://localhost:8080/"
        },
        "id": "k4jpmuFLZhiK",
        "outputId": "2b34251d-fa8e-4cff-d6d6-8910fce9ed1b"
      },
      "outputs": [
        {
          "output_type": "stream",
          "name": "stdout",
          "text": [
            "['hi', 'hello']\n",
            "5\n"
          ]
        }
      ],
      "source": [
        "a=\"hi hello\" # split based on specific charcter (\" \",\" @\")\n",
        "print(a.split(\" \"))\n",
        "b=a.split(\" \")\n",
        "print(len(b[1]))"
      ]
    },
    {
      "cell_type": "code",
      "execution_count": 87,
      "metadata": {
        "colab": {
          "base_uri": "https://localhost:8080/"
        },
        "id": "NzYbMGbzZxuE",
        "outputId": "0e7028c5-cec6-478e-e7e6-973c89bdd656"
      },
      "outputs": [
        {
          "output_type": "stream",
          "name": "stdout",
          "text": [
            "['hi', 'hello']\n"
          ]
        }
      ],
      "source": [
        "a=\"hi%hello\"\n",
        "print(a.split(\"%\"))"
      ]
    },
    {
      "cell_type": "code",
      "execution_count": 88,
      "metadata": {
        "colab": {
          "base_uri": "https://localhost:8080/"
        },
        "id": "pUOxpoULaZEh",
        "outputId": "75f80d67-60c6-4ab6-9da9-f742f72399fb"
      },
      "outputs": [
        {
          "output_type": "stream",
          "name": "stdout",
          "text": [
            "hi logic\n"
          ]
        }
      ],
      "source": [
        "a=\"learn logic\"\n",
        "print(a.replace(\"learn\",\"hi\"))"
      ]
    },
    {
      "cell_type": "code",
      "execution_count": 89,
      "metadata": {
        "colab": {
          "base_uri": "https://localhost:8080/"
        },
        "id": "V4LuEbm34G4b",
        "outputId": "f1535f81-0e77-4a5f-e304-56cc0f8bce0d"
      },
      "outputs": [
        {
          "output_type": "stream",
          "name": "stdout",
          "text": [
            "True\n",
            "False\n"
          ]
        }
      ],
      "source": [
        "s=\"new\"\n",
        "print(s.isalpha())\n",
        "b=\"9\"\n",
        "print(b.isalpha())"
      ]
    },
    {
      "cell_type": "code",
      "execution_count": 90,
      "metadata": {
        "colab": {
          "base_uri": "https://localhost:8080/"
        },
        "id": "xyXxv6Rb4PWE",
        "outputId": "863f4d48-c59e-43cd-91c6-443dfece29f5"
      },
      "outputs": [
        {
          "output_type": "stream",
          "name": "stdout",
          "text": [
            "number of seconds59\n",
            "0 59\n"
          ]
        }
      ],
      "source": [
        "# Q? write a program that ask the user for a number of seconds and prints out how many seconds that is. for instance,200 seconds is 3 minutes and 20 seconds.\n",
        "# [hint: use the // operator  to get minuts and the % for operator for seconds.]???\n",
        "a=int(input(\"number of seconds\"))\n",
        "minutes=(a//60)\n",
        "seconds=(a%60)\n",
        "print(minutes,seconds)\n"
      ]
    },
    {
      "cell_type": "code",
      "execution_count": 91,
      "metadata": {
        "colab": {
          "base_uri": "https://localhost:8080/"
        },
        "id": "rmScsnYt4gYE",
        "outputId": "9ba63f0c-0eea-4e46-86d5-d9969ec3518e"
      },
      "outputs": [
        {
          "output_type": "stream",
          "name": "stdout",
          "text": [
            "photozynthesis\n"
          ]
        }
      ],
      "source": [
        "# q? photosynthesis le s change aki z akuka?\n",
        "s=\"photosynthesis\"\n",
        "list1=list(s)\n",
        "list1[5]=\"z\"\n",
        "s=''.join(list1)\n",
        "print(s)"
      ]
    },
    {
      "cell_type": "code",
      "execution_count": 92,
      "metadata": {
        "colab": {
          "base_uri": "https://localhost:8080/"
        },
        "id": "0LPwTDiD4nls",
        "outputId": "e0d2f8b3-df18-4ace-a01e-12ac1d6bd90c"
      },
      "outputs": [
        {
          "output_type": "stream",
          "name": "stdout",
          "text": [
            "photozynthesis\n"
          ]
        }
      ],
      "source": [
        "s=\"photosynthesis\"\n",
        "b=s[0:5]+\"z\"+s[6:]\n",
        "print(b)"
      ]
    },
    {
      "cell_type": "code",
      "execution_count": 93,
      "metadata": {
        "colab": {
          "base_uri": "https://localhost:8080/"
        },
        "id": "q1vvOvmd7H0r",
        "outputId": "316b5841-a566-4b6c-f8de-a53239c16861"
      },
      "outputs": [
        {
          "output_type": "stream",
          "name": "stdout",
          "text": [
            "iam a\"geek\"\n",
            "iam a\tgeek\n",
            "iam a\n",
            "geek\n",
            "iam a\\geek\n"
          ]
        }
      ],
      "source": [
        "a=\"iam a\\\"geek\\\"\"\n",
        "b=\"iam a\\tgeek\"\n",
        "c=\"iam a\\ngeek\"\n",
        "d=\"iam a\\\\geek\"\n",
        "print(a)\n",
        "print(b)\n",
        "print(c)\n",
        "print(d)"
      ]
    },
    {
      "cell_type": "code",
      "execution_count": 94,
      "metadata": {
        "colab": {
          "base_uri": "https://localhost:8080/"
        },
        "id": "tP0ScDqj6AEc",
        "outputId": "000040a9-348a-4b14-f3cb-93e7ba491fcf"
      },
      "outputs": [
        {
          "output_type": "stream",
          "name": "stdout",
          "text": [
            "enter your namemubashir\n",
            "enter age21\n",
            "my name is mubashir\n",
            "iam 21 years old\n"
          ]
        }
      ],
      "source": [
        "a=input(\"enter your name\")\n",
        "b=int(input(\"enter age\"))\n",
        "print(f\"my name is {a}\")\n",
        "print(f\"iam {b} years old\")\n",
        "#    equation=   print(f\"_____ {}\")"
      ]
    },
    {
      "cell_type": "code",
      "execution_count": 95,
      "metadata": {
        "colab": {
          "base_uri": "https://localhost:8080/"
        },
        "id": "DJCdhIZg6oZb",
        "outputId": "b612bf5f-eb2e-46a3-8d6a-597c120b3cd6"
      },
      "outputs": [
        {
          "output_type": "stream",
          "name": "stdout",
          "text": [
            "enter your age21\n",
            "enter your placeperinthalmanna\n",
            "iam 21 years old,iam from perinthalmanna\n"
          ]
        }
      ],
      "source": [
        "age=int(input(\"enter your age\"))\n",
        "place=(input(\"enter your place\"))\n",
        "s=\"iam {} years old,iam from {}\".format(age,place)\n",
        "print(s)"
      ]
    },
    {
      "cell_type": "code",
      "execution_count": 96,
      "metadata": {
        "colab": {
          "base_uri": "https://localhost:8080/"
        },
        "id": "V4NKLryEOc4D",
        "outputId": "b0353452-b83a-4ea1-ed65-d99ef302d664"
      },
      "outputs": [
        {
          "output_type": "stream",
          "name": "stdout",
          "text": [
            "[70, 50, 65, 82, 10]\n"
          ]
        }
      ],
      "source": [
        "a=100,50,65,82,10\n",
        "b=list(a)\n",
        "b[0]=70\n",
        "print(b)"
      ]
    },
    {
      "cell_type": "code",
      "execution_count": 97,
      "metadata": {
        "colab": {
          "base_uri": "https://localhost:8080/"
        },
        "id": "-IHOsbzO9q8j",
        "outputId": "490a837a-0e84-40da-93fd-642cd5d50cf3"
      },
      "outputs": [
        {
          "output_type": "stream",
          "name": "stdout",
          "text": [
            "iamnotgreatfull\n"
          ]
        }
      ],
      "source": [
        "a=\"iamnorgreatfell\"\n",
        "b=a[:5]+\"t\"+a[6:12]+\"u\"+a[13:]\n",
        "print(b)"
      ]
    },
    {
      "cell_type": "code",
      "execution_count": 98,
      "metadata": {
        "colab": {
          "base_uri": "https://localhost:8080/"
        },
        "id": "tQ1itSmgICt6",
        "outputId": "62ef1373-f035-451f-9264-512ac673918c"
      },
      "outputs": [
        {
          "output_type": "stream",
          "name": "stdout",
          "text": [
            "iambadperson\n"
          ]
        }
      ],
      "source": [
        "a=\"iambvdperstn\"\n",
        "b=a[:4]+\"a\"+a[5:10]+\"o\"+a[-1:]\n",
        "print(b)"
      ]
    },
    {
      "cell_type": "code",
      "execution_count": 99,
      "metadata": {
        "colab": {
          "base_uri": "https://localhost:8080/"
        },
        "id": "gKtK5gwXLVIt",
        "outputId": "488a38e0-86d0-4a2d-cfb8-75d02de61f2c"
      },
      "outputs": [
        {
          "output_type": "stream",
          "name": "stdout",
          "text": [
            "bagisnotwet\n"
          ]
        }
      ],
      "source": [
        "a=\"baginnotwtt\"\n",
        "b = a[:4]+\"s\"+a[5:9]+\"e\"+a[-1]\n",
        "print(b)"
      ]
    },
    {
      "cell_type": "code",
      "execution_count": 100,
      "metadata": {
        "colab": {
          "base_uri": "https://localhost:8080/"
        },
        "id": "DuYA0VBuNWGh",
        "outputId": "0027a4d1-29db-4518-d236-c4f71b8ec490"
      },
      "outputs": [
        {
          "output_type": "stream",
          "name": "stdout",
          "text": [
            "thisisfreeperid\n"
          ]
        }
      ],
      "source": [
        "a=\"thisesfreeterid\"\n",
        "b=a[:4]+\"i\"+a[5:10]+\"p\"+a[11:]\n",
        "print(b)"
      ]
    },
    {
      "cell_type": "code",
      "execution_count": 101,
      "metadata": {
        "colab": {
          "base_uri": "https://localhost:8080/"
        },
        "id": "cXqtIdHRyObu",
        "outputId": "125d4b5f-595c-4bb7-cb1f-307463e2a451"
      },
      "outputs": [
        {
          "output_type": "stream",
          "name": "stdout",
          "text": [
            "3\n"
          ]
        }
      ],
      "source": [
        "s=\"hhh\"\n",
        "print(s.count(\"h\"))\n",
        "# equation= print(x.count(\"\"))"
      ]
    },
    {
      "cell_type": "code",
      "execution_count": 102,
      "metadata": {
        "colab": {
          "base_uri": "https://localhost:8080/"
        },
        "id": "hal7zn0n0Xzp",
        "outputId": "2d6ab699-6936-4a0a-a2da-e1ec2ce934dc"
      },
      "outputs": [
        {
          "output_type": "stream",
          "name": "stdout",
          "text": [
            "hellohello\n",
            "\n",
            "hello\n",
            "hello\n",
            "\thello\thello\n",
            "\\hello\\hello\n"
          ]
        }
      ],
      "source": [
        "s=\"hello\"\n",
        "print(s*2)\n",
        "b=\"\\nhello\"\n",
        "print(b*2)\n",
        "c=\"\\thello\"\n",
        "print(c*2)\n",
        "d=\"\\hello\"\n",
        "print(d*2)"
      ]
    },
    {
      "cell_type": "code",
      "execution_count": 103,
      "metadata": {
        "colab": {
          "base_uri": "https://localhost:8080/"
        },
        "id": "LeYgF_ll5KNv",
        "outputId": "8a91a075-0b90-4543-f655-0ad7aee7a512"
      },
      "outputs": [
        {
          "output_type": "stream",
          "name": "stdout",
          "text": [
            "i have 2 cars and 3 bikes\n"
          ]
        }
      ],
      "source": [
        "s=\"i have {0} cars and {1} bikes\".format(2,3,4)\n",
        "print(s)"
      ]
    },
    {
      "cell_type": "code",
      "execution_count": 104,
      "metadata": {
        "colab": {
          "base_uri": "https://localhost:8080/"
        },
        "id": "V66i9kCx7PPJ",
        "outputId": "cfd8ac49-284c-40c0-89cd-0495cd705b4b"
      },
      "outputs": [
        {
          "output_type": "stream",
          "name": "stdout",
          "text": [
            "enter numer of cars5\n",
            "enter number of cars5\n",
            "i have 5 cars and 5 bikes\n"
          ]
        }
      ],
      "source": [
        "x=int(input(\"enter numer of cars\"))\n",
        "y=int(input(\"enter number of cars\"))\n",
        "print(\"i have {} cars and {} bikes\".format(x,y))"
      ]
    },
    {
      "cell_type": "code",
      "execution_count": 105,
      "metadata": {
        "colab": {
          "base_uri": "https://localhost:8080/"
        },
        "id": "GRo_gJhSmZEX",
        "outputId": "62f7219a-2f44-4cf3-9af1-a7990a76a300"
      },
      "outputs": [
        {
          "output_type": "stream",
          "name": "stdout",
          "text": [
            "goodmorning\n"
          ]
        }
      ],
      "source": [
        "a=\"goodmorning\"\n",
        "b=a # In Python, assignment creates a new reference to the same string object\n",
        "print(b)       # This will print the same string as 'a'   # string not allow  copy()"
      ]
    },
    {
      "cell_type": "code",
      "execution_count": 106,
      "metadata": {
        "colab": {
          "base_uri": "https://localhost:8080/"
        },
        "id": "fhqVip9n8y6R",
        "outputId": "4751b5f1-be6b-4a29-cf6f-9a7a0ab2a612"
      },
      "outputs": [
        {
          "output_type": "execute_result",
          "data": {
            "text/plain": [
              "list"
            ]
          },
          "metadata": {},
          "execution_count": 106
        }
      ],
      "source": [
        "x=[1,2,3]\n",
        "type(x)\n"
      ]
    },
    {
      "cell_type": "code",
      "execution_count": 107,
      "metadata": {
        "colab": {
          "base_uri": "https://localhost:8080/"
        },
        "id": "Wv13M0Kb_Rrh",
        "outputId": "5255d330-3c76-4032-a1f6-4ca310d611e8"
      },
      "outputs": [
        {
          "output_type": "execute_result",
          "data": {
            "text/plain": [
              "int"
            ]
          },
          "metadata": {},
          "execution_count": 107
        }
      ],
      "source": [
        "c=[1,2,3]\n",
        "type(c[0])"
      ]
    },
    {
      "cell_type": "code",
      "execution_count": 108,
      "metadata": {
        "colab": {
          "base_uri": "https://localhost:8080/"
        },
        "id": "pz6dDoq1_Wee",
        "outputId": "96a4cbdd-ebe7-4e13-bb3f-c8721b6dedb8"
      },
      "outputs": [
        {
          "output_type": "stream",
          "name": "stdout",
          "text": [
            "[1, 2, 3, 4, 5]\n"
          ]
        }
      ],
      "source": [
        "l=[1,2,3,4]\n",
        "l.append(5)   # equation=  l.append()\n",
        "print(l)"
      ]
    },
    {
      "cell_type": "code",
      "execution_count": 109,
      "metadata": {
        "colab": {
          "base_uri": "https://localhost:8080/"
        },
        "id": "FBvTp3IaE98Z",
        "outputId": "bd92f98c-04aa-4af8-a8a5-38fbfca4c531"
      },
      "outputs": [
        {
          "output_type": "stream",
          "name": "stdout",
          "text": [
            "[1, 5, 2, 3, 4]\n"
          ]
        }
      ],
      "source": [
        "l=[1,2,3,4,]\n",
        "l.insert(1,5)    # equation=  l.insert(position,add number)\n",
        "print(l)"
      ]
    },
    {
      "cell_type": "code",
      "execution_count": 110,
      "metadata": {
        "colab": {
          "base_uri": "https://localhost:8080/"
        },
        "id": "TEUsiDEYFnfG",
        "outputId": "2321c47d-c753-42d9-9e12-7e18068fa55a"
      },
      "outputs": [
        {
          "output_type": "stream",
          "name": "stdout",
          "text": [
            "[1, 2, 3, 4, 9, 8, 7]\n",
            "[1, 2, 3, 4, 9, 8, 7, 5, 6]\n"
          ]
        }
      ],
      "source": [
        "l=[1,2,3,4]\n",
        "x=[9,8,7]\n",
        "c=[5,6]\n",
        "l.extend(x)            # equation=  l.extend(x)\n",
        "print(l)\n",
        "l.extend(c)\n",
        "print(l)"
      ]
    },
    {
      "cell_type": "code",
      "execution_count": 111,
      "metadata": {
        "colab": {
          "base_uri": "https://localhost:8080/"
        },
        "id": "AW0irbWbIWWi",
        "outputId": "a2ef245c-5b76-43fb-94c9-bd2d81b8a8de"
      },
      "outputs": [
        {
          "output_type": "stream",
          "name": "stdout",
          "text": [
            "[1, 2]\n"
          ]
        }
      ],
      "source": [
        "l=[1,2,3]\n",
        "l.pop()       # equation=  l.pop()\n",
        "print(l)      # index use cheyth change akan"
      ]
    },
    {
      "cell_type": "code",
      "execution_count": 112,
      "metadata": {
        "colab": {
          "base_uri": "https://localhost:8080/"
        },
        "id": "QrpybGN0Kq3g",
        "outputId": "fb7554f6-0196-4e1f-b4af-db8a823b31bc"
      },
      "outputs": [
        {
          "output_type": "stream",
          "name": "stdout",
          "text": [
            "[1, 2, 3]\n"
          ]
        }
      ],
      "source": [
        "l=[1,2,3,4]\n",
        "l.remove(4)  # element use aki remove aakm\n",
        "print(l)"
      ]
    },
    {
      "cell_type": "code",
      "execution_count": 113,
      "metadata": {
        "colab": {
          "base_uri": "https://localhost:8080/"
        },
        "id": "pncwaz6CVnwQ",
        "outputId": "7fc00364-7261-41c2-c186-db8dce06723e"
      },
      "outputs": [
        {
          "output_type": "stream",
          "name": "stdout",
          "text": [
            "[2, 3, 4]\n"
          ]
        }
      ],
      "source": [
        "l=[1,2,3,4]\n",
        "del l[0]\n",
        "print(l)"
      ]
    },
    {
      "cell_type": "code",
      "execution_count": 114,
      "metadata": {
        "colab": {
          "base_uri": "https://localhost:8080/"
        },
        "id": "2qNkhMeMXZco",
        "outputId": "e495f70c-8005-43a2-fefe-2eace5aeac26"
      },
      "outputs": [
        {
          "output_type": "stream",
          "name": "stdout",
          "text": [
            "[]\n"
          ]
        }
      ],
      "source": [
        "l=[1,2,3,4]\n",
        "l.clear()\n",
        "print(l)"
      ]
    },
    {
      "cell_type": "code",
      "execution_count": 115,
      "metadata": {
        "colab": {
          "base_uri": "https://localhost:8080/"
        },
        "id": "VzOXJxa6YHM3",
        "outputId": "513c42a3-763b-435d-e9ef-ce839f6f5814"
      },
      "outputs": [
        {
          "output_type": "stream",
          "name": "stdout",
          "text": [
            "20\n",
            "30\n",
            "40\n"
          ]
        }
      ],
      "source": [
        "l=[20,30,40]\n",
        "for x in l:\n",
        "  print(x)"
      ]
    },
    {
      "cell_type": "code",
      "execution_count": 61,
      "metadata": {
        "colab": {
          "base_uri": "https://localhost:8080/"
        },
        "id": "3hw6-j-WaqpZ",
        "outputId": "36fe445b-304e-493d-b6f3-af873b038dac"
      },
      "outputs": [
        {
          "output_type": "stream",
          "name": "stdout",
          "text": [
            "22\n",
            "32\n",
            "42\n"
          ]
        }
      ],
      "source": [
        "l=[20,30,40]\n",
        "for x in l:\n",
        "  print(x+2)"
      ]
    },
    {
      "cell_type": "code",
      "execution_count": 116,
      "metadata": {
        "id": "hyE4LUhYbyWI",
        "colab": {
          "base_uri": "https://localhost:8080/"
        },
        "outputId": "a9e12046-f54f-4fbe-c287-d207ddb43d46"
      },
      "outputs": [
        {
          "output_type": "stream",
          "name": "stdout",
          "text": [
            "5\n",
            "10\n",
            "15\n",
            "20\n"
          ]
        }
      ],
      "source": [
        "l=[1,2,3,4]\n",
        "for x in l:\n",
        "  print(x*5)"
      ]
    },
    {
      "cell_type": "code",
      "execution_count": 117,
      "metadata": {
        "colab": {
          "base_uri": "https://localhost:8080/"
        },
        "id": "HeT4D4vWcna3",
        "outputId": "dcde11a7-b975-4680-89ce-c53ac270f25a"
      },
      "outputs": [
        {
          "output_type": "stream",
          "name": "stdout",
          "text": [
            "2\n",
            "4\n",
            "6\n"
          ]
        }
      ],
      "source": [
        "l=[1,2,3,4,5,6]\n",
        "for x in l:\n",
        " if x%2==0:\n",
        "  print(x)"
      ]
    },
    {
      "cell_type": "code",
      "execution_count": 118,
      "metadata": {
        "colab": {
          "base_uri": "https://localhost:8080/"
        },
        "id": "DXabFVQJdkbx",
        "outputId": "05ee3ef7-9b30-4e36-83b5-eaba80e89d1d"
      },
      "outputs": [
        {
          "output_type": "stream",
          "name": "stdout",
          "text": [
            "1\n",
            "3\n",
            "5\n"
          ]
        }
      ],
      "source": [
        "l=[1,2,3,4,5,6]\n",
        "for x in l:\n",
        " if x%2==1:\n",
        "  print(x)"
      ]
    },
    {
      "cell_type": "code",
      "execution_count": 119,
      "metadata": {
        "colab": {
          "base_uri": "https://localhost:8080/"
        },
        "id": "fvOhuL-hdxkF",
        "outputId": "1f9cd790-d1bf-4f24-f6e6-456f1460fcd0"
      },
      "outputs": [
        {
          "output_type": "stream",
          "name": "stdout",
          "text": [
            "[1, 2, 3, 4, 5, 6, 7, 8, 9, 10]\n"
          ]
        }
      ],
      "source": [
        "# using for loop create a list containing elements from 1-10?\n",
        "l=[]\n",
        "for x in range (1,11):\n",
        "  l.append(x)\n",
        "print(l)\n",
        "\n"
      ]
    },
    {
      "cell_type": "code",
      "execution_count": null,
      "metadata": {
        "id": "ct7gZtVOhejB"
      },
      "outputs": [],
      "source": [
        "a=\"view sonic\"\n",
        "if 'w' in a:\n",
        "  print(\"true\")\n",
        "else:\n",
        "  print(\"false\")"
      ]
    },
    {
      "cell_type": "code",
      "execution_count": 120,
      "metadata": {
        "colab": {
          "base_uri": "https://localhost:8080/"
        },
        "id": "pzyvJMhoxcW7",
        "outputId": "f845a0c9-2d84-4367-c119-5a780bf2cc77"
      },
      "outputs": [
        {
          "output_type": "stream",
          "name": "stdout",
          "text": [
            "true\n"
          ]
        }
      ],
      "source": [
        "a=\"view sonic\"\n",
        "if 'w' not in a:\n",
        "  print(\"false\")\n",
        "else:\n",
        "  print(\"true\")"
      ]
    },
    {
      "cell_type": "code",
      "execution_count": 121,
      "metadata": {
        "colab": {
          "base_uri": "https://localhost:8080/"
        },
        "id": "XDMjK4GNx04q",
        "outputId": "37fa0d8c-4e69-4b47-c8cb-4ded84bd9b8a"
      },
      "outputs": [
        {
          "output_type": "stream",
          "name": "stdout",
          "text": [
            "type anythingmubashir\n",
            "mubashirmubashirmubashirmubashirmubashirmubashirmubashirmubashirmubashirmubashir\n",
            "m\n",
            "mub\n",
            "hir\n",
            "rihsabum\n",
            "ubas\n",
            "i\n",
            "MUBASHIR\n",
            "mubashir\n",
            " m u b a s h i r \n"
          ]
        }
      ],
      "source": [
        "a=(input(\"type anything\"))\n",
        "print(a*10)\n",
        "print(a[0])\n",
        "print(a[:3])\n",
        "print(a[-3:])\n",
        "print(a[::-1])\n",
        "print(a[1:5])\n",
        "if len(a)>7:\n",
        "  print(a[6])\n",
        "else:\n",
        "  print(\"error\")\n",
        "print(a.upper())\n",
        "print(a.replace(\"n\",\"e\"))\n",
        "print(a.replace(\"\",\" \"))\n",
        "\n",
        "\n",
        "\n",
        "\n"
      ]
    },
    {
      "cell_type": "code",
      "execution_count": 122,
      "metadata": {
        "colab": {
          "base_uri": "https://localhost:8080/"
        },
        "id": "nzCwclul80r-",
        "outputId": "ba246031-32b7-4f9f-eb1d-68867ab7878f"
      },
      "outputs": [
        {
          "output_type": "stream",
          "name": "stdout",
          "text": [
            "[1, 2, 3]\n"
          ]
        }
      ],
      "source": [
        "# 1?   write a program that creat an empty list,append 1, 2, 3, to the list ,and print the list?\n",
        "\n",
        "a=[]\n",
        "a.append(1)\n",
        "a.append(2)\n",
        "a.append(3)\n",
        "print(a)"
      ]
    },
    {
      "cell_type": "code",
      "execution_count": 123,
      "metadata": {
        "colab": {
          "base_uri": "https://localhost:8080/"
        },
        "id": "NjXPNPT88vmW",
        "outputId": "9429c85d-0212-48db-e757-ffc733ac9b6f"
      },
      "outputs": [
        {
          "output_type": "stream",
          "name": "stdout",
          "text": [
            "['white', 'green', 'black', 'red']\n"
          ]
        }
      ],
      "source": [
        "# 2? write a program that creat a list of colors,insert a new color at the second position, and then print the modified list?\n",
        "\n",
        "a=[\"white\",\"blue\",\"black\",\"red\"]\n",
        "a[1]=\"green\"\n",
        "print(a)"
      ]
    },
    {
      "cell_type": "code",
      "execution_count": 124,
      "metadata": {
        "colab": {
          "base_uri": "https://localhost:8080/"
        },
        "id": "-3DFldHX-7ER",
        "outputId": "5b2c49d8-c0c5-4a7c-82f8-c00c6ba470e3"
      },
      "outputs": [
        {
          "output_type": "stream",
          "name": "stdout",
          "text": [
            "[1, 2, 3, 9, 8, 7, 6]\n"
          ]
        }
      ],
      "source": [
        "#3? write a program that creats two list of numbers , extend the first list with the elemnts of the second list,and then print the compined list?\n",
        "\n",
        "a=[1,2,3]\n",
        "b=[9,8,7,6]\n",
        "a.extend(b)\n",
        "print(a)"
      ]
    },
    {
      "cell_type": "code",
      "execution_count": 125,
      "metadata": {
        "colab": {
          "base_uri": "https://localhost:8080/"
        },
        "id": "Vp55YboS_vUP",
        "outputId": "38f06708-b71b-4e58-8aa2-ba86b4119a06"
      },
      "outputs": [
        {
          "output_type": "stream",
          "name": "stdout",
          "text": [
            "['cat', 'tiger']\n"
          ]
        }
      ],
      "source": [
        "# 4?   wtite a program that creats a list of animals,remove one animal from the list using remove() methord,and then print the modified list?\n",
        "\n",
        "a=[\"dog\",\"cat\",\"tiger\"]\n",
        "a.remove(\"dog\")\n",
        "print(a)"
      ]
    },
    {
      "cell_type": "code",
      "execution_count": 126,
      "metadata": {
        "colab": {
          "base_uri": "https://localhost:8080/"
        },
        "id": "pwOkwi_qA0Y4",
        "outputId": "1350e689-b844-47bc-91bc-664f3b70b827"
      },
      "outputs": [
        {
          "output_type": "stream",
          "name": "stdout",
          "text": [
            "['apple', 'banana']\n"
          ]
        }
      ],
      "source": [
        "# 5? write a program that creat list of fruits name,use the pop methord to remove the last fruit from the list,and print the modified list?\n",
        "\n",
        "a=[\"apple\",\"banana\",\"pineaple\"]\n",
        "a.pop()\n",
        "print(a)"
      ]
    },
    {
      "cell_type": "code",
      "execution_count": 127,
      "metadata": {
        "colab": {
          "base_uri": "https://localhost:8080/"
        },
        "id": "SkY07gIDBt5Z",
        "outputId": "b270c1a2-4e36-4482-f985-6b19134cc713"
      },
      "outputs": [
        {
          "output_type": "stream",
          "name": "stdout",
          "text": [
            "['bmv', 'toyota']\n"
          ]
        }
      ],
      "source": [
        "# 6?  write program that creats a list of cars , use the del keyword to remove the second car from the list, and print the modified list?\n",
        "\n",
        "a=[\"bmv\",\"benz\",\"toyota\"]\n",
        "del a[1]\n",
        "print(a)"
      ]
    },
    {
      "cell_type": "code",
      "execution_count": 128,
      "metadata": {
        "colab": {
          "base_uri": "https://localhost:8080/"
        },
        "id": "JiqoUx_EDYyP",
        "outputId": "e1c57125-d614-43c3-f4c8-cbd53a0da12a"
      },
      "outputs": [
        {
          "output_type": "stream",
          "name": "stdout",
          "text": [
            "[]\n"
          ]
        }
      ],
      "source": [
        "# 7?  write program that creat list of cities ,use the clear() methord to empty the list and print the modified list?\n",
        "\n",
        "a=[\"puthanathani\",\"malappuram\",\"kottakkal\"]\n",
        "a.clear()\n",
        "print(a)"
      ]
    },
    {
      "cell_type": "code",
      "execution_count": 129,
      "metadata": {
        "colab": {
          "base_uri": "https://localhost:8080/"
        },
        "id": "g26o1HRhGHpf",
        "outputId": "3b2331f1-aa25-41d7-f73e-d5eee76ef669"
      },
      "outputs": [
        {
          "output_type": "stream",
          "name": "stdout",
          "text": [
            "anshif\n",
            "shafna\n",
            "anshiii\n",
            "sheriii\n"
          ]
        }
      ],
      "source": [
        "# 8? write a program a creat the list of of names, loops through the list and print each name on new line?\n",
        "\n",
        "a=[\"anshif\",\"shafna\",\"anshiii\",\"sheriii\"]\n",
        "for x in a:\n",
        "  print(x)\n"
      ]
    },
    {
      "cell_type": "code",
      "execution_count": 130,
      "metadata": {
        "colab": {
          "base_uri": "https://localhost:8080/"
        },
        "id": "Xg1ZfwdpGh2o",
        "outputId": "5c247b90-9ec7-40d8-9897-84ad21f715b1"
      },
      "outputs": [
        {
          "output_type": "stream",
          "name": "stdout",
          "text": [
            "0 : 1\n",
            "1 : 2\n",
            "2 : 3\n",
            "3 : 4\n",
            "4 : 5\n",
            "5 : 6\n"
          ]
        }
      ],
      "source": [
        "# 9?  write a program that creats alist of numbers, loops through the list using  afor loop and the index , and print each numbers along with its index?\n",
        "a=[1,2,3,4,5,6]\n",
        "for x in range(len(a)):\n",
        "  print(x,\":\",a[x])\n"
      ]
    },
    {
      "cell_type": "code",
      "execution_count": 131,
      "metadata": {
        "colab": {
          "base_uri": "https://localhost:8080/"
        },
        "id": "L-qkoeDiVv8k",
        "outputId": "5c64c0d1-91bb-4e36-83dc-fe6f27e8857e"
      },
      "outputs": [
        {
          "output_type": "execute_result",
          "data": {
            "text/plain": [
              "[(0, 1), (1, 2), (2, 3), (3, 4), (4, 5), (5, 6)]"
            ]
          },
          "metadata": {},
          "execution_count": 131
        }
      ],
      "source": [
        "a=[1,2,3,4,5,6]\n",
        "[(x,a[x]) for x in range(len(a))]\n"
      ]
    },
    {
      "cell_type": "code",
      "execution_count": 132,
      "metadata": {
        "colab": {
          "base_uri": "https://localhost:8080/"
        },
        "id": "VsXfZOrZI91X",
        "outputId": "1320cd20-73f4-4f68-f2f6-6ea53b84e5a1"
      },
      "outputs": [
        {
          "output_type": "stream",
          "name": "stdout",
          "text": [
            "1\n",
            "4\n",
            "9\n",
            "16\n",
            "25\n"
          ]
        }
      ],
      "source": [
        "# 10?  write a program that creats a list of squers of numbers from 1-5 using list comprehension and then print the list?\n",
        "\n",
        "a=[1,2,3,4,5]\n",
        "for x in a:\n",
        "  print(x**2)"
      ]
    },
    {
      "cell_type": "code",
      "execution_count": 133,
      "metadata": {
        "colab": {
          "base_uri": "https://localhost:8080/"
        },
        "id": "T8CBOhrHKXa_",
        "outputId": "188d1485-fdc9-4620-ae6c-a349b2a9654c"
      },
      "outputs": [
        {
          "output_type": "execute_result",
          "data": {
            "text/plain": [
              "[1, 4, 9, 16, 25]"
            ]
          },
          "metadata": {},
          "execution_count": 133
        }
      ],
      "source": [
        "[i**2 for i in range(1,6)]"
      ]
    },
    {
      "cell_type": "code",
      "execution_count": 133,
      "metadata": {
        "id": "iQe99Y_CnZoU"
      },
      "outputs": [],
      "source": []
    },
    {
      "cell_type": "code",
      "execution_count": 134,
      "metadata": {
        "colab": {
          "base_uri": "https://localhost:8080/"
        },
        "id": "haHvGhgohDCE",
        "outputId": "2b4bd1e3-78cd-4137-8317-fab302ab4315"
      },
      "outputs": [
        {
          "output_type": "stream",
          "name": "stdout",
          "text": [
            "eneter astring: mubashir\n",
            "8\n",
            "as\n"
          ]
        }
      ],
      "source": [
        "a=input(\"eneter astring: \")\n",
        "b=len(a)\n",
        "print(b)\n",
        "mid=b//2          # (//)  use akunnath oru word ne arikumbo (.) vech varathe crct kittan use akaam\n",
        "if b%2==0:\n",
        "  print(a[mid-1 : mid+1])\n",
        "else:\n",
        "  print(a[mid])"
      ]
    },
    {
      "cell_type": "code",
      "source": [
        "a = int(input(\"enter a number: \"))  # Get input as an integer\n",
        "b = int(str(a)[::-1])  # Convert to string, reverse, and convert back to integer\n",
        "if a == b:\n",
        "  print(\"palindrome\")\n",
        "else:\n",
        "  print(\"not palindrome\")"
      ],
      "metadata": {
        "id": "MhFtL9kfyTXs",
        "colab": {
          "base_uri": "https://localhost:8080/"
        },
        "outputId": "faefc25e-3a76-4027-c1c7-131cc19b2f75"
      },
      "execution_count": 135,
      "outputs": [
        {
          "output_type": "stream",
          "name": "stdout",
          "text": [
            "enter a number: 45\n",
            "not palindrome\n"
          ]
        }
      ]
    },
    {
      "cell_type": "code",
      "execution_count": 136,
      "metadata": {
        "colab": {
          "base_uri": "https://localhost:8080/"
        },
        "id": "5vzDqVEehEQr",
        "outputId": "3ee781a2-73a3-4b81-e6e9-93bd47f5bb46"
      },
      "outputs": [
        {
          "output_type": "stream",
          "name": "stdout",
          "text": [
            "enter a string: mubashir\n",
            "not palindrome\n"
          ]
        }
      ],
      "source": [
        "a =input(\"enter a string: \")\n",
        "b =a[::-1]\n",
        "if a == b:\n",
        "  print(\"palindrome\")\n",
        "else:\n",
        "  print(\"not palindrome\")"
      ]
    },
    {
      "cell_type": "code",
      "execution_count": 137,
      "metadata": {
        "colab": {
          "base_uri": "https://localhost:8080/"
        },
        "id": "p3Gs0hBGo1-j",
        "outputId": "fc9b5507-f4d3-457f-d27e-825cfbd0247d"
      },
      "outputs": [
        {
          "output_type": "stream",
          "name": "stdout",
          "text": [
            "[11, 89, 104, 502]\n",
            "['Jackfruit', 'orange', 'pineaple']\n"
          ]
        }
      ],
      "source": [
        "a=[104,11,89,502,]\n",
        "a.sort()\n",
        "print(a)\n",
        "b=[\"Jackfruit\",\"pineaple\",\"orange\"]\n",
        "b.sort()\n",
        "print(b)"
      ]
    },
    {
      "cell_type": "markdown",
      "source": [
        "# Sort"
      ],
      "metadata": {
        "id": "pwmoA7x82Av9"
      }
    },
    {
      "cell_type": "code",
      "execution_count": 138,
      "metadata": {
        "colab": {
          "base_uri": "https://localhost:8080/"
        },
        "id": "fPKSDxp8Lsg0",
        "outputId": "41d4be53-92d3-4956-84a9-8f0bf847801b"
      },
      "outputs": [
        {
          "output_type": "stream",
          "name": "stdout",
          "text": [
            "['Pineaple', 'jackfruit', 'orange']\n"
          ]
        }
      ],
      "source": [
        "b=[\"jackfruit\",\"Pineaple\",\"orange\"]\n",
        "b.sort()\n",
        "print(b)"
      ]
    },
    {
      "cell_type": "code",
      "execution_count": 139,
      "metadata": {
        "colab": {
          "base_uri": "https://localhost:8080/"
        },
        "id": "GUJFwYK7LLs9",
        "outputId": "bbae575a-1de4-481e-9f83-1496fc71c495"
      },
      "outputs": [
        {
          "output_type": "stream",
          "name": "stdout",
          "text": [
            "['jackfruit', 'Orange', 'Pineaple']\n"
          ]
        }
      ],
      "source": [
        "b=[\"jackfruit\",\"Pineaple\",\"Orange\"]\n",
        "b.sort(key=str.lower)\n",
        "print(b)"
      ]
    },
    {
      "cell_type": "code",
      "execution_count": 140,
      "metadata": {
        "colab": {
          "base_uri": "https://localhost:8080/"
        },
        "id": "74dPgL9x5KM4",
        "outputId": "922b5966-2891-48e6-a41c-082de64c6f30"
      },
      "outputs": [
        {
          "output_type": "stream",
          "name": "stdout",
          "text": [
            "[502, 104, 89, 11]\n",
            "['pineaple', 'orange', 'jackfruit']\n"
          ]
        }
      ],
      "source": [
        "a=[104,11,89,502,]\n",
        "a.sort(reverse=True)\n",
        "print(a)\n",
        "b=[\"jackfruit\",\"pineaple\",\"orange\"]\n",
        "b.sort(reverse=True)\n",
        "print(b)"
      ]
    },
    {
      "cell_type": "code",
      "execution_count": 141,
      "metadata": {
        "colab": {
          "base_uri": "https://localhost:8080/"
        },
        "id": "6-zLrmw26r44",
        "outputId": "7cd56382-3b86-439a-ad12-9e65552b1a46"
      },
      "outputs": [
        {
          "output_type": "stream",
          "name": "stdout",
          "text": [
            "['pineaple', 'Orange', 'jackfruit']\n"
          ]
        }
      ],
      "source": [
        "b=[\"jackfruit\",\"pineaple\",\"Orange\"]\n",
        "b.sort(reverse=True,key=str.lower)\n",
        "print(b)"
      ]
    },
    {
      "cell_type": "code",
      "execution_count": 142,
      "metadata": {
        "colab": {
          "base_uri": "https://localhost:8080/"
        },
        "id": "rWEcpk2eAIdS",
        "outputId": "9b146139-f2b2-4d33-9c41-e12ce4ba0373"
      },
      "outputs": [
        {
          "output_type": "stream",
          "name": "stdout",
          "text": [
            "['Orange', 'pineaple', 'jackfruit']\n"
          ]
        }
      ],
      "source": [
        "b=[\"jackfruit\",\"pineaple\",\"Orange\"]\n",
        "b.reverse()\n",
        "print(b)"
      ]
    },
    {
      "cell_type": "code",
      "execution_count": 143,
      "metadata": {
        "colab": {
          "base_uri": "https://localhost:8080/"
        },
        "id": "51veoFdHA87s",
        "outputId": "1c9ed5f5-fa32-440e-d13b-d9317e537493"
      },
      "outputs": [
        {
          "output_type": "stream",
          "name": "stdout",
          "text": [
            "['jackfruit', 'pineaple', 'Orange']\n"
          ]
        }
      ],
      "source": [
        "b=[\"jackfruit\",\"pineaple\",\"Orange\"]\n",
        "a=b.copy()\n",
        "print(a)"
      ]
    },
    {
      "cell_type": "code",
      "execution_count": 144,
      "metadata": {
        "colab": {
          "base_uri": "https://localhost:8080/"
        },
        "id": "wRuWTIUOCSLS",
        "outputId": "1fe69f8a-d437-4dfc-e8b4-85b0402805a3"
      },
      "outputs": [
        {
          "output_type": "stream",
          "name": "stdout",
          "text": [
            "[1, 2, 3, 4]\n",
            "[500, 2, 3, 4]\n"
          ]
        }
      ],
      "source": [
        "albin=[1,2,3,4]\n",
        "a=albin.copy()\n",
        "albin[0]=500\n",
        "print(a)\n",
        "print(albin)"
      ]
    },
    {
      "cell_type": "code",
      "execution_count": 145,
      "metadata": {
        "id": "7c_jdlGnYEBT"
      },
      "outputs": [],
      "source": [
        "#################       TUPLE      #######    TUPLE       #####\n",
        "#################       TUPLE       #######   TUPLE      #####\n",
        "#################       TUPLE       #######   TUPLE      #####\n",
        "#################       TUPLE       #######   TUPLE      #####"
      ]
    },
    {
      "cell_type": "code",
      "execution_count": 146,
      "metadata": {
        "colab": {
          "base_uri": "https://localhost:8080/"
        },
        "id": "6pmOU3EHJw9a",
        "outputId": "78930263-286e-4577-bd97-604f223a47f7"
      },
      "outputs": [
        {
          "output_type": "execute_result",
          "data": {
            "text/plain": [
              "3"
            ]
          },
          "metadata": {},
          "execution_count": 146
        }
      ],
      "source": [
        "a=(\"neymar\",\"messi\",\"c.ronaldo\")\n",
        "len(a)"
      ]
    },
    {
      "cell_type": "code",
      "execution_count": 147,
      "metadata": {
        "colab": {
          "base_uri": "https://localhost:8080/"
        },
        "id": "cE1wM5PqNsHQ",
        "outputId": "b0505a6a-53e6-4e1d-bd36-f001e163f2dc"
      },
      "outputs": [
        {
          "output_type": "execute_result",
          "data": {
            "text/plain": [
              "tuple"
            ]
          },
          "metadata": {},
          "execution_count": 147
        }
      ],
      "source": [
        "a=(\"neymar\",\"messi\",\"c.ronaldo\")\n",
        "type(a)"
      ]
    },
    {
      "cell_type": "code",
      "execution_count": 148,
      "metadata": {
        "colab": {
          "base_uri": "https://localhost:8080/"
        },
        "id": "jYRM_mn3QkZ_",
        "outputId": "0b8a5524-a269-4ba3-9599-6787dac8378c"
      },
      "outputs": [
        {
          "output_type": "stream",
          "name": "stdout",
          "text": [
            "neymar is in the tuple\n"
          ]
        }
      ],
      "source": [
        "a=(\"neymar\",\"messi\",\"c.ronaldo\")\n",
        "if \"neymar\" in a:\n",
        "  print(\"neymar is in the tuple\")\n",
        "else:\n",
        "  print(\"not found\")"
      ]
    },
    {
      "cell_type": "code",
      "execution_count": 149,
      "metadata": {
        "colab": {
          "base_uri": "https://localhost:8080/"
        },
        "id": "DDESQUXgRIZA",
        "outputId": "917f973a-2669-4c78-ebb0-ca35fbf61842"
      },
      "outputs": [
        {
          "output_type": "stream",
          "name": "stdout",
          "text": [
            "(2, 4, 6)\n"
          ]
        }
      ],
      "source": [
        "a=(1,2,3,4,5,6,7,)\n",
        "print(a[1::2])\n"
      ]
    },
    {
      "cell_type": "code",
      "execution_count": 150,
      "metadata": {
        "colab": {
          "base_uri": "https://localhost:8080/"
        },
        "id": "ylxqg3-tDMFY",
        "outputId": "4dd85d17-c1b2-423f-8f5f-3be59d4ad6d5"
      },
      "outputs": [
        {
          "output_type": "stream",
          "name": "stdout",
          "text": [
            "(4, 2, 3, 4, 5, 6, 7)\n"
          ]
        }
      ],
      "source": [
        "a=(1,2,3,4,5,6,7,)\n",
        "y=list(a)\n",
        "y[0]=4\n",
        "a=tuple(y)\n",
        "print(a)\n",
        "\n"
      ]
    },
    {
      "cell_type": "code",
      "execution_count": 151,
      "metadata": {
        "colab": {
          "base_uri": "https://localhost:8080/"
        },
        "id": "pTnD68ODEJ98",
        "outputId": "3119e303-f0e3-4f28-b731-42dd898e3cd5"
      },
      "outputs": [
        {
          "output_type": "stream",
          "name": "stdout",
          "text": [
            "(1, 2, 3, 4, 5, 6, 7, 9)\n"
          ]
        }
      ],
      "source": [
        "a=(1,2,3,4,5,6,7,)\n",
        "y=(9,)\n",
        "a=a+y\n",
        "print(a)"
      ]
    },
    {
      "cell_type": "code",
      "execution_count": 152,
      "metadata": {
        "colab": {
          "base_uri": "https://localhost:8080/"
        },
        "id": "5Bn9HuxEJhm0",
        "outputId": "f5d12aea-382d-4de7-ff6c-a8f22ea3bb06"
      },
      "outputs": [
        {
          "output_type": "stream",
          "name": "stdout",
          "text": [
            "(1, 2, 3, 4, 5, 6, 7, 9)\n"
          ]
        }
      ],
      "source": [
        "a=(1,2,3,4,5,6,7,)\n",
        "y=(9,)\n",
        "a+=y          # simple methord\n",
        "print(a)"
      ]
    },
    {
      "cell_type": "code",
      "execution_count": 153,
      "metadata": {
        "colab": {
          "base_uri": "https://localhost:8080/"
        },
        "id": "1-Frlo8dIKFT",
        "outputId": "a47456cf-098f-403f-cc4a-1c6846680793"
      },
      "outputs": [
        {
          "output_type": "stream",
          "name": "stdout",
          "text": [
            "('neymar', 'c.ronaldo')\n"
          ]
        }
      ],
      "source": [
        "a=(\"neymar\",\"messi\",\"c.ronaldo\")\n",
        "y=list(a)\n",
        "y.remove(\"messi\")\n",
        "a=tuple(y)\n",
        "print(a)\n"
      ]
    },
    {
      "cell_type": "code",
      "execution_count": 154,
      "metadata": {
        "colab": {
          "base_uri": "https://localhost:8080/"
        },
        "id": "mYPJijZtKgoB",
        "outputId": "88b1d46a-fc47-4a55-9380-fd523df227f6"
      },
      "outputs": [
        {
          "output_type": "stream",
          "name": "stdout",
          "text": [
            "banana\n",
            "apple\n",
            "jackfruit\n"
          ]
        }
      ],
      "source": [
        "a=(\"apple\",\"banana\",\"jackfruit\")\n",
        "(red,yellow,green)=a\n",
        "print(yellow)\n",
        "print(red)\n",
        "print(green)"
      ]
    },
    {
      "cell_type": "code",
      "execution_count": 155,
      "metadata": {
        "colab": {
          "base_uri": "https://localhost:8080/"
        },
        "id": "b8ffgtilMlc8",
        "outputId": "7ecb90aa-d4ba-4a5d-8957-682ee2c2598d"
      },
      "outputs": [
        {
          "output_type": "stream",
          "name": "stdout",
          "text": [
            "['banana', 'jackfruit', 'cherry']\n",
            "rasberry\n",
            "apple\n"
          ]
        }
      ],
      "source": [
        "a=(\"apple\",\"banana\",\"jackfruit\",\"cherry\",\"rasberry\")\n",
        "(red,*yellow,green)=a\n",
        "print(yellow)\n",
        "print(green)\n",
        "print(red)"
      ]
    },
    {
      "cell_type": "code",
      "execution_count": 156,
      "metadata": {
        "colab": {
          "base_uri": "https://localhost:8080/"
        },
        "id": "z5Od9jZAOlrJ",
        "outputId": "a647ac31-43ed-4244-80fd-e4afc0bd1fb4"
      },
      "outputs": [
        {
          "output_type": "stream",
          "name": "stdout",
          "text": [
            "('apple', 'banana', 'jackfruit', 'apple', 'banana', 'jackfruit')\n"
          ]
        }
      ],
      "source": [
        "a=(\"apple\",\"banana\",\"jackfruit\")\n",
        "b=a*2\n",
        "print(b)"
      ]
    },
    {
      "cell_type": "code",
      "execution_count": 157,
      "metadata": {
        "colab": {
          "base_uri": "https://localhost:8080/"
        },
        "id": "5lF1nv7hPBUZ",
        "outputId": "4393c1cc-43f8-4cc4-b405-88d40cd9be00"
      },
      "outputs": [
        {
          "output_type": "stream",
          "name": "stdout",
          "text": [
            "3\n",
            "1\n"
          ]
        }
      ],
      "source": [
        "a=(\"apple\",\"banana\",\"jackfruit\",\"apple\",\"apple\")\n",
        "print(a.count(\"apple\"))\n",
        "print(a.index(\"banana\"))"
      ]
    },
    {
      "cell_type": "code",
      "execution_count": 162,
      "metadata": {
        "colab": {
          "base_uri": "https://localhost:8080/"
        },
        "id": "yZVBL1wcl6T7",
        "outputId": "e36008d7-a410-4b1d-806b-0255ea69a0d5"
      },
      "outputs": [
        {
          "output_type": "stream",
          "name": "stdout",
          "text": [
            "('neymar', 'messi', 'c.ronaldo')\n"
          ]
        }
      ],
      "source": [
        "import copy\n",
        "\n",
        "a = (\"neymar\", \"messi\", \"c.ronaldo\")\n",
        "b = copy.deepcopy(a)  # Use copy.deepcopy() to create a copy of a tuple\n",
        "print(b)"
      ]
    },
    {
      "cell_type": "code",
      "execution_count": 163,
      "metadata": {
        "id": "cyg-KgyfXwYJ"
      },
      "outputs": [],
      "source": [
        "#################       DICTIONARY        #######  DICTIONARY        #####\n",
        "#################       DICTIONARY         #######  DICTIONARY    #####\n",
        "#################       DICTIONARY       #######   DICTIONARY       #####\n",
        "#################      DICTIONARY        #######  DICTIONARY       #####"
      ]
    },
    {
      "cell_type": "code",
      "execution_count": 164,
      "metadata": {
        "colab": {
          "base_uri": "https://localhost:8080/"
        },
        "id": "LA7cINQ8QLMR",
        "outputId": "89f10b35-8643-445b-af30-147f0e18a997"
      },
      "outputs": [
        {
          "output_type": "stream",
          "name": "stdout",
          "text": [
            "78\n"
          ]
        }
      ],
      "source": [
        "\n",
        "a={\"name\":\"john\",\n",
        "     \"age\":78,}\n",
        "print(a[\"age\"])"
      ]
    },
    {
      "cell_type": "code",
      "execution_count": 165,
      "metadata": {
        "colab": {
          "base_uri": "https://localhost:8080/"
        },
        "id": "X8jaNeM3TAFH",
        "outputId": "2029cff0-6c0a-430b-fb5f-f9cc7a1791ac"
      },
      "outputs": [
        {
          "output_type": "stream",
          "name": "stdout",
          "text": [
            "{'name': 'john'}\n",
            "john\n"
          ]
        }
      ],
      "source": [
        "a={\"name\":\"john\"}\n",
        "print(a)\n",
        "print(a[\"name\"])"
      ]
    },
    {
      "cell_type": "code",
      "execution_count": 166,
      "metadata": {
        "colab": {
          "base_uri": "https://localhost:8080/"
        },
        "id": "wEEqO6VlV6jC",
        "outputId": "a93f585b-460d-4a27-b827-083d9fb1c956"
      },
      "outputs": [
        {
          "output_type": "stream",
          "name": "stdout",
          "text": [
            "{'brand': 'ford', 'model': 'mustang', 'year': 2020}\n"
          ]
        }
      ],
      "source": [
        "a={\n",
        "    \"brand\":\"ford\",\n",
        "    \"model\":\"mustang\",\n",
        "    \"year\":1964,\n",
        "    \"year\":2020\n",
        "}\n",
        "print(a)"
      ]
    },
    {
      "cell_type": "code",
      "execution_count": 167,
      "metadata": {
        "colab": {
          "base_uri": "https://localhost:8080/"
        },
        "id": "BpofGFJ5YAuz",
        "outputId": "f132590b-0ee2-443a-e322-7094715e9498"
      },
      "outputs": [
        {
          "output_type": "stream",
          "name": "stdout",
          "text": [
            "['red', 'white', 'blue']\n",
            "4\n"
          ]
        }
      ],
      "source": [
        "a={\n",
        "    \"brnd\":\"ford\",\n",
        "    \"model\":\"mustang\",\n",
        "    \"year\":1964,\n",
        "    \"year\":2020,                             #duplicate undakiyal last varunnath ahn save akuka\n",
        "    \"colours\":[\"red\",\"white\",\"blue\"]\n",
        "}\n",
        "print(a[\"colours\"])\n",
        "type(a)\n",
        "print(len(a))"
      ]
    },
    {
      "cell_type": "code",
      "execution_count": 168,
      "metadata": {
        "colab": {
          "base_uri": "https://localhost:8080/"
        },
        "id": "kjYqby8CcUrT",
        "outputId": "388c3ada-89d4-4390-9777-8ec13960c085"
      },
      "outputs": [
        {
          "output_type": "stream",
          "name": "stdout",
          "text": [
            "dict_keys(['brnd', 'model', 'year'])\n",
            "dict_keys(['brnd', 'model', 'year', 'colour'])\n"
          ]
        }
      ],
      "source": [
        "a={\n",
        "    \"brnd\":\"ford\",\n",
        "    \"model\":\"mustang\",\n",
        "    \"year\":1964,\n",
        "\n",
        "}\n",
        "x=a.keys()\n",
        "print(x)  #before change\n",
        "a[\"colour\"]=\"white\"\n",
        "print(x)  #after change\n"
      ]
    },
    {
      "cell_type": "code",
      "execution_count": 169,
      "metadata": {
        "colab": {
          "base_uri": "https://localhost:8080/"
        },
        "id": "rC-oAa3mcOp9",
        "outputId": "5fbc190c-3a11-4a19-fd4b-a41d4cdfa822"
      },
      "outputs": [
        {
          "output_type": "stream",
          "name": "stdout",
          "text": [
            "ford\n",
            "dict_values(['ford', 'mustang', 1964])\n"
          ]
        }
      ],
      "source": [
        "a={\n",
        "    \"brnd\":\"ford\",\n",
        "    \"model\":\"mustang\",\n",
        "    \"year\":1964,\n",
        "\n",
        "}\n",
        "x=a[\"brnd\"]\n",
        "print(x)\n",
        "c=a.values()\n",
        "print(c)"
      ]
    },
    {
      "cell_type": "code",
      "execution_count": 170,
      "metadata": {
        "colab": {
          "base_uri": "https://localhost:8080/"
        },
        "id": "NZG2bJ41vJbi",
        "outputId": "89afbbe4-dab8-4f34-bc0f-68c7ce10e798"
      },
      "outputs": [
        {
          "output_type": "stream",
          "name": "stdout",
          "text": [
            "dict_items([('brnd', 'ford'), ('model', 'mustang'), ('year', 1964)])\n"
          ]
        }
      ],
      "source": [
        "a={\n",
        "    \"brnd\":\"ford\",\n",
        "    \"model\":\"mustang\",\n",
        "    \"year\":1964,\n",
        "\n",
        "}\n",
        "x=a.items()\n",
        "print(x)"
      ]
    },
    {
      "cell_type": "code",
      "execution_count": 171,
      "metadata": {
        "colab": {
          "base_uri": "https://localhost:8080/"
        },
        "id": "85Dif7AOxDsa",
        "outputId": "79cf5d02-142f-4d01-ea81-96e3b1a961b7"
      },
      "outputs": [
        {
          "output_type": "stream",
          "name": "stdout",
          "text": [
            "{'brnd': 'ford', 'model': 'mustang', 'year': 1964, 'colour': 'red'}\n"
          ]
        }
      ],
      "source": [
        "a={\n",
        "    \"brnd\":\"ford\",\n",
        "    \"model\":\"mustang\",\n",
        "    \"year\":1964,\n",
        "\n",
        "}\n",
        "a[\"colour\"]=\"red\"\n",
        "print(a)"
      ]
    },
    {
      "cell_type": "code",
      "execution_count": 172,
      "metadata": {
        "colab": {
          "base_uri": "https://localhost:8080/"
        },
        "id": "2477qYZf0sji",
        "outputId": "cb604f17-b3cd-417b-b2ed-4765cea8f764"
      },
      "outputs": [
        {
          "output_type": "stream",
          "name": "stdout",
          "text": [
            "model  present\n"
          ]
        }
      ],
      "source": [
        "a={\n",
        "    \"brnd\":\"ford\",\n",
        "    \"model\":\"mustang\",\n",
        "    \"year\":1964,\n",
        "\n",
        "}\n",
        "if \"model\" in a:\n",
        "  print(\"model  present\")\n",
        "else:\n",
        "  print(\"model not present\")"
      ]
    },
    {
      "cell_type": "code",
      "execution_count": 173,
      "metadata": {
        "colab": {
          "base_uri": "https://localhost:8080/"
        },
        "id": "T73rtNqKzIy6",
        "outputId": "86b014ce-f5f4-4d63-ae91-3667193faea5"
      },
      "outputs": [
        {
          "output_type": "stream",
          "name": "stdout",
          "text": [
            "ford  present\n"
          ]
        }
      ],
      "source": [
        "a={\n",
        "    \"brnd\":\"ford\",\n",
        "    \"model\":\"mustang\",\n",
        "    \"year\":1964,\n",
        "\n",
        "}\n",
        "if \"ford\" in a.values():    # values undonn nokan    a.values() use akanam keys print akan avshyalla\n",
        "  print(\"ford  present\")\n",
        "else:\n",
        "  print(\"ford not present\")\n"
      ]
    },
    {
      "cell_type": "code",
      "execution_count": 174,
      "metadata": {
        "colab": {
          "base_uri": "https://localhost:8080/"
        },
        "id": "603RBfJb0UwL",
        "outputId": "b311f9d9-d767-43df-b0f9-f78b77585a07"
      },
      "outputs": [
        {
          "output_type": "stream",
          "name": "stdout",
          "text": [
            "{'brnd': 'ford', 'model': 'mustang', 'year': 2020}\n",
            "{'brnd': 'ford', 'model': 'mustang', 'year': 2020, 'end': 2050}\n"
          ]
        }
      ],
      "source": [
        "a={\n",
        "    \"brnd\":\"ford\",\n",
        "    \"model\":\"mustang\",\n",
        "    \"year\":1964,\n",
        "\n",
        "}\n",
        "a.update({\"year\":2020})     #      values/keys   update akan  a.upadate({})\n",
        "print(a)\n",
        "a.update({\"end\":2050})\n",
        "print(a)"
      ]
    },
    {
      "cell_type": "code",
      "execution_count": 175,
      "metadata": {
        "colab": {
          "base_uri": "https://localhost:8080/"
        },
        "id": "dXvM2WHjMbrv",
        "outputId": "fa2d5808-dc6f-4323-e551-bf93e64a8d4d"
      },
      "outputs": [
        {
          "output_type": "stream",
          "name": "stdout",
          "text": [
            "{'brnd': 'ford', 'year': 1964}\n",
            "{'brnd': 'ford'}\n"
          ]
        }
      ],
      "source": [
        "a={\n",
        "    \"brnd\":\"ford\",\n",
        "    \"model\":\"mustang\",\n",
        "    \"year\":1964,\n",
        "\n",
        "}\n",
        "a.pop(\"model\")  # specific atyitt select aki remove akan  a.pop(\"specific item\")\n",
        "print(a)\n",
        "a.popitem()    # lat item remove akan  a.popitem()\n",
        "print(a)\n"
      ]
    },
    {
      "cell_type": "code",
      "execution_count": 176,
      "metadata": {
        "colab": {
          "base_uri": "https://localhost:8080/"
        },
        "id": "gE2_zKo0O_Se",
        "outputId": "7036822b-44bc-4e78-abfc-9b76a345f88c"
      },
      "outputs": [
        {
          "output_type": "stream",
          "name": "stdout",
          "text": [
            "{'brnd': 'ford', 'year': 1964}\n"
          ]
        }
      ],
      "source": [
        "a={\n",
        "    \"brnd\":\"ford\",\n",
        "    \"model\":\"mustang\",\n",
        "    \"year\":1964,\n",
        "\n",
        "}\n",
        "del a[\"model\"]\n",
        "print(a)"
      ]
    },
    {
      "cell_type": "code",
      "execution_count": null,
      "metadata": {
        "id": "2WGV9SKwVFcw"
      },
      "outputs": [],
      "source": [
        "a={\n",
        "    \"brnd\":\"ford\",\n",
        "    \"model\":\"mustang\",\n",
        "    \"year\":1964,\n",
        "\n",
        "}\n",
        "a.clear()\n",
        "print(a)"
      ]
    },
    {
      "cell_type": "code",
      "execution_count": null,
      "metadata": {
        "id": "LFZJh9E6V1A-"
      },
      "outputs": [],
      "source": [
        "a={\n",
        "    \"brnd\":\"ford\",\n",
        "    \"model\":\"mustang\",\n",
        "    \"year\":1964,\n",
        "\n",
        "}\n",
        "b=a.copy()\n",
        "print(b)"
      ]
    },
    {
      "cell_type": "code",
      "execution_count": null,
      "metadata": {
        "id": "9Lwtu7SPXeV4"
      },
      "outputs": [],
      "source": [
        "a={\n",
        "    \"brnd\":\"ford\",\n",
        "    \"model\":\"mustang\",\n",
        "    \"year\":1964,\n",
        "\n",
        "}\n",
        "b=dict(a)\n",
        "print(b)"
      ]
    },
    {
      "cell_type": "code",
      "execution_count": null,
      "metadata": {
        "id": "ZN1OJY17ZDtY"
      },
      "outputs": [],
      "source": [
        "myfamily={\n",
        "    \"child1\":{\n",
        "        \"name\":\"emil\",\n",
        "        \"year\":2004\n",
        "    },\n",
        "    \"child2\":{\n",
        "        \"name\":\"tobis\",\n",
        "        \"year\":2007\n",
        "    },\n",
        "    \"child3\":{\n",
        "        \"name\":\"luis\",\n",
        "        \"year\":2009\n",
        "    }\n",
        "}\n",
        "print(myfamily)\n",
        "print(myfamily[\"child2\"])\n",
        "\n",
        "\n",
        "\n",
        "\n",
        "\n"
      ]
    },
    {
      "cell_type": "code",
      "execution_count": null,
      "metadata": {
        "id": "QaFaAxnUcdeh"
      },
      "outputs": [],
      "source": [
        "child1={\n",
        "        \"name\":\"emil\",\n",
        "        \"year\":2004\n",
        "}\n",
        "child2={\n",
        "        \"name\":\"tobis\",\n",
        "        \"year\":2007\n",
        "}\n",
        "child3={\n",
        "        \"name\":\"luis\",\n",
        "        \"year\":2009\n",
        "}\n",
        "myfamily={\n",
        "    \"child1\":child1,\n",
        "    \"child2\":child2,\n",
        "    \"child3\":child3\n",
        "}\n",
        "print(myfamily)\n",
        "print(myfamily[\"child1\"][\"name\"])"
      ]
    },
    {
      "cell_type": "code",
      "execution_count": null,
      "metadata": {
        "id": "TwdIyTvYiR86"
      },
      "outputs": [],
      "source": [
        "set1={\"apple\",\"banana\",\"cherry\"}\n",
        "print(set1)\n"
      ]
    },
    {
      "cell_type": "code",
      "execution_count": null,
      "metadata": {
        "id": "RV2SJNPicWK0"
      },
      "outputs": [],
      "source": [
        "set1={\"apple\",\"banana\",\"cherry\",True,1,2,0,False}\n",
        "print(set1)"
      ]
    },
    {
      "cell_type": "code",
      "execution_count": null,
      "metadata": {
        "id": "j-q71OMsd90L"
      },
      "outputs": [],
      "source": [
        "a=set((\"banana\",\"apple\",True,False,2,4))      # set create akaan - (()) -  double round brackets use akum\n",
        "print(a)"
      ]
    },
    {
      "cell_type": "code",
      "execution_count": null,
      "metadata": {
        "id": "IaEzTWxOgnPp"
      },
      "outputs": [],
      "source": [
        "set1={\"apple\",\"banana\",\"cherry\",True,1,2,0,False}\n",
        "for x in set1:\n",
        "  print(x)"
      ]
    },
    {
      "cell_type": "code",
      "execution_count": null,
      "metadata": {
        "id": "lXakETHehgAS"
      },
      "outputs": [],
      "source": [
        "set1={\"apple\",\"banana\",\"cherry\",True,1,2,0,False}\n",
        "if \"cherry\" in set1:\n",
        "  print(\"cherry\")\n"
      ]
    },
    {
      "cell_type": "code",
      "execution_count": null,
      "metadata": {
        "id": "HhnfC4V9mr0f"
      },
      "outputs": [],
      "source": [
        "set1={\"apple\",\"cherry\",\"banana\",True,1,2,0,False}\n",
        "print(\"banana\" in set1)\n",
        "set2={\"apple\",\"cherry\"}\n",
        "print(\"banana\" not in set2)"
      ]
    },
    {
      "cell_type": "code",
      "execution_count": null,
      "metadata": {
        "id": "o1ZDCY_tpBce"
      },
      "outputs": [],
      "source": [
        "s={\"apple\",\"banana\",\"cherry\"}\n",
        "s.add(\"orange\")\n",
        "print(s)\n"
      ]
    },
    {
      "cell_type": "code",
      "execution_count": null,
      "metadata": {
        "id": "OcZa-KPgq5tR"
      },
      "outputs": [],
      "source": [
        "s2={\"apple\",\"banana\",\"cherry\",True,1,2,0,False}\n",
        "s={\"pineaple\",\"orange\"}\n",
        "s2.update(s)\n",
        "print(s2)"
      ]
    },
    {
      "cell_type": "code",
      "execution_count": null,
      "metadata": {
        "id": "rZ2WfISPrj35"
      },
      "outputs": [],
      "source": [
        "s2={\"apple\",\"banana\",\"cherry\",True,1,2,0,False}\n",
        "s=[\"pineaple\",\"jackfruit\",\"orange\"]\n",
        "s2.update(s)\n",
        "print(s2)"
      ]
    },
    {
      "cell_type": "code",
      "execution_count": null,
      "metadata": {
        "id": "6ApdkeAgpg1e"
      },
      "outputs": [],
      "source": [
        "s={\"apple\",\"banana\",\"cherry\",True,1,2,0,False}\n",
        "s.remove(\"banana\")\n",
        "print(s)\n"
      ]
    },
    {
      "cell_type": "code",
      "execution_count": null,
      "metadata": {
        "id": "x5XwUgXLq3y1"
      },
      "outputs": [],
      "source": [
        "s={\"apple\",\"banana\",\"cherry\",True,1,2,0,False}\n",
        "s.discard(\"ban\")\n",
        "print(s)\n"
      ]
    },
    {
      "cell_type": "code",
      "execution_count": null,
      "metadata": {
        "id": "H6tIWKjAvsDM"
      },
      "outputs": [],
      "source": [
        "s={\"apple\",\"banana\",\"cherry\",True,1,2,0,False}\n",
        "x=s.pop()\n",
        "print(s)\n",
        "s2={\"apple\",\"banana\",\"cherry\",True,1,2,0,False}\n",
        "s2.clear()\n",
        "print(s2)\n",
        "s3={\"apple\",\"banana\",\"cherry\",True,1,2,0,False}\n",
        "del s3\n",
        "print(s3)\n"
      ]
    },
    {
      "cell_type": "code",
      "execution_count": null,
      "metadata": {
        "id": "lBO8tBXi6Zag"
      },
      "outputs": [],
      "source": [
        "a={1,2,3,4,5}\n",
        "b={3,5,6,7,8}\n",
        "print(a&b)\n",
        "print(a|b)\n",
        "print(a-b)"
      ]
    },
    {
      "cell_type": "code",
      "execution_count": null,
      "metadata": {
        "id": "GuXNz10a7GwZ"
      },
      "outputs": [],
      "source": [
        "a={1,2,3,4,5}\n",
        "b={3,5,6,7,8}\n",
        "c=a.union(b)\n",
        "print(c)\n",
        "d=a.intersection(b)\n",
        "print(d)\n",
        "e=a.difference(b)\n",
        "print(e)\n",
        "g=a.symmetric_difference(b)\n",
        "print(g)\n"
      ]
    },
    {
      "cell_type": "code",
      "execution_count": null,
      "metadata": {
        "id": "QTUwYk-LBl-2"
      },
      "outputs": [],
      "source": [
        "a={\"john\",\"viki\",\"thug\"}\n",
        "b={1,2,3}\n",
        "c={\"apple\",\"pineaple\",\"orange\"}\n",
        "d={\"g\",\"h\",\"i\"}\n",
        "e=a.union(b,c,d,)\n",
        "\n",
        "print(e)"
      ]
    },
    {
      "cell_type": "code",
      "execution_count": null,
      "metadata": {
        "id": "weBDlvQfDYjW"
      },
      "outputs": [],
      "source": [
        "a={\"john\",\"viki\",\"thug\"}\n",
        "b={1,2,3}\n",
        "c={\"apple\",\"pineaple\",\"orange\"}\n",
        "d={\"g\",\"h\",\"i\"}\n",
        "e=a|b|c|d\n",
        "print(e)"
      ]
    },
    {
      "cell_type": "code",
      "execution_count": null,
      "metadata": {
        "id": "zPPmGJr6DxeE"
      },
      "outputs": [],
      "source": [
        "#1? add a key to dictionary?\n",
        "\n",
        "a={\n",
        "    \"brand\":\"toyota\",\n",
        "    \"model\":\"etios\",\n",
        "    \"year\":2020\n",
        "}\n",
        "a[\"colour\"]=\"white\"\n",
        "print(a)"
      ]
    },
    {
      "cell_type": "code",
      "execution_count": null,
      "metadata": {
        "id": "e-12qmN8YUAR"
      },
      "outputs": [],
      "source": [
        "# 2? concatenate any  three dictionarys to craet a new one ?\n",
        "\n",
        "a={\n",
        "    \"brand\":\"bmv\",\n",
        "    \"model\":\"x5\",\n",
        "    \"year\":2024\n",
        "}\n",
        "b={\n",
        "    \"brand\":\"benz\",\n",
        "    \"model\":\"e clas\",\n",
        "    \"year\":2023\n",
        "}\n",
        "c={\n",
        "    \"brand\":\"toyota\",\n",
        "    \"model\":\"etios\",\n",
        "    \"year\":2020\n",
        "}\n",
        "d={\n",
        "    \"a\":a,\n",
        "    \"b\":b,\n",
        "    \"c\":c\n",
        "}\n",
        "print(d)\n",
        "print(d[\"a\"][\"brand\"])"
      ]
    },
    {
      "cell_type": "code",
      "execution_count": null,
      "metadata": {
        "id": "nAKQbvx3bbWJ"
      },
      "outputs": [],
      "source": [
        "# 3? write a python program to iterate over dictionaries using for loops ?\n",
        "\n",
        "a={\n",
        "    \"brnd\":\"ford\",\n",
        "    \"model\":\"mustang\",\n",
        "    \"year\":1964,\n",
        "\n",
        "}\n",
        "for x in a:\n",
        "  print(x)"
      ]
    },
    {
      "cell_type": "code",
      "execution_count": null,
      "metadata": {
        "id": "bpjAGrpXcNIc"
      },
      "outputs": [],
      "source": [
        "# 4? write apython script to genarate and print a dictionary that contains a number (between 1 and n) in the form (x:x*x).\n",
        "\n",
        "import random\n",
        "d={}\n",
        "n=int(input(\"enter a number\"))\n",
        "x=random.randrange(1,n+1)\n",
        "d[x]=x*x\n",
        "print(d)"
      ]
    },
    {
      "cell_type": "code",
      "execution_count": null,
      "metadata": {
        "id": "QRn7K_2xh3I2"
      },
      "outputs": [],
      "source": [
        "# 5?\n",
        "\n",
        "a={\n",
        "    \"brand\":\"ford\",\n",
        "    \"model\":\"mustang\",\n",
        "    \"year\":1964,\n",
        "\n",
        "}\n",
        "b={\n",
        "    \"brand\":\"benz\",\n",
        "    \"model\":\"e clas\",\n",
        "    \"year\":2023\n",
        "}\n",
        "a.update(b)\n",
        "print(a)"
      ]
    },
    {
      "cell_type": "code",
      "execution_count": null,
      "metadata": {
        "id": "r5euuhiLi0T9"
      },
      "outputs": [],
      "source": [
        "# 6?\n",
        "\n",
        "a={\n",
        "    1:1,\n",
        "    2:4,\n",
        "    3:9,\n",
        "    4:16\n",
        "}\n",
        "sum=0\n",
        "for x in a.values():\n",
        "  sum=sum+x\n",
        "print(sum)\n",
        "\n"
      ]
    },
    {
      "cell_type": "code",
      "execution_count": null,
      "metadata": {
        "id": "rZ28lIGFmoaS"
      },
      "outputs": [],
      "source": [
        "# 7?\n",
        "\n",
        "a={\n",
        "    1:1,\n",
        "    2:4,\n",
        "    3:9,\n",
        "    4:16\n",
        "\n",
        "}\n",
        "mul=1\n",
        "b=a.values()\n",
        "for x in b:\n",
        "  mul=mul*x\n",
        "print(mul)\n"
      ]
    },
    {
      "cell_type": "code",
      "execution_count": null,
      "metadata": {
        "id": "7RDbp_y4qyQE"
      },
      "outputs": [],
      "source": [
        "# 8?\n",
        "a={\n",
        "    1:1,\n",
        "    2:4,\n",
        "    3:9,\n",
        "    4:16\n",
        "}\n",
        "a.pop(1)\n",
        "print(a)\n"
      ]
    },
    {
      "cell_type": "code",
      "execution_count": null,
      "metadata": {
        "id": "NVmdwLuRr_dM"
      },
      "outputs": [],
      "source": [
        "# 9?\n",
        "\n",
        "a=[1,2,3]             #9\n",
        "b=[\"a\",\"b\",\"c\"]\n",
        "c=dict(zip(a,b))\n",
        "print(c)"
      ]
    },
    {
      "cell_type": "code",
      "execution_count": null,
      "metadata": {
        "id": "aN9XZ7BOssyB"
      },
      "outputs": [],
      "source": [
        "# 10?\n",
        "\n",
        "a={\n",
        "    \"brand\":\"ford\",\n",
        "    \"model\":\"mustang\",\n",
        "    \"year\":1964,\n",
        "    \"year\":2020\n",
        "\n",
        "}\n",
        "print(a)\n"
      ]
    },
    {
      "cell_type": "code",
      "execution_count": null,
      "metadata": {
        "id": "j70-_81suAnK"
      },
      "outputs": [],
      "source": [
        "a={\"apple\",\"banana\",\"cherry\"}\n",
        "b={\"pineaple\",\"jackfruit\",\"apple\"}\n",
        "c=a.intersection(b)\n",
        "print(c)\n",
        "d=a&b\n",
        "print(d)"
      ]
    },
    {
      "cell_type": "code",
      "execution_count": null,
      "metadata": {
        "id": "B2NvzGl-u0lF"
      },
      "outputs": [],
      "source": [
        "a={\"apple\",\"banana\",\"cherry\"}\n",
        "b={\"pineaple\",\"jackfruit\",\"apple\"}\n",
        "a.intersection_update(b)\n",
        "print(a)"
      ]
    },
    {
      "cell_type": "code",
      "execution_count": null,
      "metadata": {
        "id": "FzvzTsFwwSfV"
      },
      "outputs": [],
      "source": [
        "a={\"apple\",\"banana\",\"cherry\"}\n",
        "b={\"pineaple\",\"jackfruit\",\"apple\"}\n",
        "c=a.difference(b)\n",
        "print(c)\n"
      ]
    },
    {
      "cell_type": "code",
      "execution_count": null,
      "metadata": {
        "id": "214cYEOCyCCd"
      },
      "outputs": [],
      "source": [
        "a={\"apple\",\"banana\",\"cherry\"}\n",
        "b={\"pineaple\",\"jackfruit\",\"apple\"}\n",
        "a.difference_update(b)\n",
        "print(a)"
      ]
    },
    {
      "cell_type": "code",
      "execution_count": null,
      "metadata": {
        "id": "0BF6B7Fi15V1"
      },
      "outputs": [],
      "source": []
    },
    {
      "cell_type": "code",
      "execution_count": null,
      "metadata": {
        "id": "gh4lt5zi3YHj"
      },
      "outputs": [],
      "source": [
        "a={1,2,3,4,5}\n",
        "b={3,5,6,7,8}\n",
        "c=a^b\n",
        "print(c)\n",
        "d=a.symmetric_difference(b)\n",
        "print(d)"
      ]
    },
    {
      "cell_type": "code",
      "execution_count": null,
      "metadata": {
        "id": "GK8HRT3Z5x8z"
      },
      "outputs": [],
      "source": [
        "a={1,2,3,4,5}\n",
        "b={3,5,6,7,8}\n",
        "a.symmetric_difference_update(b)\n",
        "print(a)\n"
      ]
    },
    {
      "cell_type": "code",
      "execution_count": null,
      "metadata": {
        "id": "IKjswusX9NZL"
      },
      "outputs": [],
      "source": [
        "a={1,2,3,4,5}\n",
        "b={3,5,6,7,8}\n",
        "a.isdisjoint(b)\n"
      ]
    },
    {
      "cell_type": "code",
      "execution_count": null,
      "metadata": {
        "id": "9lftd472_nAC"
      },
      "outputs": [],
      "source": [
        "a={3,4,5}\n",
        "b={3,4,5,6,7,8}\n",
        "a.issubset(b)"
      ]
    },
    {
      "cell_type": "code",
      "execution_count": null,
      "metadata": {
        "id": "noO5NlSWADua"
      },
      "outputs": [],
      "source": [
        "a={3,4,5}\n",
        "b={3,4,5,6,7,8}\n",
        "b.issuperset(a)"
      ]
    },
    {
      "cell_type": "code",
      "execution_count": null,
      "metadata": {
        "id": "usjWKj1qRBF7"
      },
      "outputs": [],
      "source": [
        "####### if else    ######"
      ]
    },
    {
      "cell_type": "code",
      "execution_count": null,
      "metadata": {
        "id": "cNkQJ2dlA_Dz"
      },
      "outputs": [],
      "source": [
        "a=33\n",
        "b=200\n",
        "if b>a:\n",
        "  print(\"b is greater than a\")"
      ]
    },
    {
      "cell_type": "code",
      "execution_count": null,
      "metadata": {
        "id": "OSj_fcd2Q9xh"
      },
      "outputs": [],
      "source": [
        "x=int(input(\"enter number\"))\n",
        "y=int(input(\"enter number\"))\n",
        "if x>y:\n",
        "  print(\"x is greater than y\")\n",
        "  a=x+y\n",
        "else:\n",
        "  print(\"x is less than y\")\n",
        "  a=x-y\n",
        "print(a)\n",
        "\n",
        "\n"
      ]
    },
    {
      "cell_type": "code",
      "execution_count": null,
      "metadata": {
        "id": "7r5xmhrLVr2v"
      },
      "outputs": [],
      "source": [
        "score=int(input(\"enter score\"))\n",
        "\n",
        "time=int(input(\"time\"))\n",
        "turns_remaining=int(input(\"turns left\"))\n",
        "if (score<1000 or time>20) and turns_remaining==0:\n",
        "  print(\"game over\")"
      ]
    },
    {
      "cell_type": "code",
      "execution_count": null,
      "metadata": {
        "id": "saItBwoAufb8"
      },
      "outputs": [],
      "source": [
        "score=int(input(\"score\"))\n",
        "time=int(input(\"enter time perid\"))\n",
        "grade=int(input(\"grade number\"))\n",
        "if grade>=80 and grade<90:\n",
        "  print(\"your grade is b.\")\n",
        "\n",
        "if score>1000 or time>20:\n",
        "  print(\"game over\")\n",
        "if not (score>1000 or time>20):\n",
        "  print(\"game continues\")"
      ]
    },
    {
      "cell_type": "code",
      "execution_count": null,
      "metadata": {
        "id": "QsVsVY4k22YU"
      },
      "outputs": [],
      "source": [
        "from random import randint\n",
        "num=randint(1,3)\n",
        "guess=eval(input(\"enter your guess\")) ########  eval is dangerous\n",
        "if guess==num:\n",
        "  print(\"you got it\")"
      ]
    },
    {
      "cell_type": "code",
      "execution_count": null,
      "metadata": {
        "id": "NMGD1Vzd4gg9"
      },
      "outputs": [],
      "source": [
        "grade=int(input(\"enter your score\"))\n",
        "if grade>=90:\n",
        "  print(\"A\")\n",
        "elif grade>=80:\n",
        "  print(\"B\")\n",
        "elif grade>=70:\n",
        "  print(\"C\")\n",
        "elif grade>=60:\n",
        "  print(\"D\")\n",
        "else:\n",
        "  print(\"E\")\n",
        "\n",
        "# use with  if an elif is better"
      ]
    },
    {
      "cell_type": "code",
      "execution_count": null,
      "metadata": {
        "id": "zm-mTr9863Iy"
      },
      "outputs": [],
      "source": [
        "grade=int(input(\"enter your score\"))\n",
        "if grade>=90:\n",
        "  print(\"A\")\n",
        "if grade>=80:\n",
        "  print(\"B\")\n",
        "if grade>=70:\n",
        "  print(\"C\")\n",
        "if grade>=60:\n",
        "  print(\"D\")\n",
        "if grade<60:\n",
        "  print(\"F\")\n"
      ]
    },
    {
      "cell_type": "code",
      "execution_count": null,
      "metadata": {
        "id": "q4J0Dec98Ecs"
      },
      "outputs": [],
      "source": [
        "i=0\n",
        "while i <6:\n",
        "  print(i)\n",
        "  i=i+1"
      ]
    },
    {
      "cell_type": "code",
      "execution_count": null,
      "metadata": {
        "id": "pWBRqN5IyUGA"
      },
      "outputs": [],
      "source": [
        "i=1\n",
        "while i <=10:\n",
        "  print(i)\n",
        "  i=i+1"
      ]
    },
    {
      "cell_type": "code",
      "execution_count": null,
      "metadata": {
        "id": "QfYIOq-31w5m"
      },
      "outputs": [],
      "source": [
        "i=1\n",
        "while i <6:\n",
        "  print(i)\n",
        "  if(i==5):\n",
        "    break\n",
        "  i=i+1\n"
      ]
    },
    {
      "cell_type": "code",
      "execution_count": null,
      "metadata": {
        "id": "N_5zwYOn2yYX"
      },
      "outputs": [],
      "source": [
        "i=0\n",
        "while i <6:\n",
        "  i=i+1\n",
        "  if(i==3):\n",
        "    continue\n",
        "  print(i)"
      ]
    },
    {
      "cell_type": "code",
      "execution_count": null,
      "metadata": {
        "id": "i-3TSnCc6kXY"
      },
      "outputs": [],
      "source": [
        "i=0\n",
        "while i <6:\n",
        "  print(i)\n",
        "  i=i+1\n",
        "else:\n",
        "  print(\"exit from loop\")"
      ]
    },
    {
      "cell_type": "code",
      "execution_count": null,
      "metadata": {
        "id": "h29PfR0Z69Zl"
      },
      "outputs": [],
      "source": [
        "i=1\n",
        "while i <=50:\n",
        "  print(i)\n",
        "  i=i+2\n",
        "  ######  odd numbers"
      ]
    },
    {
      "cell_type": "code",
      "execution_count": null,
      "metadata": {
        "id": "QwQ4sf2U8xqF"
      },
      "outputs": [],
      "source": [
        "i=2\n",
        "while i <=50:\n",
        "  print(i)\n",
        "  i=i+2\n",
        "  #######   even numbers"
      ]
    },
    {
      "cell_type": "code",
      "execution_count": null,
      "metadata": {
        "id": "uUaIA93c88BE"
      },
      "outputs": [],
      "source": [
        "i=1\n",
        "while i<=5:\n",
        "  a=int(input(\"your mark\"))\n",
        "  if a>=90:\n",
        "    print(\"A\")\n",
        "  elif a>=80:\n",
        "    print(\"B\")\n",
        "  elif a>=70:\n",
        "    print(\"C\")\n",
        "  elif a>=60:\n",
        "    print(\"D\")\n",
        "  elif a>=50:\n",
        "    print(\"E\")\n",
        "  elif a<50:\n",
        "    print(\"FAIL\")\n",
        "  i=i+1\n"
      ]
    },
    {
      "cell_type": "code",
      "execution_count": null,
      "metadata": {
        "id": "hnOsew3s-pAz"
      },
      "outputs": [],
      "source": [
        "\n",
        "import random\n",
        "list1=[\"stone\",\"paper\",\"sissor\"]\n",
        "i=1\n",
        "t=0\n",
        "w=0\n",
        "l=0\n",
        "while i<=5:\n",
        "  comp=random.choice(list1)  # comp=(computer_choice)\n",
        "  x=(input(\"choice\"))        # x=(my_choice)\n",
        "  print(\"your choice is\",x)\n",
        "  print(\"computer  choice is\",comp)\n",
        "  if (x==comp):\n",
        "    print(\"tie\")\n",
        "    t=t+1\n",
        "  elif comp== \"stone\" and x==\"paper\":\n",
        "    print(\" win\")\n",
        "    w=w+1\n",
        "  elif comp==\"paper\" and x==\"sissor\":\n",
        "    print(\"win\")\n",
        "    w=w+1\n",
        "  elif comp==\"sissor\" and x==\"stone\":\n",
        "    print(\"win\")\n",
        "    w=w+1\n",
        "  else:\n",
        "    print(\"lose\")\n",
        "    l=l+1\n",
        "  i=i+1\n",
        "print(\"you win\",w,\"times\")\n",
        "print(\"you tie\",t,\"times\")\n",
        "print(\"you lose\",l,\"times\")\n"
      ]
    },
    {
      "cell_type": "code",
      "execution_count": null,
      "metadata": {
        "id": "QmY-JE9OrZg_"
      },
      "outputs": [],
      "source": [
        "i=1\n",
        "while i<=5:\n",
        "  a=int(input(\"enter number\"))\n",
        "  b=int(input(\"enter another number\"))\n",
        "  c=(input(\"enter operator symbol \"))\n",
        "  if c==\"+\":\n",
        "    print(a+b)\n",
        "  elif c==\"-\":\n",
        "    print(a-b)\n",
        "  elif c==\"*\":\n",
        "    print(a*b)\n",
        "  elif c==\"%\":\n",
        "    print(a%b)\n",
        "  elif c==\"**\":\n",
        "    print(a**b)\n",
        "  elif c==\"/\":\n",
        "    print(a/b)\n",
        "  elif c==\"//\":\n",
        "    print(a//b)\n",
        "  i=i+1"
      ]
    },
    {
      "cell_type": "code",
      "execution_count": null,
      "metadata": {
        "id": "gWkXmq9Ixg1t"
      },
      "outputs": [],
      "source": [
        "x=1\n",
        "while x<=10:\n",
        "  print(x,\"x 2=\",x*2)\n",
        "  x=x+1"
      ]
    },
    {
      "cell_type": "code",
      "execution_count": null,
      "metadata": {
        "id": "eUxB7OVO2k0V"
      },
      "outputs": [],
      "source": [
        "b=float(input(\"enter breadth(b) \"))\n",
        "h=float(input(\"enter hight \"))\n",
        "print(.5*b*h)"
      ]
    },
    {
      "cell_type": "code",
      "execution_count": null,
      "metadata": {
        "id": "KrhRjEE77aGM"
      },
      "outputs": [],
      "source": [
        "a=10\n",
        "while a<=100:\n",
        "  print(a)\n",
        "  a=a+10"
      ]
    },
    {
      "cell_type": "code",
      "execution_count": null,
      "metadata": {
        "id": "ly-hFONhDmAc"
      },
      "outputs": [],
      "source": [
        "for i in range(1,10,2):\n",
        "\n",
        "  print(i)"
      ]
    },
    {
      "cell_type": "code",
      "execution_count": null,
      "metadata": {
        "id": "sgEowZepGMIU"
      },
      "outputs": [],
      "source": [
        "string1=\"hello\"\n",
        "for i in string1:\n",
        "  print(i)"
      ]
    },
    {
      "cell_type": "code",
      "execution_count": null,
      "metadata": {
        "id": "s30Jpe_w7EMm"
      },
      "outputs": [],
      "source": [
        "a=1\n",
        "while a<=10:\n",
        "  print(a)\n",
        "  a+=1"
      ]
    },
    {
      "cell_type": "code",
      "execution_count": null,
      "metadata": {
        "id": "CzvuoKuY9dpm"
      },
      "outputs": [],
      "source": [
        "a=5\n",
        "print(\"the number is\"+ str(a))"
      ]
    },
    {
      "cell_type": "code",
      "execution_count": null,
      "metadata": {
        "id": "6eNZSd-f__oM"
      },
      "outputs": [],
      "source": [
        "a=int(input(\"number \"))\n",
        "b=int(input(\"another number \"))\n",
        "sum=a+b\n",
        "print(\"the result is \"+ str(sum))"
      ]
    },
    {
      "cell_type": "code",
      "execution_count": null,
      "metadata": {
        "id": "ofynqBb5BQ68"
      },
      "outputs": [],
      "source": [
        "a=(\"no\")\n",
        "type(a)\n"
      ]
    },
    {
      "cell_type": "code",
      "execution_count": null,
      "metadata": {
        "id": "7_3WIVZ2CBwr"
      },
      "outputs": [],
      "source": [
        "name=\"arju\"\n",
        "name=\"raman\"\n",
        "print(name)"
      ]
    },
    {
      "cell_type": "code",
      "execution_count": null,
      "metadata": {
        "id": "WB73u96_EUpm"
      },
      "outputs": [],
      "source": [
        "print(\"hello\", end= \" \")  # end= kodthal 2 print  ota linel print akum\n",
        "print(\"world\")"
      ]
    },
    {
      "cell_type": "code",
      "execution_count": null,
      "metadata": {
        "id": "h1IJMEJjEiog"
      },
      "outputs": [],
      "source": [
        "print(\"   *   \")\n",
        "print(\"  * *   \")\n",
        "print(\" * * *  \")\n",
        "\n"
      ]
    },
    {
      "cell_type": "code",
      "execution_count": null,
      "metadata": {
        "id": "RoooBzVmLm1N"
      },
      "outputs": [],
      "source": [
        "r=1\n",
        "while r<=3:\n",
        "    c=1\n",
        "    while c<=3:\n",
        "        print(r,\",\",c,end=\"  \")\n",
        "        c+=1\n",
        "    print()\n",
        "    r+=1"
      ]
    },
    {
      "cell_type": "code",
      "execution_count": null,
      "metadata": {
        "id": "YT25Dp9QMZ8l"
      },
      "outputs": [],
      "source": [
        "r=1\n",
        "c=\n",
        "while r<=3:\n",
        "    c=1\n",
        "    while c<=3:\n",
        "        print(r*c,end=\" \")\n",
        "        c+=1\n",
        "\n",
        "    print()\n",
        "    r+=1"
      ]
    },
    {
      "cell_type": "code",
      "execution_count": null,
      "metadata": {
        "id": "7rqc4pcJVs4N"
      },
      "outputs": [],
      "source": [
        "\n"
      ]
    },
    {
      "cell_type": "code",
      "execution_count": null,
      "metadata": {
        "id": "lYsuCKuMhF3c"
      },
      "outputs": [],
      "source": [
        "r=3\n",
        "i=0\n",
        "while i<r: # to move the next line\n",
        "  j=0\n",
        "  while j<(r-i-1): # to print space\n",
        "    print(\" \",end=\"\")\n",
        "    j+=1\n",
        "  k=0\n",
        "  while k<i+1: # to print star\n",
        "    print(\"*\",end=\" \")\n",
        "    k+=1\n",
        "  print()\n",
        "  i+=1\n",
        "\n",
        "\n"
      ]
    },
    {
      "cell_type": "code",
      "execution_count": null,
      "metadata": {
        "id": "jDul_fld-g14"
      },
      "outputs": [],
      "source": [
        "fruits=[\"banana\",\"apple\",\"orange\"]\n",
        "for x in fruits:\n",
        "  print(x)"
      ]
    },
    {
      "cell_type": "code",
      "execution_count": null,
      "metadata": {
        "id": "jjMPLwyP_HtG"
      },
      "outputs": [],
      "source": [
        "for x in range(1,10,2):\n",
        "  print(x)\n"
      ]
    },
    {
      "cell_type": "code",
      "execution_count": null,
      "metadata": {
        "id": "eFOZw_BwAtSg"
      },
      "outputs": [],
      "source": [
        "f=[\"m\",\"b\",\"c\"]\n",
        "for x in f:\n",
        "  print(x)  # print break n mump vannath kond print ayathin sheshame statement noki break akollu\n",
        "  if x==\"b\":\n",
        "    break\n",
        "\n",
        "\n"
      ]
    },
    {
      "cell_type": "code",
      "execution_count": null,
      "metadata": {
        "id": "LxXti1jCBlUv"
      },
      "outputs": [],
      "source": [
        "c=[\"m\",\"b\",\"c\"]\n",
        "for i in c:\n",
        "  if i==\"b\":\n",
        "    break\n",
        "  print(i) #print break n shesham ayath kond statement nokitan break cheyyuka\n"
      ]
    },
    {
      "cell_type": "code",
      "execution_count": null,
      "metadata": {
        "id": "AadKHDvoD_MH"
      },
      "outputs": [],
      "source": [
        "for i in range(6):\n",
        "  print(i)\n",
        "else:\n",
        "  print(\"loop finish\")"
      ]
    },
    {
      "cell_type": "code",
      "execution_count": null,
      "metadata": {
        "id": "VfrU4NFPEgLU"
      },
      "outputs": [],
      "source": [
        "a =[\"p\",\"q\",\"r\"]\n",
        "b=[\"d\",\"o\",\"r\"]\n",
        "for x in a:\n",
        "  for y in b:\n",
        "    print(x,y)"
      ]
    },
    {
      "cell_type": "code",
      "execution_count": null,
      "metadata": {
        "id": "sN6etelmGLXV"
      },
      "outputs": [],
      "source": [
        "a =[\"p\",\"q\",\"r\"]\n",
        "b=[\"d\",\"o\",\"r\"]\n",
        "for x in a:\n",
        "  for y in b:\n",
        "    print(x,y,\",\",end=\" \")"
      ]
    },
    {
      "cell_type": "code",
      "execution_count": null,
      "metadata": {
        "id": "AtCh7d1AHevt"
      },
      "outputs": [],
      "source": [
        "for x in range(6):\n",
        "  if x==\"4\":\n",
        "    pass\n",
        "print(x)"
      ]
    },
    {
      "cell_type": "code",
      "execution_count": null,
      "metadata": {
        "id": "VQAhnX6BH0qL"
      },
      "outputs": [],
      "source": [
        "a=int(input(\"which number multiply\"))\n",
        "b=int(input(\"how many times\"))\n",
        "\n",
        "for x in range(1,b+1):\n",
        "  print(x, \"x\", b,\"=\",x*b)\n"
      ]
    },
    {
      "cell_type": "markdown",
      "source": [
        "# star"
      ],
      "metadata": {
        "id": "xZiQaf0-8VSh"
      }
    },
    {
      "cell_type": "code",
      "source": [
        "a=int(input(\"number\"))\n",
        "\n",
        "for i in range(a):\n",
        "  for k in range(a-i-1):\n",
        "    print(end=\" \")\n",
        "  for j in range(i+1):\n",
        "    print(\"*\",end=\" \")\n",
        "  print()"
      ],
      "metadata": {
        "id": "XJs0b5-F_TFM"
      },
      "execution_count": null,
      "outputs": []
    },
    {
      "cell_type": "code",
      "source": [
        "a= int(input(\"enter number\"))\n",
        "\n",
        "for i in range(a):\n",
        "  for k in range(i+1):\n",
        "    print(\"*\",end=\" \")\n",
        "  print()"
      ],
      "metadata": {
        "id": "dWZI6p9G_0_C"
      },
      "execution_count": null,
      "outputs": []
    },
    {
      "cell_type": "code",
      "execution_count": null,
      "metadata": {
        "id": "mUdNbFi-Brn2"
      },
      "outputs": [],
      "source": [
        "a=3\n",
        "for i in range(0,a):\n",
        "  for j in range(0,a-i-1):       #to print space\n",
        "    print(end=\" \")\n",
        "  for k in range(0,i+1):     # to print star\n",
        "    print(\"*\",end=\" \")\n",
        "  print()"
      ]
    },
    {
      "cell_type": "code",
      "source": [
        "for i in range(5):\n",
        "  for x in range(i+1):\n",
        "    print(\"*\",end=\" \")\n",
        "  print()\n"
      ],
      "metadata": {
        "id": "JeMbNStk9MAq"
      },
      "execution_count": null,
      "outputs": []
    },
    {
      "cell_type": "code",
      "source": [
        "r=3\n",
        "i=0\n",
        "while i<r: # to move the next line\n",
        "  j=0\n",
        "  while j<(r-i-1): # to print space\n",
        "    print(\" \",end=\"\")\n",
        "    j+=1\n",
        "  k=0\n",
        "  while k<i+1: # to print star\n",
        "    print(\"*\",end=\" \")\n",
        "    k+=1\n",
        "  print()\n",
        "  i+=1"
      ],
      "metadata": {
        "id": "iRYzPTWM9bcx"
      },
      "execution_count": null,
      "outputs": []
    },
    {
      "cell_type": "code",
      "source": [
        "a=int(input(\"number of lines  :\"))\n",
        "i=0\n",
        "while i<a:\n",
        "  k=0\n",
        "  while k<i+1:\n",
        "    print(\"*\",end=\" \")\n",
        "    k+=1\n",
        "  print()\n",
        "  i+=1"
      ],
      "metadata": {
        "id": "6iMfuFVn9Ttp"
      },
      "execution_count": null,
      "outputs": []
    },
    {
      "cell_type": "code",
      "source": [
        "row=int(input(\"enter the limit:\"))\n",
        "for i in range (1,row+1):\n",
        "  for j in range(65,65+i):\n",
        "    print(chr(j),end=\" \")\n",
        "  print()\n"
      ],
      "metadata": {
        "id": "pRhZH6ny--9Z"
      },
      "execution_count": null,
      "outputs": []
    },
    {
      "cell_type": "code",
      "execution_count": null,
      "metadata": {
        "id": "0sr7WG8oD2x1"
      },
      "outputs": [],
      "source": [
        "f=20\n",
        "for i in range(0,f):\n",
        "  for j in range(0,f-i-1):\n",
        "    print(end=\" \")\n",
        "  for k in range(0,i+1):\n",
        "    print(\"*\",end=\" \")\n",
        "  print()"
      ]
    },
    {
      "cell_type": "code",
      "execution_count": null,
      "metadata": {
        "id": "1WA4OXC8AVuX"
      },
      "outputs": [],
      "source": [
        "a=3\n",
        "for i in range(0,a):\n",
        "  for j in range(0,a-i-1):       #to print space\n",
        "    print(end=\" \")\n",
        "  for k in range(0,i+1):     # to print star\n",
        "    print(\"*\",end=\" \")\n",
        "  print()"
      ]
    },
    {
      "cell_type": "markdown",
      "metadata": {
        "id": "Ih5zCc_PArNV"
      },
      "source": [
        "# FUNCTIONS"
      ]
    },
    {
      "cell_type": "code",
      "execution_count": null,
      "metadata": {
        "id": "0WpdkHCUAWA1"
      },
      "outputs": [],
      "source": [
        "def myfunction():\n",
        "  print(\"it is a function\")\n",
        "myfunction()"
      ]
    },
    {
      "cell_type": "code",
      "source": [
        "def sum(a,b):\n",
        "  c=a+b\n",
        "  print(\"the sum is\",c)\n",
        "sum(10,20)"
      ],
      "metadata": {
        "id": "Uvn_1lW6hRra"
      },
      "execution_count": null,
      "outputs": []
    },
    {
      "cell_type": "code",
      "execution_count": null,
      "metadata": {
        "id": "8O3EjT_sDsQk"
      },
      "outputs": [],
      "source": [
        "def function(name):\n",
        "  print(\"my name is \",name)\n",
        "function(\"Anshif\")"
      ]
    },
    {
      "cell_type": "code",
      "execution_count": null,
      "metadata": {
        "id": "Ir1SqqT7FRWl"
      },
      "outputs": [],
      "source": [
        "a=4\n",
        "b=5\n",
        "def function(name):\n",
        "  print(\"my name is \",name,a*b)\n",
        "function(\"Anshif\")"
      ]
    },
    {
      "cell_type": "code",
      "execution_count": null,
      "metadata": {
        "id": "XeEo7MyLHDAe"
      },
      "outputs": [],
      "source": [
        "def function(name):\n",
        "  print(\"my name is \",name)\n",
        "value=\"Anshif\"\n",
        "function(value)"
      ]
    },
    {
      "cell_type": "code",
      "execution_count": null,
      "metadata": {
        "id": "pF0UWUkNHazz"
      },
      "outputs": [],
      "source": [
        "def function(name,age):\n",
        "  print(\"my name is \",name,\"age is\",age)\n",
        "value=\"anshif\"\n",
        "function(value,20)"
      ]
    },
    {
      "cell_type": "code",
      "execution_count": 185,
      "metadata": {
        "colab": {
          "base_uri": "https://localhost:8080/"
        },
        "id": "tNWtTRbqOo21",
        "outputId": "bd36b1d4-dfcd-4ee0-9b6d-4ccf0e58ff36"
      },
      "outputs": [
        {
          "output_type": "stream",
          "name": "stdout",
          "text": [
            "salary1000\n",
            "stapend500\n",
            "the sum is 1500\n"
          ]
        }
      ],
      "source": [
        "def sum(a,b):\n",
        "  c=a+b\n",
        "  print(\"the sum is\",c)\n",
        "x=int(input(\"salary\"))\n",
        "y=int(input(\"stapend\"))\n",
        "sum(x,y)\n"
      ]
    },
    {
      "cell_type": "code",
      "execution_count": 186,
      "metadata": {
        "colab": {
          "base_uri": "https://localhost:8080/"
        },
        "id": "J26gBALKTfeE",
        "outputId": "77aeda60-7e29-4055-db83-330a850e78f5"
      },
      "outputs": [
        {
          "output_type": "stream",
          "name": "stdout",
          "text": [
            "length5\n",
            "bredth4\n",
            "hieght4\n",
            " the vbolume is 80\n"
          ]
        }
      ],
      "source": [
        "def volume(a,b,c):\n",
        "  c=x*y*z\n",
        "  print(\" the vbolume is\",c)\n",
        "x=int(input(\"length\"))\n",
        "y=int(input(\"bredth\"))\n",
        "z=int(input(\"hieght\"))\n",
        "volume(x,y,z)\n",
        "\n"
      ]
    },
    {
      "cell_type": "code",
      "execution_count": 187,
      "metadata": {
        "colab": {
          "base_uri": "https://localhost:8080/"
        },
        "id": "Jx_mLl1YVIO6",
        "outputId": "e2f67464-45c2-4b40-c696-ae9f0a3b9d06"
      },
      "outputs": [
        {
          "output_type": "stream",
          "name": "stdout",
          "text": [
            "radius50\n",
            " the area is 7850.0\n"
          ]
        }
      ],
      "source": [
        "def area(a,b):\n",
        "  c=a*b**2\n",
        "  print(\" the area is\",c)\n",
        "\n",
        "\n",
        "\n",
        "x=3.14\n",
        "y=int(input(\"radius\"))\n",
        "\n",
        "area(x,y)\n"
      ]
    },
    {
      "cell_type": "code",
      "execution_count": 188,
      "metadata": {
        "colab": {
          "base_uri": "https://localhost:8080/"
        },
        "id": "9smfykMsWsaI",
        "outputId": "610fdbdc-8f80-4a6e-db46-7cb1915dcbf2"
      },
      "outputs": [
        {
          "output_type": "stream",
          "name": "stdout",
          "text": [
            "first value x second value y\n"
          ]
        }
      ],
      "source": [
        "def function(*a):\n",
        "  print(\"first value\",a[0],\"second value\",a[1])\n",
        "function(\"x\",\"y\")"
      ]
    },
    {
      "cell_type": "code",
      "execution_count": 189,
      "metadata": {
        "colab": {
          "base_uri": "https://localhost:8080/"
        },
        "id": "p5G38CETR1A9",
        "outputId": "f1d3bbe1-7d41-47d4-a002-0851e34003ef"
      },
      "outputs": [
        {
          "output_type": "stream",
          "name": "stdout",
          "text": [
            "10\n",
            "10\n"
          ]
        }
      ],
      "source": [
        "a=10\n",
        "def function():\n",
        "  print(a)\n",
        "print(a)\n",
        "function()"
      ]
    },
    {
      "cell_type": "code",
      "execution_count": 190,
      "metadata": {
        "colab": {
          "base_uri": "https://localhost:8080/"
        },
        "id": "KNxPtUXJSXrj",
        "outputId": "ec5c58c9-af10-4760-e963-294260ef12b7"
      },
      "outputs": [
        {
          "output_type": "stream",
          "name": "stdout",
          "text": [
            "20\n",
            "40\n"
          ]
        }
      ],
      "source": [
        "b=20\n",
        "def new():\n",
        "  b=40\n",
        "  print(b)\n",
        "print(b)\n",
        "new()\n",
        "\n"
      ]
    },
    {
      "cell_type": "code",
      "execution_count": null,
      "metadata": {
        "id": "VhurWd6xMCHc"
      },
      "outputs": [],
      "source": [
        "v = 10\n",
        "\n",
        "def sample():\n",
        "  global v  # Declare that we want to use the global 'v'\n",
        "  v = v + 1\n",
        "  print(v)\n",
        "\n",
        "sample()"
      ]
    },
    {
      "cell_type": "code",
      "execution_count": 193,
      "metadata": {
        "colab": {
          "base_uri": "https://localhost:8080/"
        },
        "id": "RjVUwhSgNJqT",
        "outputId": "09f482a4-c14b-4a21-de4c-9a8765a32817"
      },
      "outputs": [
        {
          "output_type": "stream",
          "name": "stdout",
          "text": [
            "11\n"
          ]
        }
      ],
      "source": [
        "v=10\n",
        "def sample():\n",
        "  s=v+1\n",
        "  print(s)\n",
        "sample()"
      ]
    },
    {
      "cell_type": "code",
      "execution_count": 194,
      "metadata": {
        "colab": {
          "base_uri": "https://localhost:8080/"
        },
        "id": "h_5EJrlNNWyZ",
        "outputId": "75b5e9b0-7ba0-42a4-84fd-b4d88de510bd"
      },
      "outputs": [
        {
          "output_type": "stream",
          "name": "stdout",
          "text": [
            "10 hello\n"
          ]
        }
      ],
      "source": [
        "\n",
        "def sample(a,b):\n",
        "  print(a,b)\n",
        "sample(a=10,b=\"hello\")"
      ]
    },
    {
      "cell_type": "code",
      "execution_count": 195,
      "metadata": {
        "colab": {
          "base_uri": "https://localhost:8080/"
        },
        "id": "awqFreZGN8Ir",
        "outputId": "97c9c6d0-0193-479c-f601-01ed5a90edfa"
      },
      "outputs": [
        {
          "output_type": "stream",
          "name": "stdout",
          "text": [
            "10 20\n"
          ]
        }
      ],
      "source": [
        "\n",
        "def sample(a=10,b=20):\n",
        "  print(a,b)\n",
        "sample()"
      ]
    },
    {
      "cell_type": "code",
      "execution_count": 196,
      "metadata": {
        "colab": {
          "base_uri": "https://localhost:8080/"
        },
        "id": "J0NJKtOZOVG6",
        "outputId": "1c6eed18-f0cc-4ca9-b71b-db53b765eb38"
      },
      "outputs": [
        {
          "output_type": "stream",
          "name": "stdout",
          "text": [
            "10 hello\n"
          ]
        }
      ],
      "source": [
        "\n",
        "def sample(a=10,b=\"\"):\n",
        "  print(a,b)\n",
        "sample(b=\"hello\")"
      ]
    },
    {
      "cell_type": "code",
      "execution_count": 197,
      "metadata": {
        "colab": {
          "base_uri": "https://localhost:8080/"
        },
        "id": "i9P3POCnPucc",
        "outputId": "35d6c53e-b88d-4b80-d9b3-fa08104fdfad"
      },
      "outputs": [
        {
          "output_type": "stream",
          "name": "stdout",
          "text": [
            "name 25\n"
          ]
        }
      ],
      "source": [
        "def sample(a,b=20):\n",
        "  print(a,b)\n",
        "sample(a=\"name\",b=25)"
      ]
    },
    {
      "cell_type": "code",
      "execution_count": 198,
      "metadata": {
        "colab": {
          "base_uri": "https://localhost:8080/"
        },
        "id": "15CwLQ8iQ3GC",
        "outputId": "3a5ab667-f89a-46de-ea74-20349d932829"
      },
      "outputs": [
        {
          "output_type": "stream",
          "name": "stdout",
          "text": [
            "25\n"
          ]
        }
      ],
      "source": [
        "def sum(n1,n2):\n",
        "  a=n1+n2\n",
        "  return a ###  return kodth yenth kodkunno ath direct last ulla functionloat store akum !!!!!!!!!!!!!!!!!!!!!!!!!!!!!!!!!!!!!1\n",
        "result=sum(10,15)\n",
        "print(result)"
      ]
    },
    {
      "cell_type": "markdown",
      "source": [
        "# factorial"
      ],
      "metadata": {
        "id": "DwFcY7zs8aDZ"
      }
    },
    {
      "cell_type": "code",
      "execution_count": 199,
      "metadata": {
        "colab": {
          "base_uri": "https://localhost:8080/"
        },
        "id": "AkfToSbGWi-0",
        "outputId": "ffe75723-d295-4712-cbc5-e7ce9abce6f0"
      },
      "outputs": [
        {
          "output_type": "stream",
          "name": "stdout",
          "text": [
            "factorial number6\n",
            "720\n"
          ]
        }
      ],
      "source": [
        "# n numbers nte factorial kanan!!!1\n",
        "\n",
        "a=int(input(\"factorial number\"))\n",
        "fact=1\n",
        "if a<0:\n",
        "  print(\"false\")\n",
        "else:\n",
        "  for x in range(1,a+1):\n",
        "    fact=fact*x\n",
        "  print(fact)"
      ]
    },
    {
      "cell_type": "code",
      "execution_count": 200,
      "metadata": {
        "colab": {
          "base_uri": "https://localhost:8080/"
        },
        "id": "DOYNavq5iE_R",
        "outputId": "26a04c2a-b069-4d95-cf00-b38345c3b924"
      },
      "outputs": [
        {
          "output_type": "stream",
          "name": "stdout",
          "text": [
            "factorial number6\n",
            "720\n"
          ]
        }
      ],
      "source": [
        "a=int(input(\"factorial number\"))\n",
        "fact=1\n",
        "for x in range(1,a+1):\n",
        "  fact=fact*x\n",
        "print(fact)\n",
        "\n"
      ]
    },
    {
      "cell_type": "code",
      "source": [
        "a=10\n",
        "fact=0\n",
        "for i in range(1,a+1):\n",
        "  fact=fact+i\n",
        "print(fact)"
      ],
      "metadata": {
        "colab": {
          "base_uri": "https://localhost:8080/"
        },
        "id": "9VWtV_5ouhX0",
        "outputId": "56ce6334-2519-4afe-e1dd-1be7ce957c01"
      },
      "execution_count": 201,
      "outputs": [
        {
          "output_type": "stream",
          "name": "stdout",
          "text": [
            "55\n"
          ]
        }
      ]
    },
    {
      "cell_type": "code",
      "execution_count": 202,
      "metadata": {
        "colab": {
          "base_uri": "https://localhost:8080/"
        },
        "id": "hex2_iOHTRy8",
        "outputId": "0e37029f-fe7c-4080-8b2b-114ab91664b8"
      },
      "outputs": [
        {
          "output_type": "stream",
          "name": "stdout",
          "text": [
            "input factorial num9\n",
            "9 ! = 362880\n"
          ]
        }
      ],
      "source": [
        "# n numbers nte factorial def vech  kanan equation\n",
        "\n",
        "def fn(n):\n",
        "  if n==0:\n",
        "    return 1\n",
        "  else:\n",
        "    return n*fn(n-1) # return nte operation  last ulla fn call loat save akunnu\n",
        "num=int(input(\"input factorial num\"))\n",
        "result=fn(num)\n",
        "print(num,\"! =\",result)\n"
      ]
    },
    {
      "cell_type": "code",
      "execution_count": 203,
      "metadata": {
        "colab": {
          "base_uri": "https://localhost:8080/"
        },
        "id": "ms34H4gverFf",
        "outputId": "115f8a19-4ba0-4dcc-ec42-5e2eaaf719fe"
      },
      "outputs": [
        {
          "output_type": "stream",
          "name": "stdout",
          "text": [
            "4 != 24\n"
          ]
        }
      ],
      "source": [
        "def fn(n):\n",
        "  if n==0:\n",
        "    return 1\n",
        "  else:\n",
        "    return n*fn(n-1)\n",
        "num=4\n",
        "result=fn(num)\n",
        "print(num,\"!=\",result)\n"
      ]
    },
    {
      "cell_type": "code",
      "execution_count": 204,
      "metadata": {
        "colab": {
          "base_uri": "https://localhost:8080/"
        },
        "id": "OT_rr6YchTwg",
        "outputId": "c15fa357-e7dd-477e-cdde-8247cdb833c8"
      },
      "outputs": [
        {
          "output_type": "stream",
          "name": "stdout",
          "text": [
            "5 != 15\n"
          ]
        }
      ],
      "source": [
        "# n numbers nte sum kanan equation\n",
        "\n",
        "def fn(n):\n",
        "  if n==0:\n",
        "    return 0\n",
        "  else:\n",
        "    return n+fn(n-1)\n",
        "sum=5 #sum number\n",
        "result=fn(sum)\n",
        "print(sum,\"!=\",result)\n"
      ]
    },
    {
      "cell_type": "code",
      "execution_count": 205,
      "metadata": {
        "colab": {
          "base_uri": "https://localhost:8080/"
        },
        "id": "LJyGAsU_uv0g",
        "outputId": "67fa7716-06f6-407a-8b71-3470ad71e56c"
      },
      "outputs": [
        {
          "output_type": "stream",
          "name": "stdout",
          "text": [
            "sum number 5\n",
            "15\n"
          ]
        }
      ],
      "source": [
        "n=int(input(\"sum number \"))\n",
        "sum=0\n",
        "for i in range(1,n+1):\n",
        "\n",
        "  sum=sum+i\n",
        "print(sum)\n",
        "\n"
      ]
    },
    {
      "cell_type": "code",
      "execution_count": 206,
      "metadata": {
        "colab": {
          "base_uri": "https://localhost:8080/"
        },
        "id": "WkgDBW1SyO0g",
        "outputId": "f2b73cd5-4345-4b04-a872-8fb4206c50e8"
      },
      "outputs": [
        {
          "output_type": "stream",
          "name": "stdout",
          "text": [
            " number 5\n",
            "prime number\n"
          ]
        }
      ],
      "source": [
        "a=int(input(\" number \"))\n",
        "if a==1:\n",
        "  print(\" not a prime number\")\n",
        "elif  a/2%1:\n",
        "  print(\"prime number\")\n",
        "else:\n",
        "  print(\" not a prime number\")\n"
      ]
    },
    {
      "cell_type": "code",
      "source": [
        "a=10\n",
        "fact=1\n",
        "for i in range(1,a+1):\n",
        "  fact=fact*i\n",
        "print(fact)"
      ],
      "metadata": {
        "colab": {
          "base_uri": "https://localhost:8080/"
        },
        "id": "aMIp-4p-uDPW",
        "outputId": "aea1faf4-72fa-4784-ee5b-102dcfe2cbaa"
      },
      "execution_count": 207,
      "outputs": [
        {
          "output_type": "stream",
          "name": "stdout",
          "text": [
            "3628800\n"
          ]
        }
      ]
    },
    {
      "cell_type": "code",
      "execution_count": 208,
      "metadata": {
        "colab": {
          "base_uri": "https://localhost:8080/"
        },
        "id": "ZoOoXsJ02Vph",
        "outputId": "34a6aa10-4aaa-41b3-8d59-e5edcd25df51"
      },
      "outputs": [
        {
          "output_type": "stream",
          "name": "stdout",
          "text": [
            "number5\n",
            "prime number\n"
          ]
        }
      ],
      "source": [
        "n=int(input(\"number\"))\n",
        "for i in range(2,n-1):\n",
        "  if n%i==0:\n",
        "    print(\"not a prime \")\n",
        "    break\n",
        "else:\n",
        "  print(\"prime number\")\n",
        "\n",
        "\n"
      ]
    },
    {
      "cell_type": "code",
      "execution_count": 209,
      "metadata": {
        "colab": {
          "base_uri": "https://localhost:8080/"
        },
        "id": "LJt2Al5BasmT",
        "outputId": "1dc44964-6398-473d-b400-95a531e68a40"
      },
      "outputs": [
        {
          "output_type": "stream",
          "name": "stdout",
          "text": [
            "first value x second value y\n"
          ]
        }
      ],
      "source": [
        "# position (index) argument\n",
        "\n",
        "def function(*a):\n",
        "  print(\"first value\",a[0],\"second value\",a[1])\n",
        "function(\"x\",\"y\")"
      ]
    },
    {
      "cell_type": "code",
      "execution_count": 210,
      "metadata": {
        "colab": {
          "base_uri": "https://localhost:8080/"
        },
        "id": "WbJHgokwT4Ws",
        "outputId": "326167b3-e47d-478d-b95a-fca43333d6a1"
      },
      "outputs": [
        {
          "output_type": "stream",
          "name": "stdout",
          "text": [
            "his name is arjun ks\n"
          ]
        }
      ],
      "source": [
        "# key word argument\n",
        "\n",
        "def fn(**kid):\n",
        "  print(\"his name is\",kid[\"fname\"],kid[\"lname\"])\n",
        "fn(fname=\"arjun\",lname=\"ks\")\n"
      ]
    },
    {
      "cell_type": "code",
      "execution_count": 211,
      "metadata": {
        "colab": {
          "base_uri": "https://localhost:8080/"
        },
        "id": "xJkcwbWOYBJ9",
        "outputId": "56cee855-85af-4c6c-f97c-154dc7fa9337"
      },
      "outputs": [
        {
          "output_type": "stream",
          "name": "stdout",
          "text": [
            "i am from  india\n",
            "i am from  norway\n",
            "i am from  london\n"
          ]
        }
      ],
      "source": [
        "\n",
        "def fn(c=\"norway\"):\n",
        "  print(\"i am from \",c)\n",
        "\n",
        "fn(\"india\")\n",
        "fn()\n",
        "fn(\"london\")"
      ]
    },
    {
      "cell_type": "code",
      "execution_count": 212,
      "metadata": {
        "colab": {
          "base_uri": "https://localhost:8080/"
        },
        "id": "JXAE5tZUZXkz",
        "outputId": "025c9cb6-dd1c-4b20-fcc7-577ead53a471"
      },
      "outputs": [
        {
          "output_type": "stream",
          "name": "stdout",
          "text": [
            "7\n"
          ]
        }
      ],
      "source": [
        "# position only argument\n",
        "\n",
        "def sum(a,b,/):\n",
        "  c=a+b\n",
        "  print(c)\n",
        "sum(3,4)"
      ]
    },
    {
      "cell_type": "code",
      "execution_count": 213,
      "metadata": {
        "colab": {
          "base_uri": "https://localhost:8080/"
        },
        "id": "H0RJNJbWZuFK",
        "outputId": "c4a0cc61-099b-4cbf-e6b0-9f5e7ed566b4"
      },
      "outputs": [
        {
          "output_type": "stream",
          "name": "stdout",
          "text": [
            "7\n"
          ]
        }
      ],
      "source": [
        "# key word  only argument\n",
        "\n",
        "def sum(*,a,b):\n",
        "  c=a+b\n",
        "  print(c)\n",
        "\n",
        "sum(a=4,b=3)"
      ]
    },
    {
      "cell_type": "code",
      "execution_count": 214,
      "metadata": {
        "colab": {
          "base_uri": "https://localhost:8080/"
        },
        "id": "1Kjewqk4cF38",
        "outputId": "1118174c-a1f2-43a6-95b0-daf24a6c30d5"
      },
      "outputs": [
        {
          "output_type": "stream",
          "name": "stdout",
          "text": [
            "17\n",
            "50\n"
          ]
        }
      ],
      "source": [
        "#  COMPAIN POSITION ONLY  AND KEY WORD ARGUUMENT\n",
        "\n",
        "def sum(a,b,/,*,c,d):\n",
        "  e=a+b\n",
        "  g=c+d\n",
        "  print(e)\n",
        "  print(g)\n",
        "sum(7,10,c=20,d=30)"
      ]
    },
    {
      "cell_type": "code",
      "execution_count": 215,
      "metadata": {
        "colab": {
          "base_uri": "https://localhost:8080/"
        },
        "id": "ZvqhN96Rd3px",
        "outputId": "e329d051-916f-41d6-a228-2a5b9e543654"
      },
      "outputs": [
        {
          "output_type": "execute_result",
          "data": {
            "text/plain": [
              "7"
            ]
          },
          "metadata": {},
          "execution_count": 215
        }
      ],
      "source": [
        "# LAMBDA FUNCTION\n",
        "\n",
        "p=lambda a,b:a+b\n",
        "p(3,4)\n"
      ]
    },
    {
      "cell_type": "code",
      "execution_count": 216,
      "metadata": {
        "colab": {
          "base_uri": "https://localhost:8080/"
        },
        "id": "NZloSsF7fpod",
        "outputId": "40a447ef-f168-4382-95d9-7c67addf131b"
      },
      "outputs": [
        {
          "output_type": "stream",
          "name": "stdout",
          "text": [
            "1\n",
            "2\n",
            "1\n",
            "3\n",
            "1\n",
            "2\n",
            "1\n"
          ]
        }
      ],
      "source": [
        "def f(n):\n",
        "  if(n<=0):\n",
        "    return 1\n",
        "  else:\n",
        "    f(n-1)\n",
        "    print(n)\n",
        "    f(n-1)\n",
        "f(3)"
      ]
    },
    {
      "cell_type": "markdown",
      "metadata": {
        "id": "qpBez-D7Wi-5"
      },
      "source": [
        "# PROBLEMS WRKOUT"
      ]
    },
    {
      "cell_type": "code",
      "execution_count": 217,
      "metadata": {
        "colab": {
          "base_uri": "https://localhost:8080/"
        },
        "id": "e_4wZl3edriC",
        "outputId": "ebb7eb4c-9f20-42fd-a9ed-c1e2b9137ab3"
      },
      "outputs": [
        {
          "output_type": "stream",
          "name": "stdout",
          "text": [
            "8,11,14,17,20,23,26,29,32,35,38,41,44,47,50,53,56,59,62,65,68,71,74,77,80,83,86,89,\n",
            "8,11,14,17,20,23,26,29,32,35,38,41,44,47,50,53,56,59,62,65,68,71,74,77,80,83,86,89,"
          ]
        }
      ],
      "source": [
        "# write a program to print following series?\n",
        "#(8,11,14,17,............,83,86,89)\n",
        "\n",
        "n=89\n",
        "for i in range(8,n+1,3):\n",
        "  print(i,end=\",\")\n",
        "\n",
        "\n",
        "print()\n",
        "\n",
        "\n",
        "a=8\n",
        "while a<=89:\n",
        "  print(a,end=\",\")\n",
        "  a+=3"
      ]
    },
    {
      "cell_type": "code",
      "execution_count": 218,
      "metadata": {
        "colab": {
          "base_uri": "https://localhost:8080/"
        },
        "id": "8Z1uI7Pvl21H",
        "outputId": "81cae99f-048f-493e-d2c8-48e80fe12a19"
      },
      "outputs": [
        {
          "output_type": "stream",
          "name": "stdout",
          "text": [
            "100,98,96,94,92,90,88,86,84,82,80,78,76,74,72,70,68,66,64,62,60,58,56,54,52,50,48,46,44,42,40,38,36,34,32,30,28,26,24,22,20,18,16,14,12,10,8,6,4,2,\n",
            "100,98,96,94,92,90,88,86,84,82,80,78,76,74,72,70,68,66,64,62,60,58,56,54,52,50,48,46,44,42,40,38,36,34,32,30,28,26,24,22,20,18,16,14,12,10,8,6,4,2,"
          ]
        }
      ],
      "source": [
        "\n",
        "n=100\n",
        "for i in range(n,1,-2):\n",
        "  print(i,end=\",\")\n",
        "\n",
        "print()\n",
        "x=100\n",
        "while x>=2:\n",
        "  print(x,end=\",\")\n",
        "  x+=-2\n",
        "\n"
      ]
    },
    {
      "cell_type": "code",
      "execution_count": 219,
      "metadata": {
        "colab": {
          "base_uri": "https://localhost:8080/"
        },
        "id": "wEAtszRroNjK",
        "outputId": "7b621bc7-e42e-4f43-de7c-668cb37f48a1"
      },
      "outputs": [
        {
          "output_type": "stream",
          "name": "stdout",
          "text": [
            "number of lines  :56\n",
            "* \n",
            "* * \n",
            "* * * \n",
            "* * * * \n",
            "* * * * * \n",
            "* * * * * * \n",
            "* * * * * * * \n",
            "* * * * * * * * \n",
            "* * * * * * * * * \n",
            "* * * * * * * * * * \n",
            "* * * * * * * * * * * \n",
            "* * * * * * * * * * * * \n",
            "* * * * * * * * * * * * * \n",
            "* * * * * * * * * * * * * * \n",
            "* * * * * * * * * * * * * * * \n",
            "* * * * * * * * * * * * * * * * \n",
            "* * * * * * * * * * * * * * * * * \n",
            "* * * * * * * * * * * * * * * * * * \n",
            "* * * * * * * * * * * * * * * * * * * \n",
            "* * * * * * * * * * * * * * * * * * * * \n",
            "* * * * * * * * * * * * * * * * * * * * * \n",
            "* * * * * * * * * * * * * * * * * * * * * * \n",
            "* * * * * * * * * * * * * * * * * * * * * * * \n",
            "* * * * * * * * * * * * * * * * * * * * * * * * \n",
            "* * * * * * * * * * * * * * * * * * * * * * * * * \n",
            "* * * * * * * * * * * * * * * * * * * * * * * * * * \n",
            "* * * * * * * * * * * * * * * * * * * * * * * * * * * \n",
            "* * * * * * * * * * * * * * * * * * * * * * * * * * * * \n",
            "* * * * * * * * * * * * * * * * * * * * * * * * * * * * * \n",
            "* * * * * * * * * * * * * * * * * * * * * * * * * * * * * * \n",
            "* * * * * * * * * * * * * * * * * * * * * * * * * * * * * * * \n",
            "* * * * * * * * * * * * * * * * * * * * * * * * * * * * * * * * \n",
            "* * * * * * * * * * * * * * * * * * * * * * * * * * * * * * * * * \n",
            "* * * * * * * * * * * * * * * * * * * * * * * * * * * * * * * * * * \n",
            "* * * * * * * * * * * * * * * * * * * * * * * * * * * * * * * * * * * \n",
            "* * * * * * * * * * * * * * * * * * * * * * * * * * * * * * * * * * * * \n",
            "* * * * * * * * * * * * * * * * * * * * * * * * * * * * * * * * * * * * * \n",
            "* * * * * * * * * * * * * * * * * * * * * * * * * * * * * * * * * * * * * * \n",
            "* * * * * * * * * * * * * * * * * * * * * * * * * * * * * * * * * * * * * * * \n",
            "* * * * * * * * * * * * * * * * * * * * * * * * * * * * * * * * * * * * * * * * \n",
            "* * * * * * * * * * * * * * * * * * * * * * * * * * * * * * * * * * * * * * * * * \n",
            "* * * * * * * * * * * * * * * * * * * * * * * * * * * * * * * * * * * * * * * * * * \n",
            "* * * * * * * * * * * * * * * * * * * * * * * * * * * * * * * * * * * * * * * * * * * \n",
            "* * * * * * * * * * * * * * * * * * * * * * * * * * * * * * * * * * * * * * * * * * * * \n",
            "* * * * * * * * * * * * * * * * * * * * * * * * * * * * * * * * * * * * * * * * * * * * * \n",
            "* * * * * * * * * * * * * * * * * * * * * * * * * * * * * * * * * * * * * * * * * * * * * * \n",
            "* * * * * * * * * * * * * * * * * * * * * * * * * * * * * * * * * * * * * * * * * * * * * * * \n",
            "* * * * * * * * * * * * * * * * * * * * * * * * * * * * * * * * * * * * * * * * * * * * * * * * \n",
            "* * * * * * * * * * * * * * * * * * * * * * * * * * * * * * * * * * * * * * * * * * * * * * * * * \n",
            "* * * * * * * * * * * * * * * * * * * * * * * * * * * * * * * * * * * * * * * * * * * * * * * * * * \n",
            "* * * * * * * * * * * * * * * * * * * * * * * * * * * * * * * * * * * * * * * * * * * * * * * * * * * \n",
            "* * * * * * * * * * * * * * * * * * * * * * * * * * * * * * * * * * * * * * * * * * * * * * * * * * * * \n",
            "* * * * * * * * * * * * * * * * * * * * * * * * * * * * * * * * * * * * * * * * * * * * * * * * * * * * * \n",
            "* * * * * * * * * * * * * * * * * * * * * * * * * * * * * * * * * * * * * * * * * * * * * * * * * * * * * * \n",
            "* * * * * * * * * * * * * * * * * * * * * * * * * * * * * * * * * * * * * * * * * * * * * * * * * * * * * * * \n",
            "* * * * * * * * * * * * * * * * * * * * * * * * * * * * * * * * * * * * * * * * * * * * * * * * * * * * * * * * \n"
          ]
        }
      ],
      "source": [
        "a=int(input(\"number of lines  :\"))\n",
        "i=0\n",
        "while i<a:\n",
        "  k=0\n",
        "  while k<i+1:\n",
        "    print(\"*\",end=\" \")\n",
        "    k+=1\n",
        "  print()\n",
        "  i+=1"
      ]
    },
    {
      "cell_type": "code",
      "execution_count": 220,
      "metadata": {
        "colab": {
          "base_uri": "https://localhost:8080/"
        },
        "id": "jrFKgCuYss71",
        "outputId": "440bce90-59e4-4975-84cb-1e8749d50c09"
      },
      "outputs": [
        {
          "output_type": "stream",
          "name": "stdout",
          "text": [
            "* \n",
            "* * \n",
            "* * * \n",
            "* * * * \n",
            "* * * * * \n"
          ]
        }
      ],
      "source": [
        "\n",
        "for i in range(5):\n",
        "  for x in range(i+1):\n",
        "    print(\"*\",end=\" \")\n",
        "  print()\n"
      ]
    },
    {
      "cell_type": "code",
      "execution_count": 221,
      "metadata": {
        "colab": {
          "base_uri": "https://localhost:8080/"
        },
        "id": "LA_P7IQjyvJl",
        "outputId": "fa59807c-a72b-4a3b-aab1-3ee131b03299"
      },
      "outputs": [
        {
          "name": "stdout",
          "output_type": "stream",
          "text": [
            "number45\n"
          ]
        },
        {
          "output_type": "execute_result",
          "data": {
            "text/plain": [
              "9"
            ]
          },
          "metadata": {},
          "execution_count": 221
        }
      ],
      "source": [
        "# write a program to calculate  the sum of two numbers with function and return it value?\n",
        "a=int(input(\"number\"))\n",
        "def sum(a,b):\n",
        "  c=a+b\n",
        "  return c\n",
        "sum(5,4)"
      ]
    },
    {
      "cell_type": "code",
      "execution_count": 221,
      "metadata": {
        "id": "FnGUZq089NC0"
      },
      "outputs": [],
      "source": []
    },
    {
      "cell_type": "code",
      "execution_count": 222,
      "metadata": {
        "colab": {
          "base_uri": "https://localhost:8080/"
        },
        "id": "fZiPRmxcGdpH",
        "outputId": "277125df-c6c3-49ae-9660-21efc65f2775"
      },
      "outputs": [
        {
          "output_type": "stream",
          "name": "stdout",
          "text": [
            "enter password : 123\n",
            "wrong pasword re enter you got  4 times left\n",
            "enter password : 123\n",
            "wrong pasword re enter you got  3 times left\n",
            "enter password : 123\n",
            "wrong pasword re enter you got  2 times left\n",
            "enter password : 125\n",
            "wrong pasword re enter you got  1 times left\n",
            "enter password : 123\n",
            "wrong pasword re enter you got  0 times left\n",
            "enter password : 123\n",
            "wrong pasword re enter you got  -1 times left\n",
            "your chance is over\n"
          ]
        }
      ],
      "source": [
        "# write a program to ask to enter a password if password is correct  the program should tell they are loged in to system other wise the program should ask them to re enter the password,user get only five chance to re enter?\n",
        "\n",
        "\n",
        "q=1234\n",
        "for i in range(6):\n",
        "  b=int(input(\"enter password : \"))\n",
        "  if b==q:\n",
        "    print(\" your loged in to system \")\n",
        "    break\n",
        "  elif b!=q:\n",
        "   print( \"wrong pasword re enter you got \",4-i,\"times left\")\n",
        "else:\n",
        "  print(\"your chance is over\")\n"
      ]
    },
    {
      "cell_type": "code",
      "execution_count": 223,
      "metadata": {
        "colab": {
          "base_uri": "https://localhost:8080/"
        },
        "id": "F-aaWFUILLh5",
        "outputId": "915ff0ce-43ca-43cd-a6d6-ec259843ea8e"
      },
      "outputs": [
        {
          "output_type": "stream",
          "name": "stdout",
          "text": [
            "enter password : 159\n",
            "wrong pasword re enter you got  5 times left\n",
            "enter password : 123\n",
            "wrong pasword re enter you got  4 times left\n",
            "enter password : 159\n",
            "wrong pasword re enter you got  3 times left\n",
            "enter password : 159\n",
            "wrong pasword re enter you got  2 times left\n",
            "enter password : 159\n",
            "wrong pasword re enter you got  1 times left\n",
            "enter password : 159\n",
            "wrong pasword re enter you got  0 times left\n",
            "enter password : 159\n",
            "your chance is over\n"
          ]
        }
      ],
      "source": [
        "q=1234\n",
        "b=input(\"enter password : \")\n",
        "if q==b:\n",
        "  print(\" your loged in to system \")\n",
        "else:\n",
        "  for i in range(6):\n",
        "    if b!=q:\n",
        "      print( \"wrong pasword re enter you got \",5-i,\"times left\")\n",
        "      c=input(\"enter password : \")\n",
        "  else:\n",
        "    print(\"your chance is over\")\n"
      ]
    },
    {
      "cell_type": "code",
      "execution_count": 224,
      "metadata": {
        "colab": {
          "base_uri": "https://localhost:8080/"
        },
        "id": "MREAews8Het-",
        "outputId": "b9b9c106-8860-409a-fcd9-1967d0a9640d"
      },
      "outputs": [
        {
          "output_type": "stream",
          "name": "stdout",
          "text": [
            "20\n",
            "10\n"
          ]
        }
      ],
      "source": [
        "# wrie a program to swap two numbers without using a third variable?\n",
        "\n",
        "a=10\n",
        "b=20\n",
        "a=a+b\n",
        "b=a-b\n",
        "a=a-b\n",
        "print(a)\n",
        "print(b)\n"
      ]
    },
    {
      "cell_type": "code",
      "execution_count": 225,
      "metadata": {
        "colab": {
          "base_uri": "https://localhost:8080/"
        },
        "id": "Gbuy8A3XUBJW",
        "outputId": "e37b0879-a4d0-45db-b9ad-e0cc4c163276"
      },
      "outputs": [
        {
          "output_type": "stream",
          "name": "stdout",
          "text": [
            " enter number54\n",
            " plz enter number b/w 1,49\n"
          ]
        }
      ],
      "source": [
        "# write a program                average of numbers\n",
        "\n",
        "n=int(input(\" enter number\"))\n",
        "if n>49:\n",
        "  print(\" plz enter number b/w 1,49\")\n",
        "else:\n",
        "  sum=0\n",
        "  for x in range(1,n+1):\n",
        "    sum+=x\n",
        "  print(sum/n)"
      ]
    },
    {
      "cell_type": "code",
      "execution_count": 226,
      "metadata": {
        "colab": {
          "base_uri": "https://localhost:8080/"
        },
        "id": "wN-NT35bGwt0",
        "outputId": "cb5ae295-ff9b-4814-c49d-6604ae22d600"
      },
      "outputs": [
        {
          "output_type": "stream",
          "name": "stdout",
          "text": [
            "sum 650\n",
            "average 26.0\n"
          ]
        }
      ],
      "source": [
        "# write a program to find sum and average of all even  numbers b/w 1-50?\n",
        "\n",
        "\n",
        "\n",
        "sum=0\n",
        "for x in range(2,51,2):\n",
        "    sum+=x\n",
        "print(\"sum\",sum)\n",
        "print(\"average\",sum/(x/2))\n"
      ]
    },
    {
      "cell_type": "code",
      "execution_count": 227,
      "metadata": {
        "colab": {
          "base_uri": "https://localhost:8080/"
        },
        "id": "ghW07YijVYNK",
        "outputId": "78071534-98bd-4f3a-c95b-cc4e09ad5da8"
      },
      "outputs": [
        {
          "output_type": "stream",
          "name": "stdout",
          "text": [
            "5 factorial = 120\n"
          ]
        }
      ],
      "source": [
        "n=5\n",
        "fact=1\n",
        "for x in range(1,n+1):\n",
        "  fact=fact*x\n",
        "print(n,\"factorial =\",fact)"
      ]
    },
    {
      "cell_type": "code",
      "execution_count": 228,
      "metadata": {
        "colab": {
          "base_uri": "https://localhost:8080/"
        },
        "id": "H_apBMF8VYpq",
        "outputId": "ee74e199-9753-4695-80f1-6649f1bc80f7"
      },
      "outputs": [
        {
          "output_type": "stream",
          "name": "stdout",
          "text": [
            "factorial of 5 is= 120\n"
          ]
        }
      ],
      "source": [
        "def fn(n):\n",
        "  if n==0:\n",
        "    return 1\n",
        "  else:\n",
        "    return n*fn(n-1)\n",
        "\n",
        "num=5\n",
        "result=fn(num)\n",
        "print(\"factorial of\",num,\"is=\",result)"
      ]
    },
    {
      "cell_type": "code",
      "execution_count": 229,
      "metadata": {
        "colab": {
          "base_uri": "https://localhost:8080/"
        },
        "id": "v7E165Xygf7y",
        "outputId": "5f4188f7-3373-4b7a-8a68-3dbe59a783be"
      },
      "outputs": [
        {
          "output_type": "stream",
          "name": "stdout",
          "text": [
            "12\n"
          ]
        }
      ],
      "source": [
        "def mul(*a):\n",
        "  print(a[0]*a[1])\n",
        "mul(3,4)\n"
      ]
    },
    {
      "cell_type": "markdown",
      "metadata": {
        "id": "gOglB-lLRml_"
      },
      "source": [
        "# revision wrkout for loops\n"
      ]
    },
    {
      "cell_type": "code",
      "execution_count": 230,
      "metadata": {
        "colab": {
          "base_uri": "https://localhost:8080/"
        },
        "id": "S9Dip1wqYgRW",
        "outputId": "0fcdf9d7-15ce-4a64-dda1-63ff8b95b90b"
      },
      "outputs": [
        {
          "output_type": "stream",
          "name": "stdout",
          "text": [
            "0\n",
            "1\n",
            "2\n",
            "3\n",
            "4\n"
          ]
        }
      ],
      "source": [
        "for i in range(10):\n",
        "  if i ==5:\n",
        "    break # break kodthal kodth sangya oyivaki (5) athin mumb illath vare print akum\n",
        "  print(i)"
      ]
    },
    {
      "cell_type": "code",
      "execution_count": 231,
      "metadata": {
        "colab": {
          "base_uri": "https://localhost:8080/"
        },
        "id": "-_XqPEr5ZKz6",
        "outputId": "883014d1-83cc-4e36-8884-aa0c09a21296"
      },
      "outputs": [
        {
          "output_type": "stream",
          "name": "stdout",
          "text": [
            "0\n",
            "1\n",
            "2\n",
            "3\n",
            "4\n",
            "6\n",
            "7\n",
            "8\n",
            "9\n"
          ]
        }
      ],
      "source": [
        "for i in range(10):\n",
        "  if i ==5:\n",
        "    continue # continue kodthal kodtha sangya (5) cut aki backi print akum\n",
        "  print(i)"
      ]
    },
    {
      "cell_type": "code",
      "execution_count": 232,
      "metadata": {
        "colab": {
          "base_uri": "https://localhost:8080/"
        },
        "id": "YaV3LWVibUOu",
        "outputId": "5117fd26-205a-4d2d-b7f7-fb01aa437fbf"
      },
      "outputs": [
        {
          "output_type": "stream",
          "name": "stdout",
          "text": [
            "0\n",
            "1\n",
            "2\n",
            "3\n",
            "4\n"
          ]
        }
      ],
      "source": [
        "i=0\n",
        "while i<7:\n",
        "  if i==5:\n",
        "    break\n",
        "  print(i)\n",
        "  i+=1\n"
      ]
    },
    {
      "cell_type": "code",
      "execution_count": 234,
      "metadata": {
        "colab": {
          "base_uri": "https://localhost:8080/"
        },
        "id": "T3ZPtlRa2QMf",
        "outputId": "76ae3a91-e9c8-4999-da95-54b12aaf656a"
      },
      "outputs": [
        {
          "output_type": "stream",
          "name": "stdout",
          "text": [
            "3\n"
          ]
        }
      ],
      "source": [
        "# break kodthal loop break avum else workavilla\n",
        "\n",
        "numbers=[1,2,3,4,5]\n",
        "for x in numbers:\n",
        "  if x==3:\n",
        "    print(x)\n",
        "    break\n",
        "else:\n",
        "  print(\" no break occurd in the loop\")\n"
      ]
    },
    {
      "cell_type": "code",
      "execution_count": 235,
      "metadata": {
        "colab": {
          "base_uri": "https://localhost:8080/"
        },
        "id": "JCIH9mt94EcH",
        "outputId": "26173ba9-6382-4366-aa30-6be762267d95"
      },
      "outputs": [
        {
          "output_type": "stream",
          "name": "stdout",
          "text": [
            "0\n",
            "1\n",
            "2\n",
            "3\n",
            "4\n",
            "loop cmpltd without a break \n"
          ]
        }
      ],
      "source": [
        "# break kodthilel else um work avum\n",
        "\n",
        "\n",
        "for i in range(5):\n",
        "  print(i)\n",
        "else:\n",
        "  print(\"loop cmpltd without a break \")"
      ]
    },
    {
      "cell_type": "code",
      "execution_count": 236,
      "metadata": {
        "colab": {
          "base_uri": "https://localhost:8080/"
        },
        "id": "2rBoVBBg4aYW",
        "outputId": "84c8e74e-c6cd-466c-c313-b041bb1985f0"
      },
      "outputs": [
        {
          "output_type": "stream",
          "name": "stdout",
          "text": [
            "1\n",
            "3\n",
            "5\n",
            "7\n",
            "9\n"
          ]
        }
      ],
      "source": [
        "\n",
        "for i in range(10):\n",
        "  if i%2==0:\n",
        "    pass # no action needed for even numbers\n",
        "  else:\n",
        "    print(i)\n"
      ]
    },
    {
      "cell_type": "code",
      "execution_count": 237,
      "metadata": {
        "colab": {
          "base_uri": "https://localhost:8080/"
        },
        "id": "1jFK84cD-j01",
        "outputId": "135e1d1e-be44-47f7-de97-93a2b1b9d665"
      },
      "outputs": [
        {
          "output_type": "stream",
          "name": "stdout",
          "text": [
            "anshif\n",
            "anshif\n",
            "anshif\n",
            "anshif\n",
            "anshif\n"
          ]
        }
      ],
      "source": [
        "# 1? write a program that prints your name 5times.\n",
        "\n",
        "a=\"anshif\"\n",
        "for x in range(5):\n",
        "  print(a)"
      ]
    },
    {
      "cell_type": "code",
      "execution_count": 238,
      "metadata": {
        "colab": {
          "base_uri": "https://localhost:8080/"
        },
        "id": "31fETpMSAEr-",
        "outputId": "a6d1a2b2-8b07-42c0-975d-eef5f6b40586"
      },
      "outputs": [
        {
          "output_type": "stream",
          "name": "stdout",
          "text": [
            "anshif\n",
            "anshifanshifanshifanshifanshifanshif\n",
            "anshifanshifanshifanshifanshifanshif\n",
            "anshifanshifanshifanshifanshifanshif\n",
            "anshifanshifanshifanshifanshifanshif\n",
            "anshifanshifanshifanshifanshif"
          ]
        }
      ],
      "source": [
        "# 2?\n",
        "a=\"anshif\"\n",
        "for x in range(5):\n",
        "  print(a)\n",
        "  for i in range(5):\n",
        "    print(a,end=\"\")\n"
      ]
    },
    {
      "cell_type": "code",
      "execution_count": 239,
      "metadata": {
        "colab": {
          "base_uri": "https://localhost:8080/"
        },
        "id": "r-0MdEFUCN2t",
        "outputId": "e6586b40-9d67-4800-8b30-db98d5d34a45"
      },
      "outputs": [
        {
          "output_type": "stream",
          "name": "stdout",
          "text": [
            "1 anshif\n",
            "2 anshif\n",
            "3 anshif\n",
            "4 anshif\n",
            "5 anshif\n",
            "6 anshif\n",
            "7 anshif\n",
            "8 anshif\n",
            "9 anshif\n",
            "10 anshif\n"
          ]
        }
      ],
      "source": [
        "# 4?\n",
        "a=\"anshif\"\n",
        "for x in range(1,11):\n",
        "  print(x,a)\n",
        "\n",
        "\n"
      ]
    },
    {
      "cell_type": "code",
      "execution_count": 240,
      "metadata": {
        "colab": {
          "base_uri": "https://localhost:8080/"
        },
        "id": "CL3pHzVVEilk",
        "outputId": "527ec1e9-1d30-43a0-fb70-db48077e1b30"
      },
      "outputs": [
        {
          "output_type": "stream",
          "name": "stdout",
          "text": [
            "1 x 1 = 1\n",
            "2 x 2 = 4\n",
            "3 x 3 = 9\n",
            "4 x 4 = 16\n",
            "5 x 5 = 25\n",
            "6 x 6 = 36\n",
            "7 x 7 = 49\n",
            "8 x 8 = 64\n",
            "9 x 9 = 81\n"
          ]
        }
      ],
      "source": [
        "\n",
        "for x in range(1,10):\n",
        "  print(x,\"x\",x,\"=\",x*x)"
      ]
    },
    {
      "cell_type": "code",
      "execution_count": 241,
      "metadata": {
        "id": "lYxyn4s8HSU5"
      },
      "outputs": [],
      "source": [
        "a=[1,2,3]\n"
      ]
    },
    {
      "cell_type": "code",
      "execution_count": 242,
      "metadata": {
        "colab": {
          "base_uri": "https://localhost:8080/"
        },
        "id": "87xVAXRXB30m",
        "outputId": "9e2c4f74-3762-4c8a-a9a2-86cf1ec7958d"
      },
      "outputs": [
        {
          "output_type": "stream",
          "name": "stdout",
          "text": [
            "i= 0 j= 0\n",
            "i= 0 j= 1\n",
            "i= 0 j= 2\n",
            "i= 0 j= 3\n",
            "\n",
            "i= 1 j= 0\n",
            "i= 1 j= 1\n",
            "i= 1 j= 2\n",
            "i= 1 j= 3\n",
            "\n",
            "i= 2 j= 0\n",
            "i= 2 j= 1\n",
            "i= 2 j= 2\n",
            "i= 2 j= 3\n",
            "\n"
          ]
        }
      ],
      "source": [
        "for i in range(3):\n",
        "  for j in range(4):\n",
        "    print(\"i=\",i,\"j=\",j)\n",
        "  print()"
      ]
    },
    {
      "cell_type": "code",
      "execution_count": 243,
      "metadata": {
        "colab": {
          "base_uri": "https://localhost:8080/"
        },
        "id": "wvideJn1MLlb",
        "outputId": "987b86ee-ff74-454c-e41f-23d96676c248"
      },
      "outputs": [
        {
          "output_type": "stream",
          "name": "stdout",
          "text": [
            "  * \n",
            " * * \n",
            "* * * \n"
          ]
        }
      ],
      "source": [
        "a=3\n",
        "for i in range(0,a):\n",
        "  for j in range(0,a-i-1):       #to print space\n",
        "    print(end=\" \")\n",
        "  for k in range(0,i+1):     # to print star\n",
        "    print(\"*\",end=\" \")\n",
        "  print()"
      ]
    },
    {
      "cell_type": "code",
      "execution_count": 243,
      "metadata": {
        "id": "jHbmSqrzVSW6"
      },
      "outputs": [],
      "source": []
    },
    {
      "cell_type": "markdown",
      "metadata": {
        "id": "9oEagFoiICTb"
      },
      "source": [
        "# FUNCTION REVISION\n",
        "1 bulit in function\n",
        "\n",
        "2 user defined funcion\n"
      ]
    },
    {
      "cell_type": "markdown",
      "metadata": {
        "id": "f-IbbbctNHip"
      },
      "source": [
        "# 1 built in function\n",
        " print,input,pow,max,min"
      ]
    },
    {
      "cell_type": "code",
      "execution_count": 244,
      "metadata": {
        "colab": {
          "base_uri": "https://localhost:8080/"
        },
        "id": "8FJ-WFwDNSJp",
        "outputId": "ddb85245-d703-4bca-90e9-b310554f1cfb"
      },
      "outputs": [
        {
          "output_type": "stream",
          "name": "stdout",
          "text": [
            "9\n"
          ]
        }
      ],
      "source": [
        "print(pow(3,2))"
      ]
    },
    {
      "cell_type": "code",
      "execution_count": 245,
      "metadata": {
        "colab": {
          "base_uri": "https://localhost:8080/"
        },
        "id": "mKcr_TBAOxhQ",
        "outputId": "27e6fdd3-d7d8-45a0-c4b1-bed8f3b1af93"
      },
      "outputs": [
        {
          "output_type": "stream",
          "name": "stdout",
          "text": [
            "505\n"
          ]
        }
      ],
      "source": [
        "print(max(55,505,4))"
      ]
    },
    {
      "cell_type": "code",
      "execution_count": 246,
      "metadata": {
        "colab": {
          "base_uri": "https://localhost:8080/"
        },
        "id": "4JNbTHa9O6Fg",
        "outputId": "9456aa53-3be5-420e-f9ba-a7b445c45dd2"
      },
      "outputs": [
        {
          "output_type": "stream",
          "name": "stdout",
          "text": [
            "4\n"
          ]
        }
      ],
      "source": [
        "print(min(55,505,4))"
      ]
    },
    {
      "cell_type": "markdown",
      "metadata": {
        "id": "PGIKHhAzNWNJ"
      },
      "source": [
        "# 2 user defined functions\n",
        "def fn():\n",
        "   operatioN\n",
        "fn()"
      ]
    },
    {
      "cell_type": "code",
      "execution_count": 247,
      "metadata": {
        "colab": {
          "base_uri": "https://localhost:8080/"
        },
        "id": "6w7ZN5I3F5Y0",
        "outputId": "9ae1e1b3-8c2b-4146-a415-f7689fc0a21c"
      },
      "outputs": [
        {
          "output_type": "stream",
          "name": "stdout",
          "text": [
            "hello\n"
          ]
        }
      ],
      "source": [
        "def fn():\n",
        "  print(\"hello\")\n",
        "fn()\n"
      ]
    },
    {
      "cell_type": "code",
      "execution_count": 249,
      "metadata": {
        "colab": {
          "base_uri": "https://localhost:8080/"
        },
        "id": "60Te7fRwOuDp",
        "outputId": "95d583d4-2deb-473e-b540-9b34d71c9cd3"
      },
      "outputs": [
        {
          "output_type": "stream",
          "name": "stdout",
          "text": [
            "my name is anshif\n"
          ]
        }
      ],
      "source": [
        "def fn(name):\n",
        "  print(\"my name is\",name)\n",
        "fn(\"anshif\")\n",
        "\n"
      ]
    },
    {
      "cell_type": "code",
      "execution_count": 250,
      "metadata": {
        "colab": {
          "base_uri": "https://localhost:8080/"
        },
        "id": "XfuJFw6kQ4nZ",
        "outputId": "f35ff3f2-f8e3-4040-dd6b-6b7c7c277c6d"
      },
      "outputs": [
        {
          "output_type": "stream",
          "name": "stdout",
          "text": [
            "my name is athulya\n"
          ]
        }
      ],
      "source": [
        "def fn(name):\n",
        "  print(\"my name is\",name)\n",
        "value=\"athulya\"\n",
        "fn(value)\n"
      ]
    },
    {
      "cell_type": "code",
      "execution_count": 251,
      "metadata": {
        "colab": {
          "base_uri": "https://localhost:8080/"
        },
        "id": "m_eMWcOtaQ12",
        "outputId": "88c1652d-181d-4012-a557-13f0d84e9a56"
      },
      "outputs": [
        {
          "output_type": "stream",
          "name": "stdout",
          "text": [
            "my name is athulya  my age is  20\n"
          ]
        }
      ],
      "source": [
        "def fn(name,age):\n",
        "  print(\"my name is\",name,\" my age is \",age)\n",
        "value=\"athulya\"\n",
        "fn(value,20)\n"
      ]
    },
    {
      "cell_type": "code",
      "execution_count": 252,
      "metadata": {
        "colab": {
          "base_uri": "https://localhost:8080/"
        },
        "id": "pgMCxlodbuTf",
        "outputId": "07f96016-1d4e-4930-a54f-73f2c9f59558"
      },
      "outputs": [
        {
          "output_type": "stream",
          "name": "stdout",
          "text": [
            "first value suraj second value manu arjun\n"
          ]
        }
      ],
      "source": [
        "# arbitrary position argument\n",
        "\n",
        "def fn(*a):\n",
        "  print(\"first value\",a[0],\"second value\",a[1],a[2])\n",
        "fn(\"suraj\",\"manu\",\"arjun\",\"amal\")\n"
      ]
    },
    {
      "cell_type": "code",
      "execution_count": 253,
      "metadata": {
        "colab": {
          "base_uri": "https://localhost:8080/"
        },
        "id": "_xzfLljUfASj",
        "outputId": "e45a6c33-3a11-414a-c5c4-880bb265d697"
      },
      "outputs": [
        {
          "output_type": "stream",
          "name": "stdout",
          "text": [
            "her name is  shafna\n",
            "\n",
            "her name is shafna her age is  18\n"
          ]
        }
      ],
      "source": [
        "# arbitrary key word argument\n",
        "\n",
        "def fn(**kid):\n",
        "  print(\"her name is  \"+kid[\"lname\"])\n",
        "fn(lname=\"shafna\")\n",
        "\n",
        "print()\n",
        "\n",
        "def fn(**kid):\n",
        "  print(\"her name is\",kid[\"a\"],\"her age is \",kid[\"b\"])\n",
        "fn(a=\"shafna\",b=\"18\")\n",
        "\n",
        "\n"
      ]
    },
    {
      "cell_type": "code",
      "execution_count": 254,
      "metadata": {
        "colab": {
          "base_uri": "https://localhost:8080/"
        },
        "id": "1K2f9Vyihu--",
        "outputId": "e4b80302-4897-48b4-a006-344b81b7b705"
      },
      "outputs": [
        {
          "output_type": "stream",
          "name": "stdout",
          "text": [
            "10\n",
            "10\n"
          ]
        }
      ],
      "source": [
        "value=10\n",
        "def sample():\n",
        "  print(value)\n",
        "print(value)\n",
        "sample()"
      ]
    },
    {
      "cell_type": "code",
      "execution_count": 255,
      "metadata": {
        "colab": {
          "base_uri": "https://localhost:8080/"
        },
        "id": "d-pfceaJlZIX",
        "outputId": "1fc03c23-2d2c-4f95-be5c-baff799b78a5"
      },
      "outputs": [
        {
          "output_type": "stream",
          "name": "stdout",
          "text": [
            "10\n",
            "30\n"
          ]
        }
      ],
      "source": [
        "value=10 # GLOBAL VARIABLE\n",
        "def sample():\n",
        "  value=30 #LOCAL VARIABLE\n",
        "  print(value)\n",
        "print(value)\n",
        "sample()"
      ]
    },
    {
      "cell_type": "code",
      "execution_count": 256,
      "metadata": {
        "colab": {
          "base_uri": "https://localhost:8080/"
        },
        "id": "TWAHqBSulvcd",
        "outputId": "6787160e-f103-47ed-9932-ca0083b17b15"
      },
      "outputs": [
        {
          "output_type": "stream",
          "name": "stdout",
          "text": [
            "10 30\n",
            "10 10\n"
          ]
        }
      ],
      "source": [
        "a=10\n",
        "def sample():\n",
        "  b=30\n",
        "  print(a,b)\n",
        "sample()\n",
        "print(a,b) # error akum karanam b variable function ullil ahn and function porthan print adiche\n",
        "\n"
      ]
    },
    {
      "cell_type": "code",
      "execution_count": null,
      "metadata": {
        "id": "uUT74DzRoXTt"
      },
      "outputs": [],
      "source": [
        "def sample(name,age):\n",
        "  print(name,age)\n",
        "sample(age=10,name=\"adhil\")"
      ]
    },
    {
      "cell_type": "code",
      "execution_count": null,
      "metadata": {
        "id": "rtom35fGBEj7"
      },
      "outputs": [],
      "source": [
        "def sample(name,age=20):\n",
        "  print(name,age)\n",
        "sample(name=\"adhil\")"
      ]
    },
    {
      "cell_type": "code",
      "execution_count": null,
      "metadata": {
        "id": "9RnpH62mCevE"
      },
      "outputs": [],
      "source": [
        "def sample(name,age=20):\n",
        "  print(name,age)\n",
        "sample(name=\"adhil\",age=25)"
      ]
    },
    {
      "cell_type": "code",
      "execution_count": null,
      "metadata": {
        "id": "wUspTiiGFD7t"
      },
      "outputs": [],
      "source": [
        "a=10\n",
        "b=20\n",
        "a=a+b\n",
        "b=a-b\n",
        "a=a-b\n",
        "print(a)\n",
        "print(b)\n"
      ]
    },
    {
      "cell_type": "code",
      "execution_count": null,
      "metadata": {
        "id": "mKnhNv_HLY9a"
      },
      "outputs": [],
      "source": [
        "a=67\n",
        "b=a%10\n",
        "c=a//10\n",
        "print(b+c)\n"
      ]
    },
    {
      "cell_type": "code",
      "execution_count": null,
      "metadata": {
        "id": "canA82IlFmx7"
      },
      "outputs": [],
      "source": [
        "def fn(country=\"norway\"):\n",
        "  print(\"iam from\",country)\n",
        "fn(\"sweden\")\n",
        "fn()"
      ]
    },
    {
      "cell_type": "code",
      "execution_count": null,
      "metadata": {
        "id": "db6w3OmiLVCc"
      },
      "outputs": [],
      "source": [
        "def fn(food):\n",
        "    for x in food:\n",
        "        print(x)\n",
        "fruits=[\"apple\",\"banana\",\"cherry\"]\n",
        "fn(fruits)\n"
      ]
    },
    {
      "cell_type": "code",
      "execution_count": null,
      "metadata": {
        "id": "rghbLnFqOFVD"
      },
      "outputs": [],
      "source": [
        "def fn(x):\n",
        "  return 5*x\n",
        "print(fn(3))\n"
      ]
    },
    {
      "cell_type": "code",
      "execution_count": null,
      "metadata": {
        "id": "24GtVMBhNbJ8"
      },
      "outputs": [],
      "source": [
        "def fn(x):\n",
        "  return 5*x\n",
        "print(fn(3))\n",
        "print(fn(5))"
      ]
    },
    {
      "cell_type": "code",
      "execution_count": null,
      "metadata": {
        "id": "keO0NvXrSvIN"
      },
      "outputs": [],
      "source": [
        "for x in range(4,1,-1):\n",
        "    print(x)"
      ]
    },
    {
      "cell_type": "code",
      "execution_count": null,
      "metadata": {
        "id": "YwStpppaUnU2"
      },
      "outputs": [],
      "source": [
        "# write a program to find sum and average of all even  numbers b/w 1-50?\n",
        "\n",
        "\n",
        "sum=0\n",
        "for x in range(2,51,2):\n",
        "    sum+=x\n",
        "print(\"sum\",sum)\n",
        "print(\"average\",sum/(x/2))\n"
      ]
    },
    {
      "cell_type": "code",
      "execution_count": null,
      "metadata": {
        "id": "Ij_6pFM3m5p4"
      },
      "outputs": [],
      "source": [
        "n=5\n",
        "fact=1\n",
        "for x in range(1,n+1):\n",
        "  fact=fact*x\n",
        "print(n,\"factorial =\",fact)"
      ]
    },
    {
      "cell_type": "code",
      "execution_count": null,
      "metadata": {
        "id": "DkiygzB8PJBC"
      },
      "outputs": [],
      "source": [
        "def fn(n):\n",
        "  if n==0:\n",
        "    return 1\n",
        "  else:\n",
        "    return n*fn(n-1)\n",
        "\n",
        "num=5\n",
        "result=fn(num)\n",
        "print(\"factorial of\",num,\"is=\",result)"
      ]
    },
    {
      "cell_type": "markdown",
      "metadata": {
        "id": "eFN6gmeZXdkI"
      },
      "source": [
        "# lambda function"
      ]
    },
    {
      "cell_type": "code",
      "execution_count": null,
      "metadata": {
        "id": "HxLBKxQGSR4y"
      },
      "outputs": [],
      "source": [
        "p=lambda a,b: a+b\n",
        "p(3,4)"
      ]
    },
    {
      "cell_type": "code",
      "execution_count": null,
      "metadata": {
        "id": "tSpS5m0-eC8r"
      },
      "outputs": [],
      "source": [
        "a=input()\n",
        "b=a[::-1]\n",
        "if b==a:\n",
        "  print(\"its palindrome\")\n",
        "else:\n",
        "  print(\"its not palindrome\")\n"
      ]
    },
    {
      "cell_type": "markdown",
      "metadata": {
        "id": "Syfuh_9nxWSq"
      },
      "source": []
    },
    {
      "cell_type": "code",
      "execution_count": null,
      "metadata": {
        "id": "ThCTAqzRl9Qh"
      },
      "outputs": [],
      "source": [
        "a=input(\"number\")\n",
        "print(a[::-1])"
      ]
    },
    {
      "cell_type": "code",
      "execution_count": null,
      "metadata": {
        "id": "QVsHBKchcD81"
      },
      "outputs": [],
      "source": [
        "num=int(input(\"enter a number\"))\n",
        "order=len(str(num))\n",
        "sum=0\n",
        "temp=num\n",
        "while temp>0:\n",
        "  digit=temp%10\n",
        "  sum+=digit**order\n",
        "  temp//=10\n",
        "if sum==num:\n",
        "  print(\" its armstrong number\",sum)\n",
        "else:\n",
        "  print(\"not amstrong number\")\n"
      ]
    },
    {
      "cell_type": "code",
      "execution_count": null,
      "metadata": {
        "id": "bPLB5ns-kCWQ"
      },
      "outputs": [],
      "source": [
        "a=int(input(\"enter a number\"))\n",
        "for i in range(10):\n",
        "  print(a)"
      ]
    },
    {
      "cell_type": "markdown",
      "source": [
        "# Amstrung number\n"
      ],
      "metadata": {
        "id": "Qzed82Jdy9nB"
      }
    },
    {
      "cell_type": "code",
      "source": [
        "num=int(input(\" enter number\"))\n",
        "order=len(str(num))\n",
        "temp=num\n",
        "sum=0\n",
        "while temp>0:\n",
        "  digit=temp%10\n",
        "  sum+=digit**order\n",
        "  temp//=10\n",
        "if num==sum:\n",
        "  print(\"its amstrung number\",sum)\n",
        "else:\n",
        "  print(sum,\"is not amstrung number\")"
      ],
      "metadata": {
        "id": "8ogeEbZ4h6Ht"
      },
      "execution_count": null,
      "outputs": []
    },
    {
      "cell_type": "code",
      "source": [
        "a=10\n",
        "fact=1\n",
        "for i in range(a,a+1):\n",
        "  fact=fact*i\n",
        "  print(fact)"
      ],
      "metadata": {
        "id": "4op5pFqutaoU"
      },
      "execution_count": null,
      "outputs": []
    },
    {
      "cell_type": "markdown",
      "metadata": {
        "id": "Ls_t9Tlp2Z9i"
      },
      "source": [
        "# jobin sir s work"
      ]
    },
    {
      "cell_type": "code",
      "execution_count": null,
      "metadata": {
        "id": "fuHgvbRC2g2C"
      },
      "outputs": [],
      "source": [
        "# car parking\n",
        "\n",
        "\n",
        "total_parking_loat=20\n",
        "total_cars=int(input(\"enter total number of cars\"))\n",
        "for x in range(3):\n",
        "  car1=input(\"wether next car is coming or not  yes or no\")\n",
        "  if car1==\"yes\":\n",
        "    if total_cars<total_parking_loat:\n",
        "      print(\"gate 1 will open\")\n",
        "      total_cars+=1\n",
        "\n",
        "\n",
        "  car2=input(\"wether car is going out or not  yes or no\")\n",
        "  if car2==\"yes\":\n",
        "    print(\"gate 2 will open\")\n",
        "    total_cars_=1\n",
        "else:\n",
        "  print(\"gate 2 will open\")\n"
      ]
    },
    {
      "cell_type": "markdown",
      "source": [
        "# workoutss"
      ],
      "metadata": {
        "id": "jSjGmjPPHHzw"
      }
    },
    {
      "cell_type": "code",
      "source": [
        "a=int(input(\"a\"))\n",
        "b=int(input(\"b\"))\n",
        "c=int(input(\"c\"))\n",
        "\n",
        "x=(-b+((b**2)-(4*a*c))**0.5)/(2*a)\n",
        "y=(-b-((b**2)-(4*a*c))**0.5)/(2*a)\n",
        "print(x)\n",
        "print(y)"
      ],
      "metadata": {
        "id": "PQKb1-B3HM4Y"
      },
      "execution_count": null,
      "outputs": []
    },
    {
      "cell_type": "code",
      "source": [
        "a=int(input(\"a\"))\n",
        "b=int(input(\"b\"))\n",
        "c=int(input(\"c\"))\n",
        "\n",
        "d=(b**2-4*a*c)\n",
        "e=(-b+(d**0.5))\n",
        "g=(-b-(d**0.5))\n",
        "f=e/2*a\n",
        "h=g/2*a\n",
        "\n",
        "if d==0:\n",
        "  print(-b/2*a)\n",
        "elif d>0:\n",
        "  print(f)\n",
        "  print(h)\n",
        "else:\n",
        "  print(\"complex number\")"
      ],
      "metadata": {
        "id": "9dKdPxq3LBgb"
      },
      "execution_count": null,
      "outputs": []
    },
    {
      "cell_type": "code",
      "source": [
        "2#write a program to accept n integers and print largest among them?\n",
        "a=int(input(\"a\"))\n",
        "b=int(input(\"b\"))\n",
        "c=int(input(\"c\"))\n",
        "d=[a,b,c]\n",
        "print(max(d))"
      ],
      "metadata": {
        "id": "xDDHy-pfPETT"
      },
      "execution_count": null,
      "outputs": []
    },
    {
      "cell_type": "code",
      "source": [
        "a=int(input(\"enter how many times\"))\n",
        "big=0\n",
        "for x in range(a):\n",
        "  b=int(input(\"number\"))\n",
        "  if b>big:\n",
        "    big=b\n",
        "print(big)"
      ],
      "metadata": {
        "id": "39Z5oLgTYuwQ"
      },
      "execution_count": null,
      "outputs": []
    },
    {
      "cell_type": "code",
      "source": [
        "a=(1,2,3)\n",
        "b=list(a)\n",
        "print(b)"
      ],
      "metadata": {
        "id": "wfwcVLKtcECe"
      },
      "execution_count": null,
      "outputs": []
    },
    {
      "cell_type": "code",
      "source": [
        "row=int(input(\"enter the limit:\"))\n",
        "for i in range (1,row+1):\n",
        "  for j in range(65,65+i):\n",
        "    print(chr(j),end=\" \")\n",
        "  print()\n"
      ],
      "metadata": {
        "id": "uIkGNB-gI1yo"
      },
      "execution_count": null,
      "outputs": []
    },
    {
      "cell_type": "code",
      "source": [
        "print(chr(90))"
      ],
      "metadata": {
        "id": "kEi4mQvzJ8Kz"
      },
      "execution_count": null,
      "outputs": []
    },
    {
      "cell_type": "code",
      "source": [],
      "metadata": {
        "id": "9C0kJ3bMNNsC"
      },
      "execution_count": null,
      "outputs": []
    },
    {
      "cell_type": "code",
      "source": [
        "# if vech bigest number kanan\n",
        "a=int(input(\"how many number your are gonna enter:\"))\n",
        "small=b+5\n",
        "for i in range(a):\n",
        "  b=int(input(\"enter your number:\"))\n",
        "  if a<small:\n",
        "    small=b\n",
        "print(small)"
      ],
      "metadata": {
        "id": "hvKOB-bRUHwx"
      },
      "execution_count": null,
      "outputs": []
    },
    {
      "cell_type": "code",
      "source": [
        "# largest number kanan\n",
        "a=int(input(\"enter how many times\"))\n",
        "l=[]\n",
        "for x in range(a):\n",
        "  b=int(input(\"number\"))\n",
        "  l.append(b)\n",
        "print(max(l))"
      ],
      "metadata": {
        "id": "3eQtW8L1dZuA"
      },
      "execution_count": null,
      "outputs": []
    },
    {
      "cell_type": "code",
      "source": [
        "# smallest number kanan\n",
        "a=int(input(\"enter how many times\"))\n",
        "l=[]\n",
        "for x in range(a):\n",
        "  b=int(input(\"number\"))\n",
        "  l.append(b)\n",
        "print(min(l))"
      ],
      "metadata": {
        "id": "IOELTU-4OHx6"
      },
      "execution_count": null,
      "outputs": []
    },
    {
      "cell_type": "code",
      "source": [
        "a=int(input)"
      ],
      "metadata": {
        "id": "PSyEaPP5QLkJ"
      },
      "execution_count": null,
      "outputs": []
    },
    {
      "cell_type": "code",
      "source": [
        "# alredy enterd anenn kanikan\n",
        "\n",
        "n=int(input(\"enter how many times :\"))\n",
        "l=[]\n",
        "for i in range(n):\n",
        "  a=int(input(\"enter the values :\"))\n",
        "  if a in l:\n",
        "    print(a,\"already enterd\")\n",
        "  else:\n",
        "    l.append(a)\n",
        "print(l)\n"
      ],
      "metadata": {
        "id": "SRUNoEBvWUYu"
      },
      "execution_count": null,
      "outputs": []
    },
    {
      "cell_type": "code",
      "source": [
        "# alredy enterd anenn kanikan\n",
        "\n",
        "n=int(input(\"enter how many times :\"))\n",
        "l=[]\n",
        "for i in range(n):\n",
        "  a=int(input(\"enter the values :\"))\n",
        "  if a in l:\n",
        "    continue\n",
        "  else:\n",
        "    l.append(a)\n",
        "print(l)"
      ],
      "metadata": {
        "id": "zhM5klqw0SEx"
      },
      "execution_count": null,
      "outputs": []
    },
    {
      "cell_type": "code",
      "source": [
        "a=[1,2,2,3,4,4]\n",
        "l = []\n",
        "for i in a:\n",
        "  if  i not in l:\n",
        "    l.append(i)\n",
        "\n",
        "print(l)\n"
      ],
      "metadata": {
        "id": "K1__tNry0zz5"
      },
      "execution_count": null,
      "outputs": []
    },
    {
      "cell_type": "code",
      "source": [
        "a=[[1,2,2],[4,4],5]\n",
        "b=[]\n",
        "for i in a:\n",
        "  for j in i:\n",
        "    b.append(j)\n",
        "print(b)"
      ],
      "metadata": {
        "id": "q2mZkVl91K0w"
      },
      "execution_count": null,
      "outputs": []
    },
    {
      "cell_type": "code",
      "source": [
        "a = [[1, 2], [3, 4], [5, 6]]\n",
        "\n",
        "b = []\n",
        "for i in a:\n",
        "    for j in i:\n",
        "        b.append(j)\n",
        "\n",
        "print(b)"
      ],
      "metadata": {
        "id": "nNg4PbqC2K-w"
      },
      "execution_count": null,
      "outputs": []
    },
    {
      "cell_type": "code",
      "source": [
        "r= int(input(\"enter the rows \"))\n",
        "for i in range (r):\n",
        "  if i==0 or i==r-1:\n",
        "    for j in range(r):\n",
        "      print(\"*\",end=\" \")\n",
        "  else:\n",
        "    print(\"*\",end=\"\")\n",
        "    for k in range(1,2*r-2):\n",
        "      print(\" \",end=\"\")\n",
        "    print(\"*\",end=\" \")\n",
        "  print()"
      ],
      "metadata": {
        "id": "KaxdRQ22cMF5"
      },
      "execution_count": null,
      "outputs": []
    },
    {
      "cell_type": "code",
      "source": [
        "a=int(input(\"\"))\n",
        "for i in range(a): # using for raws\n",
        "  for j in range(a): # using for columns\n",
        "    if i==0 or i==a-1 or j==0 or j==a-1:\n",
        "      print(\"*\",end=\" \")\n",
        "    else:\n",
        "      print(\" \",end=\" \")\n",
        "  print()"
      ],
      "metadata": {
        "id": "_YDircEghkmG"
      },
      "execution_count": null,
      "outputs": []
    },
    {
      "cell_type": "code",
      "source": [
        "a=int(input(\"enter how many times\"))\n",
        "l=[]\n",
        "for x in range(a):\n",
        "  b=int(input(\"number\"))\n",
        "  l.append(b)\n",
        "l.sort()\n",
        "print(l)"
      ],
      "metadata": {
        "id": "jVlnHJuBGcNU"
      },
      "execution_count": null,
      "outputs": []
    },
    {
      "cell_type": "code",
      "source": [
        "a=int(input(\"enter how many times\"))\n",
        "l=[]\n",
        "for x in range(a):\n",
        "  b=int(input(\"number\"))\n",
        "  l.append(b)\n",
        "l.sort(reverse=True)\n",
        "print(l)"
      ],
      "metadata": {
        "colab": {
          "base_uri": "https://localhost:8080/"
        },
        "id": "f0ZyMewuHfrE",
        "outputId": "20f24391-3757-42ef-d1e3-f1659bfc24f9"
      },
      "execution_count": 258,
      "outputs": [
        {
          "output_type": "stream",
          "name": "stdout",
          "text": [
            "enter how many times4\n",
            "number1\n",
            "number2\n",
            "number3\n",
            "number4\n",
            "[4, 3, 2, 1]\n"
          ]
        }
      ]
    },
    {
      "cell_type": "code",
      "source": [
        "x=int(input(\"enter how many times :\"))\n",
        "l=[]\n",
        "for j in range(x):\n",
        "  b=int(input(\"number :\"))\n",
        "  l.append(b)\n",
        "for k in range(0,x-1):\n",
        "  for i in range(0,x-1):\n",
        "    if l[i]>l[i+1]:\n",
        "      l[i],l[i+1]=l[i+1],l[i]\n",
        "\n",
        "print(l)\n",
        "\n",
        "\n",
        "\n"
      ],
      "metadata": {
        "colab": {
          "base_uri": "https://localhost:8080/"
        },
        "id": "CU1dC19LJZQz",
        "outputId": "3a15f71d-c205-4cb0-8b81-c4fb5b9b35ee"
      },
      "execution_count": 259,
      "outputs": [
        {
          "output_type": "stream",
          "name": "stdout",
          "text": [
            "enter how many times :5\n",
            "number :2\n",
            "number :3\n",
            "number :4\n",
            "number :5\n",
            "number :7\n",
            "[2, 3, 4, 5, 7]\n"
          ]
        }
      ]
    },
    {
      "cell_type": "code",
      "source": [
        "#  COMPAIN  ONLY POSITION   AND KEY WORD ARGUUMENT\n",
        "\n",
        "def sum(a,b,/,*,c,d):\n",
        "  e=a+b\n",
        "  g=c+d\n",
        "  print(e)\n",
        "  print(g)\n",
        "sum(7,10,c=20,d=30)\n"
      ],
      "metadata": {
        "colab": {
          "base_uri": "https://localhost:8080/"
        },
        "id": "NJk18J_AXwHb",
        "outputId": "6facd090-2d66-4e6e-c6eb-18c012612401"
      },
      "execution_count": 260,
      "outputs": [
        {
          "output_type": "stream",
          "name": "stdout",
          "text": [
            "17\n",
            "50\n"
          ]
        }
      ]
    },
    {
      "cell_type": "code",
      "source": [
        "a=int(input(\" first number: \"))\n",
        "b=int(input(\" second number: \"))\n",
        "print(\" 1= add,2=substraction,3= multiply,4= divide\")\n",
        "\n",
        "c=int(input(\"operation no: \"))\n",
        "if c==1:\n",
        "      def fn(a,b):\n",
        "        f=a+b\n",
        "        print(f)\n",
        "      fn(a,b)\n",
        "elif c==2:\n",
        "      def fn(a,b):\n",
        "        g=a-b\n",
        "        print(g)\n",
        "      fn(a,b)\n",
        "elif c==3:\n",
        "      def fn(a,b):\n",
        "        h=a*b\n",
        "        print(h)\n",
        "      fn(a,b)\n",
        "def divi():\n",
        "  if b==0:\n",
        "    print(\"not divisible by 0\")\n",
        "  elif c==4:\n",
        "    k=a/b\n",
        "    print(k)\n",
        "divi()"
      ],
      "metadata": {
        "colab": {
          "base_uri": "https://localhost:8080/"
        },
        "id": "Rg3RWc-OlNPv",
        "outputId": "6376a70e-cbee-4bd6-cbaf-266d75097cd5"
      },
      "execution_count": 261,
      "outputs": [
        {
          "output_type": "stream",
          "name": "stdout",
          "text": [
            " first number: 5\n",
            " second number: 4\n",
            " 1= add,2=substraction,3= multiply,4= divide\n",
            "operation no: 4\n",
            "1.25\n"
          ]
        }
      ]
    },
    {
      "cell_type": "code",
      "source": [
        "i=0\n",
        "while i<5:\n",
        "  print(i)\n",
        "  i+=1\n",
        "  if i==3:\n",
        "    break\n",
        "else:\n",
        "  print(0)"
      ],
      "metadata": {
        "id": "cELKnyKyYAvt",
        "colab": {
          "base_uri": "https://localhost:8080/"
        },
        "outputId": "38f971a4-40bd-43c0-9f77-662c5134a6e9"
      },
      "execution_count": 262,
      "outputs": [
        {
          "output_type": "stream",
          "name": "stdout",
          "text": [
            "0\n",
            "1\n",
            "2\n"
          ]
        }
      ]
    },
    {
      "cell_type": "code",
      "source": [
        "for n in range(4,2,-1):\n",
        "  i=int(input(\"how\"))\n",
        "  n*=i\n",
        "  print(\"the result\",n)"
      ],
      "metadata": {
        "colab": {
          "base_uri": "https://localhost:8080/"
        },
        "id": "h2nZE5eCooJI",
        "outputId": "947ab9dd-65e6-445d-d0fe-672fa8d6a06e"
      },
      "execution_count": 263,
      "outputs": [
        {
          "output_type": "stream",
          "name": "stdout",
          "text": [
            "how5\n",
            "the result 20\n",
            "how4\n",
            "the result 12\n"
          ]
        }
      ]
    },
    {
      "cell_type": "code",
      "source": [
        "\n",
        "def fn(n):\n",
        "  if n==0:\n",
        "    return 1\n",
        "  else:\n",
        "    return n*fn(n-1)\n",
        "\n",
        "a=int(input(\"number: \"))\n",
        "result=fn(a)\n",
        "print(a,\"factorial=\",result)\n"
      ],
      "metadata": {
        "colab": {
          "base_uri": "https://localhost:8080/"
        },
        "id": "-iNinKPmpjAd",
        "outputId": "498d613b-5242-4527-bced-8d06bcd0a431"
      },
      "execution_count": 264,
      "outputs": [
        {
          "output_type": "stream",
          "name": "stdout",
          "text": [
            "number: 5\n",
            "5 factorial= 120\n"
          ]
        }
      ]
    },
    {
      "cell_type": "code",
      "source": [
        "def fn(n):\n",
        "  if n==0:\n",
        "    return 0\n",
        "  else:\n",
        "    return n+fn(n-1)\n",
        "\n",
        "sum=int(input(\"number: \"))\n",
        "result=fn(sum)\n",
        "print(\"sum of \",sum,\"=\",result)\n"
      ],
      "metadata": {
        "colab": {
          "base_uri": "https://localhost:8080/"
        },
        "id": "S6w1ritpyDk8",
        "outputId": "20873e52-94cb-4905-bbe4-c4e562acffe1"
      },
      "execution_count": 265,
      "outputs": [
        {
          "output_type": "stream",
          "name": "stdout",
          "text": [
            "number: 4\n",
            "sum of  4 = 10\n"
          ]
        }
      ]
    },
    {
      "cell_type": "markdown",
      "source": [
        "# Age finding"
      ],
      "metadata": {
        "id": "0aaWpVAlCvNN"
      }
    },
    {
      "cell_type": "code",
      "source": [
        "from datetime import date\n",
        "bday=date(2008, 4, 21)\n",
        "today=date.today()\n",
        "age= today - bday\n",
        "print(age.days/365)"
      ],
      "metadata": {
        "id": "YTbDKOP7ClfN",
        "colab": {
          "base_uri": "https://localhost:8080/"
        },
        "outputId": "96445e89-0d87-405c-df0c-2a311022684e"
      },
      "execution_count": 266,
      "outputs": [
        {
          "output_type": "stream",
          "name": "stdout",
          "text": [
            "16.753424657534246\n"
          ]
        }
      ]
    },
    {
      "cell_type": "markdown",
      "source": [
        "# star and numbers and alphabets\n"
      ],
      "metadata": {
        "id": "kq8Iu1JadJX1"
      }
    },
    {
      "cell_type": "code",
      "source": [
        "a= int(input(\"enter number\"))\n",
        "\n",
        "for i in range(a):\n",
        "  for k in range(i+1):\n",
        "    print(\"*\",end=\" \")\n",
        "  print()"
      ],
      "metadata": {
        "colab": {
          "base_uri": "https://localhost:8080/"
        },
        "id": "58QsOcaAdYL6",
        "outputId": "d5437dab-6ac4-43bc-a555-d7f9025afe2e"
      },
      "execution_count": 267,
      "outputs": [
        {
          "output_type": "stream",
          "name": "stdout",
          "text": [
            "enter number4\n",
            "* \n",
            "* * \n",
            "* * * \n",
            "* * * * \n"
          ]
        }
      ]
    },
    {
      "cell_type": "code",
      "source": [
        "\n",
        "a = 3\n",
        "\n",
        "for i in range(0, a):\n",
        "\n",
        "    for j in range(0, a - i - 1):  # To print spaces\n",
        "        print(end=\" \")\n",
        "    for k in range(0, i + 1):  # To print stars\n",
        "        print(\"*\", end=\" \")\n",
        "    print()  # Move to the next line after each row"
      ],
      "metadata": {
        "colab": {
          "base_uri": "https://localhost:8080/"
        },
        "id": "PYk3YJQudZ-r",
        "outputId": "a7f3abfe-20ec-4c82-d99e-cb09b5d4787a"
      },
      "execution_count": 268,
      "outputs": [
        {
          "output_type": "stream",
          "name": "stdout",
          "text": [
            "  * \n",
            " * * \n",
            "* * * \n"
          ]
        }
      ]
    },
    {
      "cell_type": "code",
      "source": [
        "a = 5  # Height of the triangle\n",
        "\n",
        "for i in range(1, a + 1):\n",
        "    for j in range(1, a - i + 1):  # To print spaces\n",
        "        print(end=\" \")\n",
        "    for k in range(1, i + 1):  # To print letters\n",
        "        print(chr(64 + k), end=\" \")  # 64 + k gives the ASCII value of 'A' (65) to 'Z'\n",
        "    print()  # Move to the next line after each row"
      ],
      "metadata": {
        "colab": {
          "base_uri": "https://localhost:8080/"
        },
        "id": "Yd0OeuS6faNq",
        "outputId": "7ce74adf-3b49-4006-e43f-6599c9f72abc"
      },
      "execution_count": 269,
      "outputs": [
        {
          "output_type": "stream",
          "name": "stdout",
          "text": [
            "    A \n",
            "   A B \n",
            "  A B C \n",
            " A B C D \n",
            "A B C D E \n"
          ]
        }
      ]
    },
    {
      "cell_type": "code",
      "source": [
        "a = 5  # Height of the triangle\n",
        "\n",
        "for i in range(1, a + 1):\n",
        "    for k in range(1, i + 1):  # To print letters\n",
        "        print(chr(64 + k), end=\" \")  # 64 + k gives the ASCII value of 'A' (65) to 'Z'\n",
        "    print()  # Move to the next line after each row"
      ],
      "metadata": {
        "colab": {
          "base_uri": "https://localhost:8080/"
        },
        "id": "btd1G1imfg2I",
        "outputId": "cb8714dd-6458-4d68-e39e-4e52d0009509"
      },
      "execution_count": 270,
      "outputs": [
        {
          "output_type": "stream",
          "name": "stdout",
          "text": [
            "A \n",
            "A B \n",
            "A B C \n",
            "A B C D \n",
            "A B C D E \n"
          ]
        }
      ]
    },
    {
      "cell_type": "code",
      "source": [
        "a = 5  # Height of the triangle\n",
        "\n",
        "for i in range(1, a + 1):\n",
        "    for j in range(1, a - i + 1):  # To print spaces\n",
        "        print(end=\" \")\n",
        "    for k in range(1, i + 1):  # To print letters\n",
        "        print(chr(64 + k).lower(), end=\" \")  # 64 + k gives the ASCII value of 'A' (65) to 'Z'\n",
        "    print()  # Move to the next line after each row"
      ],
      "metadata": {
        "colab": {
          "base_uri": "https://localhost:8080/"
        },
        "id": "rVHRN9_BftDZ",
        "outputId": "9b6cf44d-2ee0-4669-955c-d9b8397992d8"
      },
      "execution_count": 271,
      "outputs": [
        {
          "output_type": "stream",
          "name": "stdout",
          "text": [
            "    a \n",
            "   a b \n",
            "  a b c \n",
            " a b c d \n",
            "a b c d e \n"
          ]
        }
      ]
    },
    {
      "cell_type": "code",
      "source": [
        "n=5\n",
        "for i in range(1,n+1):\n",
        "  for j in range(i):\n",
        "    print(i, end=\" \")\n",
        "  print()"
      ],
      "metadata": {
        "colab": {
          "base_uri": "https://localhost:8080/"
        },
        "outputId": "a69fbf2d-6c7b-4e72-9971-e38b94c46da3",
        "id": "lbX-z2UxdJX2"
      },
      "execution_count": 272,
      "outputs": [
        {
          "output_type": "stream",
          "name": "stdout",
          "text": [
            "1 \n",
            "2 2 \n",
            "3 3 3 \n",
            "4 4 4 4 \n",
            "5 5 5 5 5 \n"
          ]
        }
      ]
    },
    {
      "cell_type": "code",
      "source": [
        "n=5\n",
        "for i in range(1,n+1):\n",
        "  for j in range(i):\n",
        "    print(j+1, end=\" \")\n",
        "  print()"
      ],
      "metadata": {
        "colab": {
          "base_uri": "https://localhost:8080/"
        },
        "outputId": "f9d38c12-3c56-414e-d4c8-e9e2882a275b",
        "id": "SZbDFlVedJX3"
      },
      "execution_count": 273,
      "outputs": [
        {
          "output_type": "stream",
          "name": "stdout",
          "text": [
            "1 \n",
            "1 2 \n",
            "1 2 3 \n",
            "1 2 3 4 \n",
            "1 2 3 4 5 \n"
          ]
        }
      ]
    },
    {
      "cell_type": "code",
      "source": [
        "n=5\n",
        "for i in range(1,n+1):\n",
        "  for j in range(i):\n",
        "    print(j, end=\" \")\n",
        "  print()"
      ],
      "metadata": {
        "colab": {
          "base_uri": "https://localhost:8080/"
        },
        "outputId": "99e4eec8-34d7-46e9-8804-7537f297f341",
        "id": "WAR7XtB2dJX4"
      },
      "execution_count": 274,
      "outputs": [
        {
          "output_type": "stream",
          "name": "stdout",
          "text": [
            "0 \n",
            "0 1 \n",
            "0 1 2 \n",
            "0 1 2 3 \n",
            "0 1 2 3 4 \n"
          ]
        }
      ]
    },
    {
      "cell_type": "code",
      "source": [
        "n=1\n",
        "for i in range(1,5):\n",
        "  for j in range(i):\n",
        "    print(n, end=\" \")\n",
        "    n=n+1\n",
        "  print()"
      ],
      "metadata": {
        "colab": {
          "base_uri": "https://localhost:8080/"
        },
        "id": "56n09JyoQHum",
        "outputId": "375320c9-f66f-444a-fe5b-dc7a8ff6e7c9"
      },
      "execution_count": 275,
      "outputs": [
        {
          "output_type": "stream",
          "name": "stdout",
          "text": [
            "1 \n",
            "2 3 \n",
            "4 5 6 \n",
            "7 8 9 10 \n"
          ]
        }
      ]
    },
    {
      "cell_type": "markdown",
      "source": [
        "# Fibonnaci number"
      ],
      "metadata": {
        "id": "GsFqaBz2OKmf"
      }
    },
    {
      "cell_type": "markdown",
      "source": [
        "- Start with 0, 1.\n",
        "- Add them: 0 + 1 = 1 → Sequence becomes 0, 1, 1.\n",
        "- Add the last two numbers: 1 + 1 = 2 → Sequence becomes 0, 1, 1, 2.\n",
        "- Add the last two numbers: 1 + 2 = 3 → Sequence becomes 0, 1, 1, 2, 3.\n",
        "- Add the last two numbers: 2 + 3 = 5 → Sequence becomes 0, 1, 1, 2, 3, 5.\n",
        "- Add the last two numbers: 3 + 5 = 8 → Sequence becomes 0, 1, 1, 2, 3, 5, 8.\n",
        "- Add the last two numbers: 5 + 8 = 13 → Sequence becomes 0, 1, 1, 2, 3, 5, 8, 13."
      ],
      "metadata": {
        "id": "cvsMtfgT9wWT"
      }
    },
    {
      "cell_type": "code",
      "source": [
        "# Number of terms in the sequence\n",
        "n = 10\n",
        "\n",
        "# Initialize the first two Fibonacci numbers\n",
        "fibonacci_sequence = [0, 1]\n",
        "\n",
        "# Generate the sequence using a for loop\n",
        "for i in range(2, n):\n",
        "    next_number = fibonacci_sequence[i - 1] + fibonacci_sequence[i - 2]\n",
        "    fibonacci_sequence.append(next_number)\n",
        "\n",
        "# Print the sequence\n",
        "print(fibonacci_sequence)"
      ],
      "metadata": {
        "colab": {
          "base_uri": "https://localhost:8080/"
        },
        "id": "FMQkPanPONRt",
        "outputId": "4777b2ca-7717-4483-cde4-b31ae42ead7f"
      },
      "execution_count": 276,
      "outputs": [
        {
          "output_type": "stream",
          "name": "stdout",
          "text": [
            "[0, 1, 1, 2, 3, 5, 8, 13, 21, 34]\n"
          ]
        }
      ]
    },
    {
      "cell_type": "markdown",
      "source": [
        "# Perfect number"
      ],
      "metadata": {
        "id": "id9nRjb6Snm-"
      }
    },
    {
      "cell_type": "markdown",
      "source": [
        "- A perfect number is a positive integer that is equal to the sum of its proper divisors (excluding itself).\n",
        " - Proper divisors: 1,2,3\n",
        " - Sum: 1 + 2 + 3 = 6\n",
        " - 6 is a perfect number"
      ],
      "metadata": {
        "id": "fm_KjUJF-GAC"
      }
    },
    {
      "cell_type": "code",
      "source": [
        "n=1000\n",
        "print(f\"Perfect numbers up to {n}:\")\n",
        "for i in range(2,n+1):\n",
        "  a=0\n",
        "\n",
        "\n",
        "  for k in range(1,i):\n",
        "    if i%k==0:\n",
        "      a+=k\n",
        "\n",
        "  if a==i:\n",
        "    print(i)"
      ],
      "metadata": {
        "colab": {
          "base_uri": "https://localhost:8080/"
        },
        "id": "iBIMiLWLONpb",
        "outputId": "1a6bb37e-2045-4647-9722-59b927055b39"
      },
      "execution_count": 277,
      "outputs": [
        {
          "output_type": "stream",
          "name": "stdout",
          "text": [
            "Perfect numbers up to 1000:\n",
            "6\n",
            "28\n",
            "496\n"
          ]
        }
      ]
    },
    {
      "cell_type": "code",
      "source": [
        "\n",
        "# Define the limit up to which to find perfect numbers\n",
        "limit = 1000\n",
        "\n",
        "print(f\"Perfect numbers up to {limit}:\")\n",
        "\n",
        "# Iterate through each number from 2 to the limit\n",
        "for n in range(2, limit + 1):\n",
        "    divisors_sum = 0\n",
        "\n",
        "    # Find the sum of proper divisors\n",
        "    for i in range(1, n):\n",
        "        if n % i == 0:  # Check if i is a divisor of n\n",
        "            divisors_sum += i\n",
        "\n",
        "    # Check if the sum of divisors equals the number\n",
        "    if divisors_sum == n:\n",
        "        print(n)"
      ],
      "metadata": {
        "colab": {
          "base_uri": "https://localhost:8080/"
        },
        "id": "5rqJ4ZYyPxY2",
        "outputId": "da5593c7-2fe2-4f66-e153-6d92a9578021"
      },
      "execution_count": 278,
      "outputs": [
        {
          "output_type": "stream",
          "name": "stdout",
          "text": [
            "Perfect numbers up to 1000:\n",
            "6\n",
            "28\n",
            "496\n"
          ]
        }
      ]
    },
    {
      "cell_type": "markdown",
      "source": [
        "# Prime number"
      ],
      "metadata": {
        "id": "tuDv-5X5TEUA"
      }
    },
    {
      "cell_type": "markdown",
      "source": [
        "- A prime number is a natural number greater than 1 that has no positive divisors other than 1 and itself. In other words, a prime number is a number that can only be divided evenly by 1 and itself.\n",
        " - 2: Divisors are : 1,2 → Prime\n",
        " - 3: Divisors are : 1,3 → Prime\n",
        " - 4: Divisors are : 1,2,4 → Not Prime (divisible by 2)\n",
        "\n",
        "\n",
        "\n",
        "\n"
      ],
      "metadata": {
        "id": "7eNm3kyG-6xD"
      }
    },
    {
      "cell_type": "code",
      "source": [
        "n = 100  # You can change this number to any other number\n",
        "\n",
        "# Loop through numbers from 2 to n to check for primality\n",
        "for i in range(2, n + 1):\n",
        "    for j in range(2, i):\n",
        "        if i % j == 0:  # If divisible, i is not prime\n",
        "            break\n",
        "    else:\n",
        "        print(i)  # If"
      ],
      "metadata": {
        "colab": {
          "base_uri": "https://localhost:8080/"
        },
        "id": "czaYbudUVQGU",
        "outputId": "37afbd06-5c0d-4ea1-dd5f-ac5befe6b76b"
      },
      "execution_count": 279,
      "outputs": [
        {
          "output_type": "stream",
          "name": "stdout",
          "text": [
            "2\n",
            "3\n",
            "5\n",
            "7\n",
            "11\n",
            "13\n",
            "17\n",
            "19\n",
            "23\n",
            "29\n",
            "31\n",
            "37\n",
            "41\n",
            "43\n",
            "47\n",
            "53\n",
            "59\n",
            "61\n",
            "67\n",
            "71\n",
            "73\n",
            "79\n",
            "83\n",
            "89\n",
            "97\n"
          ]
        }
      ]
    },
    {
      "cell_type": "code",
      "source": [
        "n=100\n",
        "\n",
        "for i in range(2,n+1):\n",
        "  for j in range(2,i):\n",
        "    if  i%j==0:\n",
        "      break\n",
        "  else:\n",
        "      print(i)\n"
      ],
      "metadata": {
        "colab": {
          "base_uri": "https://localhost:8080/"
        },
        "id": "n6da6HWWTGx8",
        "outputId": "255130ac-f5ae-475e-c34c-85044db459aa"
      },
      "execution_count": 280,
      "outputs": [
        {
          "output_type": "stream",
          "name": "stdout",
          "text": [
            "2\n",
            "3\n",
            "5\n",
            "7\n",
            "11\n",
            "13\n",
            "17\n",
            "19\n",
            "23\n",
            "29\n",
            "31\n",
            "37\n",
            "41\n",
            "43\n",
            "47\n",
            "53\n",
            "59\n",
            "61\n",
            "67\n",
            "71\n",
            "73\n",
            "79\n",
            "83\n",
            "89\n",
            "97\n"
          ]
        }
      ]
    },
    {
      "cell_type": "markdown",
      "source": [
        "# Composit numbers(exclude = 1 and prime number)"
      ],
      "metadata": {
        "id": "gfDsiYYepgvz"
      }
    },
    {
      "cell_type": "code",
      "source": [],
      "metadata": {
        "id": "QCr1pS2ppgXp"
      },
      "execution_count": 280,
      "outputs": []
    },
    {
      "cell_type": "markdown",
      "source": [
        "# Finding largest word from the sentence\n"
      ],
      "metadata": {
        "id": "d3YXvVEgX9E2"
      }
    },
    {
      "cell_type": "code",
      "source": [
        "sentence = \"Find the largest word in this sentence\"\n",
        "words = sentence.split()  # Split the sentence into words\n",
        "print(words)\n",
        "print()\n",
        "sentence = \"Find the largest word in this sentence\"\n",
        "words = sentence.split()  # Split the sentence into words\n",
        "print(words)\n",
        "print()\n",
        "# Initialize the largest word as an empty string\n",
        "largest_word = \"\"\n",
        "\n",
        "# Loop through each word in the list\n",
        "for word in words:\n",
        "    if len(word) > len(largest_word):  # If the current word is longer than the largest_word\n",
        "        largest_word = word  # Update largest_word with the current word\n",
        "\n",
        "print(\"Largest word:\", largest_word) #This line was causing the issue. Remove the extra indentation on the lines below."
      ],
      "metadata": {
        "colab": {
          "base_uri": "https://localhost:8080/"
        },
        "id": "fI0uQyajTb7E",
        "outputId": "03419a3f-ffb4-4ef4-9ee0-90a369ff3628"
      },
      "execution_count": 299,
      "outputs": [
        {
          "output_type": "stream",
          "name": "stdout",
          "text": [
            "['Find', 'the', 'largest', 'word', 'in', 'this', 'sentence']\n",
            "\n",
            "['Find', 'the', 'largest', 'word', 'in', 'this', 'sentence']\n",
            "\n",
            "Largest word: sentence\n"
          ]
        }
      ]
    },
    {
      "cell_type": "code",
      "source": [],
      "metadata": {
        "id": "8fzPK5yqvCKt"
      },
      "execution_count": null,
      "outputs": []
    },
    {
      "cell_type": "code",
      "source": [
        "s1=\"listene\"\n",
        "s2=\"silgkfg\"\n",
        "\n",
        "a=set(s1)\n",
        "b=set(s2)\n",
        "if s1==s2:\n",
        "  print(\"its angram\")\n",
        "else:\n",
        "  print(\"its not angram\")"
      ],
      "metadata": {
        "colab": {
          "base_uri": "https://localhost:8080/"
        },
        "id": "umgzD_nTX872",
        "outputId": "5ce9b2b7-c319-41d4-a662-66f8db522ad8"
      },
      "execution_count": 283,
      "outputs": [
        {
          "output_type": "stream",
          "name": "stdout",
          "text": [
            "its not angram\n"
          ]
        }
      ]
    },
    {
      "cell_type": "markdown",
      "source": [
        "# Anagram"
      ],
      "metadata": {
        "id": "oqpSuTPnYZs7"
      }
    },
    {
      "cell_type": "markdown",
      "source": [
        "**Same letters but differnet word**"
      ],
      "metadata": {
        "id": "tkabB8op_VEC"
      }
    },
    {
      "cell_type": "code",
      "source": [
        "\n",
        "def words(a,b):\n",
        "  word1 =a.replace(\" \",\"\").lower()\n",
        "  word2 =b.replace(\" \",\"\").lower()\n",
        "\n",
        "  if sorted(word1)==sorted(word2):\n",
        "    print(\"its anagram\")\n",
        "  else:\n",
        "    print(\"not anagram\")\n",
        "\n",
        "words(\"me\",\"you\")"
      ],
      "metadata": {
        "colab": {
          "base_uri": "https://localhost:8080/"
        },
        "id": "nuxyTcHRYW5j",
        "outputId": "86b90724-14d0-4a7d-f448-8528b7af9506"
      },
      "execution_count": 284,
      "outputs": [
        {
          "output_type": "stream",
          "name": "stdout",
          "text": [
            "not anagram\n"
          ]
        }
      ]
    },
    {
      "cell_type": "code",
      "source": [
        "s1=\"notmen\"\n",
        "s2=\"thupon\"\n",
        "\n",
        "a=set(s1)\n",
        "b=set(s2)\n",
        "if len(s1)==len(s2):\n",
        "  print(\"its angram\")\n",
        "else:\n",
        "  print(\"its not angram\")"
      ],
      "metadata": {
        "colab": {
          "base_uri": "https://localhost:8080/"
        },
        "id": "ypxiuNNmWUX4",
        "outputId": "7801885a-5b7c-4a27-96a9-9ea4a3874b9a"
      },
      "execution_count": 285,
      "outputs": [
        {
          "output_type": "stream",
          "name": "stdout",
          "text": [
            "its angram\n"
          ]
        }
      ]
    },
    {
      "cell_type": "markdown",
      "source": [
        "# Panagram"
      ],
      "metadata": {
        "id": "G6lh9roebZ9a"
      }
    },
    {
      "cell_type": "markdown",
      "source": [
        "**In a sentence or a word the all alphabet letters include**"
      ],
      "metadata": {
        "id": "Ma-UOilG_aqL"
      }
    },
    {
      "cell_type": "code",
      "source": [
        "import string\n",
        "\n",
        "def is_panagram(sentence):\n",
        "\n",
        "    sentence = sentence.lower().replace(\" \", \"\")\n",
        "\n",
        "    alphabet = set(string.ascii_lowercase)\n",
        "\n",
        "    if set(sentence) >= alphabet:\n",
        "      print(f\"its {sentence} is panagram\")\n",
        "\n",
        "    else:\n",
        "      print(f\"'{sentence}' is NOT a paragram.\")\n",
        "\n",
        "sentence = \"The qquick brown fox jumps over the lazy dog\"\n",
        "is_panagram(sentence)"
      ],
      "metadata": {
        "colab": {
          "base_uri": "https://localhost:8080/"
        },
        "id": "QYoaveVXa6HR",
        "outputId": "f3307a3f-d84c-4ad0-df31-511e5c143dca"
      },
      "execution_count": 286,
      "outputs": [
        {
          "output_type": "stream",
          "name": "stdout",
          "text": [
            "its theqquickbrownfoxjumpsoverthelazydog is panagram\n"
          ]
        }
      ]
    },
    {
      "cell_type": "markdown",
      "source": [
        "# 1-100 not print 3 multiples\n"
      ],
      "metadata": {
        "id": "BCaewy2Jg-aJ"
      }
    },
    {
      "cell_type": "code",
      "source": [
        "n=100\n",
        "for i in range(1,n+1):\n",
        "  if i %3==0:\n",
        "    continue\n",
        "  else:\n",
        "    print(i)"
      ],
      "metadata": {
        "colab": {
          "base_uri": "https://localhost:8080/"
        },
        "id": "tO5-qWhhg92g",
        "outputId": "f93d9900-9fb5-4244-8dbc-301ffe87afe6"
      },
      "execution_count": 287,
      "outputs": [
        {
          "output_type": "stream",
          "name": "stdout",
          "text": [
            "1\n",
            "2\n",
            "4\n",
            "5\n",
            "7\n",
            "8\n",
            "10\n",
            "11\n",
            "13\n",
            "14\n",
            "16\n",
            "17\n",
            "19\n",
            "20\n",
            "22\n",
            "23\n",
            "25\n",
            "26\n",
            "28\n",
            "29\n",
            "31\n",
            "32\n",
            "34\n",
            "35\n",
            "37\n",
            "38\n",
            "40\n",
            "41\n",
            "43\n",
            "44\n",
            "46\n",
            "47\n",
            "49\n",
            "50\n",
            "52\n",
            "53\n",
            "55\n",
            "56\n",
            "58\n",
            "59\n",
            "61\n",
            "62\n",
            "64\n",
            "65\n",
            "67\n",
            "68\n",
            "70\n",
            "71\n",
            "73\n",
            "74\n",
            "76\n",
            "77\n",
            "79\n",
            "80\n",
            "82\n",
            "83\n",
            "85\n",
            "86\n",
            "88\n",
            "89\n",
            "91\n",
            "92\n",
            "94\n",
            "95\n",
            "97\n",
            "98\n",
            "100\n"
          ]
        }
      ]
    },
    {
      "cell_type": "markdown",
      "source": [
        "# Leap year"
      ],
      "metadata": {
        "id": "Ks4lgeQuSKaf"
      }
    },
    {
      "cell_type": "code",
      "source": [
        "n=20\n",
        "if (n%4==0 and n%100 !=0) or n%400 == 0:\n",
        "  print(\"leap year\")\n",
        "else:\n",
        "  print(\" its not leap year\")"
      ],
      "metadata": {
        "colab": {
          "base_uri": "https://localhost:8080/"
        },
        "id": "a-74gc-tSMIG",
        "outputId": "f4e1a32e-6506-4048-a6e1-e44998b8f778"
      },
      "execution_count": 288,
      "outputs": [
        {
          "output_type": "stream",
          "name": "stdout",
          "text": [
            "leap year\n"
          ]
        }
      ]
    },
    {
      "cell_type": "markdown",
      "source": [
        "# Fibonacci series"
      ],
      "metadata": {
        "id": "EfeJbH7U_ouK"
      }
    },
    {
      "cell_type": "code",
      "source": [
        "n=10\n",
        "fib_seris=[0,1]\n",
        "for i in range(2,n):\n",
        "  fib_seris.append(fib_seris[i-1]+fib_seris[i-2])\n",
        "print(fib_seris)"
      ],
      "metadata": {
        "colab": {
          "base_uri": "https://localhost:8080/"
        },
        "id": "j8pS3eA5_oMb",
        "outputId": "75480e7b-6ca2-472b-8895-d476a08162c4"
      },
      "execution_count": 289,
      "outputs": [
        {
          "output_type": "stream",
          "name": "stdout",
          "text": [
            "[0, 1, 1, 2, 3, 5, 8, 13, 21, 34]\n"
          ]
        }
      ]
    },
    {
      "cell_type": "markdown",
      "source": [
        "# factorial\n",
        "\n",
        " Write a program to calculate the factorial of a number using a loop."
      ],
      "metadata": {
        "id": "5nifn9sjLvNF"
      }
    },
    {
      "cell_type": "code",
      "source": [
        "n=5\n",
        "a=1\n",
        "for i in range(1,n+1):\n",
        "  a=a*i\n",
        "print(a)"
      ],
      "metadata": {
        "id": "872UM8xiAGNa",
        "colab": {
          "base_uri": "https://localhost:8080/"
        },
        "outputId": "2b8d9efc-dc6f-46bd-8e6e-f8c3bf131f11"
      },
      "execution_count": 290,
      "outputs": [
        {
          "output_type": "stream",
          "name": "stdout",
          "text": [
            "120\n"
          ]
        }
      ]
    },
    {
      "cell_type": "code",
      "source": [
        "def fn(n):\n",
        "  if n==0 or n==1:\n",
        "    return 1\n",
        "  else:\n",
        "    return n*fn(n-1)\n",
        "print(fn(5))"
      ],
      "metadata": {
        "colab": {
          "base_uri": "https://localhost:8080/"
        },
        "id": "4playfDKUNJs",
        "outputId": "d15eee47-feb1-45c6-e1af-7076c5e4deb9"
      },
      "execution_count": 291,
      "outputs": [
        {
          "output_type": "stream",
          "name": "stdout",
          "text": [
            "120\n"
          ]
        }
      ]
    },
    {
      "cell_type": "markdown",
      "source": [
        "# lambda function"
      ],
      "metadata": {
        "id": "PZTJgyDCT5AG"
      }
    },
    {
      "cell_type": "markdown",
      "source": [
        "### map function"
      ],
      "metadata": {
        "id": "LDe0fVhVVZfX"
      }
    },
    {
      "cell_type": "code",
      "source": [
        "number=[1,2,3,4]\n",
        "s=list(map(lambda x: x*2,number))\n",
        "print(s)"
      ],
      "metadata": {
        "colab": {
          "base_uri": "https://localhost:8080/"
        },
        "id": "NvqZRnlOT-wN",
        "outputId": "abc24553-b9da-4e1b-8d48-b9c8cc4d92b7"
      },
      "execution_count": 292,
      "outputs": [
        {
          "output_type": "stream",
          "name": "stdout",
          "text": [
            "[2, 4, 6, 8]\n"
          ]
        }
      ]
    },
    {
      "cell_type": "markdown",
      "source": [
        "### Filter"
      ],
      "metadata": {
        "id": "J12iVq9DVzk4"
      }
    },
    {
      "cell_type": "code",
      "source": [
        "number=[1,2,3,4,5,6,7,8]\n",
        "even_numb=list(filter(lambda x:x%2 == 0, number))\n",
        "print(even_numb)"
      ],
      "metadata": {
        "colab": {
          "base_uri": "https://localhost:8080/"
        },
        "id": "Udq4Gx70V1i1",
        "outputId": "510f1424-670d-464b-fc63-6175a0eafd8a"
      },
      "execution_count": 293,
      "outputs": [
        {
          "output_type": "stream",
          "name": "stdout",
          "text": [
            "[2, 4, 6, 8]\n"
          ]
        }
      ]
    },
    {
      "cell_type": "code",
      "source": [
        "number=[1,2,3,4,5,6,7,8]\n",
        "odd_numb=list(filter(lambda x:x%2 !=0, number))\n",
        "print(odd_numb)"
      ],
      "metadata": {
        "colab": {
          "base_uri": "https://localhost:8080/"
        },
        "id": "LpGzzxvTWHl0",
        "outputId": "01be98e3-5c19-4f7c-a4ee-20055bfba564"
      },
      "execution_count": 294,
      "outputs": [
        {
          "output_type": "stream",
          "name": "stdout",
          "text": [
            "[1, 3, 5, 7]\n"
          ]
        }
      ]
    },
    {
      "cell_type": "markdown",
      "source": [
        "# Buble sort"
      ],
      "metadata": {
        "id": "6w1T2KZE-yZ7"
      }
    },
    {
      "cell_type": "code",
      "source": [
        "a=[50,40,100,25]\n",
        "for i in range(len(a)):\n",
        "  for j in range(len(a)-1):\n",
        "    if a[j]>a[j+1]: #cheking with index  if else: it go to next index elements\n",
        "      temp=a[j]  # tempeorory larger assigning\n",
        "      a[j]= a[j+1] # smaller assigning to a[j]\n",
        "      a[j+1]= temp # larger assigning to a[j+1]\n",
        "print(a)"
      ],
      "metadata": {
        "id": "rFRh-Dk4lVBW",
        "colab": {
          "base_uri": "https://localhost:8080/"
        },
        "outputId": "47f60cdf-1614-44f7-f560-9134bd362af8"
      },
      "execution_count": 295,
      "outputs": [
        {
          "output_type": "stream",
          "name": "stdout",
          "text": [
            "[25, 40, 50, 100]\n"
          ]
        }
      ]
    },
    {
      "cell_type": "code",
      "source": [
        "a=123\n",
        "b=str(a)\n",
        "for i in b[::-1]:\n",
        "  print(i)"
      ],
      "metadata": {
        "colab": {
          "base_uri": "https://localhost:8080/"
        },
        "id": "myprlcKTAA3r",
        "outputId": "2ee6c74a-edcd-4869-d958-fed58c8592d5"
      },
      "execution_count": 296,
      "outputs": [
        {
          "output_type": "stream",
          "name": "stdout",
          "text": [
            "3\n",
            "2\n",
            "1\n"
          ]
        }
      ]
    },
    {
      "cell_type": "code",
      "source": [
        "a=[50,40,130,125]\n",
        "for i in range(len(a)):\n",
        "  for j in range(len(a)-1):\n",
        "    if a[j]>a[j+1]:\n",
        "      temp=a[j]\n",
        "      a[j]=a[j+1]\n",
        "      a[j+1]=temp\n",
        "print(a)"
      ],
      "metadata": {
        "colab": {
          "base_uri": "https://localhost:8080/"
        },
        "id": "YewwoPV7AKWa",
        "outputId": "0615ed61-fd54-4115-949b-2990e2f573ab"
      },
      "execution_count": 297,
      "outputs": [
        {
          "output_type": "stream",
          "name": "stdout",
          "text": [
            "[40, 50, 125, 130]\n"
          ]
        }
      ]
    }
  ]
}